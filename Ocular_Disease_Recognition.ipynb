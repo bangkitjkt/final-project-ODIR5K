{
  "nbformat": 4,
  "nbformat_minor": 0,
  "metadata": {
    "colab": {
      "name": "Ocular Disease Recognition",
      "provenance": [],
      "collapsed_sections": []
    },
    "kernelspec": {
      "name": "python3",
      "display_name": "Python 3"
    }
  },
  "cells": [
    {
      "cell_type": "markdown",
      "metadata": {
        "id": "wamLzw8UOON8",
        "colab_type": "text"
      },
      "source": [
        "# Import data"
      ]
    },
    {
      "cell_type": "code",
      "metadata": {
        "id": "MYn6X_MMNeI0",
        "colab_type": "code",
        "colab": {}
      },
      "source": [
        "# Colab library to upload files to notebook\n",
        "from google.colab import files\n",
        "\n",
        "# Install Kaggle library\n",
        "!pip install -q kaggle"
      ],
      "execution_count": 0,
      "outputs": []
    },
    {
      "cell_type": "code",
      "metadata": {
        "id": "YmzPdaa4P145",
        "colab_type": "code",
        "outputId": "3d8ffa68-760e-499f-d21c-ee8ce566ba91",
        "colab": {
          "resources": {
            "http://localhost:8080/nbextensions/google.colab/files.js": {
              "data": "Ly8gQ29weXJpZ2h0IDIwMTcgR29vZ2xlIExMQwovLwovLyBMaWNlbnNlZCB1bmRlciB0aGUgQXBhY2hlIExpY2Vuc2UsIFZlcnNpb24gMi4wICh0aGUgIkxpY2Vuc2UiKTsKLy8geW91IG1heSBub3QgdXNlIHRoaXMgZmlsZSBleGNlcHQgaW4gY29tcGxpYW5jZSB3aXRoIHRoZSBMaWNlbnNlLgovLyBZb3UgbWF5IG9idGFpbiBhIGNvcHkgb2YgdGhlIExpY2Vuc2UgYXQKLy8KLy8gICAgICBodHRwOi8vd3d3LmFwYWNoZS5vcmcvbGljZW5zZXMvTElDRU5TRS0yLjAKLy8KLy8gVW5sZXNzIHJlcXVpcmVkIGJ5IGFwcGxpY2FibGUgbGF3IG9yIGFncmVlZCB0byBpbiB3cml0aW5nLCBzb2Z0d2FyZQovLyBkaXN0cmlidXRlZCB1bmRlciB0aGUgTGljZW5zZSBpcyBkaXN0cmlidXRlZCBvbiBhbiAiQVMgSVMiIEJBU0lTLAovLyBXSVRIT1VUIFdBUlJBTlRJRVMgT1IgQ09ORElUSU9OUyBPRiBBTlkgS0lORCwgZWl0aGVyIGV4cHJlc3Mgb3IgaW1wbGllZC4KLy8gU2VlIHRoZSBMaWNlbnNlIGZvciB0aGUgc3BlY2lmaWMgbGFuZ3VhZ2UgZ292ZXJuaW5nIHBlcm1pc3Npb25zIGFuZAovLyBsaW1pdGF0aW9ucyB1bmRlciB0aGUgTGljZW5zZS4KCi8qKgogKiBAZmlsZW92ZXJ2aWV3IEhlbHBlcnMgZm9yIGdvb2dsZS5jb2xhYiBQeXRob24gbW9kdWxlLgogKi8KKGZ1bmN0aW9uKHNjb3BlKSB7CmZ1bmN0aW9uIHNwYW4odGV4dCwgc3R5bGVBdHRyaWJ1dGVzID0ge30pIHsKICBjb25zdCBlbGVtZW50ID0gZG9jdW1lbnQuY3JlYXRlRWxlbWVudCgnc3BhbicpOwogIGVsZW1lbnQudGV4dENvbnRlbnQgPSB0ZXh0OwogIGZvciAoY29uc3Qga2V5IG9mIE9iamVjdC5rZXlzKHN0eWxlQXR0cmlidXRlcykpIHsKICAgIGVsZW1lbnQuc3R5bGVba2V5XSA9IHN0eWxlQXR0cmlidXRlc1trZXldOwogIH0KICByZXR1cm4gZWxlbWVudDsKfQoKLy8gTWF4IG51bWJlciBvZiBieXRlcyB3aGljaCB3aWxsIGJlIHVwbG9hZGVkIGF0IGEgdGltZS4KY29uc3QgTUFYX1BBWUxPQURfU0laRSA9IDEwMCAqIDEwMjQ7Ci8vIE1heCBhbW91bnQgb2YgdGltZSB0byBibG9jayB3YWl0aW5nIGZvciB0aGUgdXNlci4KY29uc3QgRklMRV9DSEFOR0VfVElNRU9VVF9NUyA9IDMwICogMTAwMDsKCmZ1bmN0aW9uIF91cGxvYWRGaWxlcyhpbnB1dElkLCBvdXRwdXRJZCkgewogIGNvbnN0IHN0ZXBzID0gdXBsb2FkRmlsZXNTdGVwKGlucHV0SWQsIG91dHB1dElkKTsKICBjb25zdCBvdXRwdXRFbGVtZW50ID0gZG9jdW1lbnQuZ2V0RWxlbWVudEJ5SWQob3V0cHV0SWQpOwogIC8vIENhY2hlIHN0ZXBzIG9uIHRoZSBvdXRwdXRFbGVtZW50IHRvIG1ha2UgaXQgYXZhaWxhYmxlIGZvciB0aGUgbmV4dCBjYWxsCiAgLy8gdG8gdXBsb2FkRmlsZXNDb250aW51ZSBmcm9tIFB5dGhvbi4KICBvdXRwdXRFbGVtZW50LnN0ZXBzID0gc3RlcHM7CgogIHJldHVybiBfdXBsb2FkRmlsZXNDb250aW51ZShvdXRwdXRJZCk7Cn0KCi8vIFRoaXMgaXMgcm91Z2hseSBhbiBhc3luYyBnZW5lcmF0b3IgKG5vdCBzdXBwb3J0ZWQgaW4gdGhlIGJyb3dzZXIgeWV0KSwKLy8gd2hlcmUgdGhlcmUgYXJlIG11bHRpcGxlIGFzeW5jaHJvbm91cyBzdGVwcyBhbmQgdGhlIFB5dGhvbiBzaWRlIGlzIGdvaW5nCi8vIHRvIHBvbGwgZm9yIGNvbXBsZXRpb24gb2YgZWFjaCBzdGVwLgovLyBUaGlzIHVzZXMgYSBQcm9taXNlIHRvIGJsb2NrIHRoZSBweXRob24gc2lkZSBvbiBjb21wbGV0aW9uIG9mIGVhY2ggc3RlcCwKLy8gdGhlbiBwYXNzZXMgdGhlIHJlc3VsdCBvZiB0aGUgcHJldmlvdXMgc3RlcCBhcyB0aGUgaW5wdXQgdG8gdGhlIG5leHQgc3RlcC4KZnVuY3Rpb24gX3VwbG9hZEZpbGVzQ29udGludWUob3V0cHV0SWQpIHsKICBjb25zdCBvdXRwdXRFbGVtZW50ID0gZG9jdW1lbnQuZ2V0RWxlbWVudEJ5SWQob3V0cHV0SWQpOwogIGNvbnN0IHN0ZXBzID0gb3V0cHV0RWxlbWVudC5zdGVwczsKCiAgY29uc3QgbmV4dCA9IHN0ZXBzLm5leHQob3V0cHV0RWxlbWVudC5sYXN0UHJvbWlzZVZhbHVlKTsKICByZXR1cm4gUHJvbWlzZS5yZXNvbHZlKG5leHQudmFsdWUucHJvbWlzZSkudGhlbigodmFsdWUpID0+IHsKICAgIC8vIENhY2hlIHRoZSBsYXN0IHByb21pc2UgdmFsdWUgdG8gbWFrZSBpdCBhdmFpbGFibGUgdG8gdGhlIG5leHQKICAgIC8vIHN0ZXAgb2YgdGhlIGdlbmVyYXRvci4KICAgIG91dHB1dEVsZW1lbnQubGFzdFByb21pc2VWYWx1ZSA9IHZhbHVlOwogICAgcmV0dXJuIG5leHQudmFsdWUucmVzcG9uc2U7CiAgfSk7Cn0KCi8qKgogKiBHZW5lcmF0b3IgZnVuY3Rpb24gd2hpY2ggaXMgY2FsbGVkIGJldHdlZW4gZWFjaCBhc3luYyBzdGVwIG9mIHRoZSB1cGxvYWQKICogcHJvY2Vzcy4KICogQHBhcmFtIHtzdHJpbmd9IGlucHV0SWQgRWxlbWVudCBJRCBvZiB0aGUgaW5wdXQgZmlsZSBwaWNrZXIgZWxlbWVudC4KICogQHBhcmFtIHtzdHJpbmd9IG91dHB1dElkIEVsZW1lbnQgSUQgb2YgdGhlIG91dHB1dCBkaXNwbGF5LgogKiBAcmV0dXJuIHshSXRlcmFibGU8IU9iamVjdD59IEl0ZXJhYmxlIG9mIG5leHQgc3RlcHMuCiAqLwpmdW5jdGlvbiogdXBsb2FkRmlsZXNTdGVwKGlucHV0SWQsIG91dHB1dElkKSB7CiAgY29uc3QgaW5wdXRFbGVtZW50ID0gZG9jdW1lbnQuZ2V0RWxlbWVudEJ5SWQoaW5wdXRJZCk7CiAgaW5wdXRFbGVtZW50LmRpc2FibGVkID0gZmFsc2U7CgogIGNvbnN0IG91dHB1dEVsZW1lbnQgPSBkb2N1bWVudC5nZXRFbGVtZW50QnlJZChvdXRwdXRJZCk7CiAgb3V0cHV0RWxlbWVudC5pbm5lckhUTUwgPSAnJzsKCiAgY29uc3QgcGlja2VkUHJvbWlzZSA9IG5ldyBQcm9taXNlKChyZXNvbHZlKSA9PiB7CiAgICBpbnB1dEVsZW1lbnQuYWRkRXZlbnRMaXN0ZW5lcignY2hhbmdlJywgKGUpID0+IHsKICAgICAgcmVzb2x2ZShlLnRhcmdldC5maWxlcyk7CiAgICB9KTsKICB9KTsKCiAgY29uc3QgY2FuY2VsID0gZG9jdW1lbnQuY3JlYXRlRWxlbWVudCgnYnV0dG9uJyk7CiAgaW5wdXRFbGVtZW50LnBhcmVudEVsZW1lbnQuYXBwZW5kQ2hpbGQoY2FuY2VsKTsKICBjYW5jZWwudGV4dENvbnRlbnQgPSAnQ2FuY2VsIHVwbG9hZCc7CiAgY29uc3QgY2FuY2VsUHJvbWlzZSA9IG5ldyBQcm9taXNlKChyZXNvbHZlKSA9PiB7CiAgICBjYW5jZWwub25jbGljayA9ICgpID0+IHsKICAgICAgcmVzb2x2ZShudWxsKTsKICAgIH07CiAgfSk7CgogIC8vIENhbmNlbCB1cGxvYWQgaWYgdXNlciBoYXNuJ3QgcGlja2VkIGFueXRoaW5nIGluIHRpbWVvdXQuCiAgY29uc3QgdGltZW91dFByb21pc2UgPSBuZXcgUHJvbWlzZSgocmVzb2x2ZSkgPT4gewogICAgc2V0VGltZW91dCgoKSA9PiB7CiAgICAgIHJlc29sdmUobnVsbCk7CiAgICB9LCBGSUxFX0NIQU5HRV9USU1FT1VUX01TKTsKICB9KTsKCiAgLy8gV2FpdCBmb3IgdGhlIHVzZXIgdG8gcGljayB0aGUgZmlsZXMuCiAgY29uc3QgZmlsZXMgPSB5aWVsZCB7CiAgICBwcm9taXNlOiBQcm9taXNlLnJhY2UoW3BpY2tlZFByb21pc2UsIHRpbWVvdXRQcm9taXNlLCBjYW5jZWxQcm9taXNlXSksCiAgICByZXNwb25zZTogewogICAgICBhY3Rpb246ICdzdGFydGluZycsCiAgICB9CiAgfTsKCiAgaWYgKCFmaWxlcykgewogICAgcmV0dXJuIHsKICAgICAgcmVzcG9uc2U6IHsKICAgICAgICBhY3Rpb246ICdjb21wbGV0ZScsCiAgICAgIH0KICAgIH07CiAgfQoKICBjYW5jZWwucmVtb3ZlKCk7CgogIC8vIERpc2FibGUgdGhlIGlucHV0IGVsZW1lbnQgc2luY2UgZnVydGhlciBwaWNrcyBhcmUgbm90IGFsbG93ZWQuCiAgaW5wdXRFbGVtZW50LmRpc2FibGVkID0gdHJ1ZTsKCiAgZm9yIChjb25zdCBmaWxlIG9mIGZpbGVzKSB7CiAgICBjb25zdCBsaSA9IGRvY3VtZW50LmNyZWF0ZUVsZW1lbnQoJ2xpJyk7CiAgICBsaS5hcHBlbmQoc3BhbihmaWxlLm5hbWUsIHtmb250V2VpZ2h0OiAnYm9sZCd9KSk7CiAgICBsaS5hcHBlbmQoc3BhbigKICAgICAgICBgKCR7ZmlsZS50eXBlIHx8ICduL2EnfSkgLSAke2ZpbGUuc2l6ZX0gYnl0ZXMsIGAgKwogICAgICAgIGBsYXN0IG1vZGlmaWVkOiAkewogICAgICAgICAgICBmaWxlLmxhc3RNb2RpZmllZERhdGUgPyBmaWxlLmxhc3RNb2RpZmllZERhdGUudG9Mb2NhbGVEYXRlU3RyaW5nKCkgOgogICAgICAgICAgICAgICAgICAgICAgICAgICAgICAgICAgICAnbi9hJ30gLSBgKSk7CiAgICBjb25zdCBwZXJjZW50ID0gc3BhbignMCUgZG9uZScpOwogICAgbGkuYXBwZW5kQ2hpbGQocGVyY2VudCk7CgogICAgb3V0cHV0RWxlbWVudC5hcHBlbmRDaGlsZChsaSk7CgogICAgY29uc3QgZmlsZURhdGFQcm9taXNlID0gbmV3IFByb21pc2UoKHJlc29sdmUpID0+IHsKICAgICAgY29uc3QgcmVhZGVyID0gbmV3IEZpbGVSZWFkZXIoKTsKICAgICAgcmVhZGVyLm9ubG9hZCA9IChlKSA9PiB7CiAgICAgICAgcmVzb2x2ZShlLnRhcmdldC5yZXN1bHQpOwogICAgICB9OwogICAgICByZWFkZXIucmVhZEFzQXJyYXlCdWZmZXIoZmlsZSk7CiAgICB9KTsKICAgIC8vIFdhaXQgZm9yIHRoZSBkYXRhIHRvIGJlIHJlYWR5LgogICAgbGV0IGZpbGVEYXRhID0geWllbGQgewogICAgICBwcm9taXNlOiBmaWxlRGF0YVByb21pc2UsCiAgICAgIHJlc3BvbnNlOiB7CiAgICAgICAgYWN0aW9uOiAnY29udGludWUnLAogICAgICB9CiAgICB9OwoKICAgIC8vIFVzZSBhIGNodW5rZWQgc2VuZGluZyB0byBhdm9pZCBtZXNzYWdlIHNpemUgbGltaXRzLiBTZWUgYi82MjExNTY2MC4KICAgIGxldCBwb3NpdGlvbiA9IDA7CiAgICB3aGlsZSAocG9zaXRpb24gPCBmaWxlRGF0YS5ieXRlTGVuZ3RoKSB7CiAgICAgIGNvbnN0IGxlbmd0aCA9IE1hdGgubWluKGZpbGVEYXRhLmJ5dGVMZW5ndGggLSBwb3NpdGlvbiwgTUFYX1BBWUxPQURfU0laRSk7CiAgICAgIGNvbnN0IGNodW5rID0gbmV3IFVpbnQ4QXJyYXkoZmlsZURhdGEsIHBvc2l0aW9uLCBsZW5ndGgpOwogICAgICBwb3NpdGlvbiArPSBsZW5ndGg7CgogICAgICBjb25zdCBiYXNlNjQgPSBidG9hKFN0cmluZy5mcm9tQ2hhckNvZGUuYXBwbHkobnVsbCwgY2h1bmspKTsKICAgICAgeWllbGQgewogICAgICAgIHJlc3BvbnNlOiB7CiAgICAgICAgICBhY3Rpb246ICdhcHBlbmQnLAogICAgICAgICAgZmlsZTogZmlsZS5uYW1lLAogICAgICAgICAgZGF0YTogYmFzZTY0LAogICAgICAgIH0sCiAgICAgIH07CiAgICAgIHBlcmNlbnQudGV4dENvbnRlbnQgPQogICAgICAgICAgYCR7TWF0aC5yb3VuZCgocG9zaXRpb24gLyBmaWxlRGF0YS5ieXRlTGVuZ3RoKSAqIDEwMCl9JSBkb25lYDsKICAgIH0KICB9CgogIC8vIEFsbCBkb25lLgogIHlpZWxkIHsKICAgIHJlc3BvbnNlOiB7CiAgICAgIGFjdGlvbjogJ2NvbXBsZXRlJywKICAgIH0KICB9Owp9CgpzY29wZS5nb29nbGUgPSBzY29wZS5nb29nbGUgfHwge307CnNjb3BlLmdvb2dsZS5jb2xhYiA9IHNjb3BlLmdvb2dsZS5jb2xhYiB8fCB7fTsKc2NvcGUuZ29vZ2xlLmNvbGFiLl9maWxlcyA9IHsKICBfdXBsb2FkRmlsZXMsCiAgX3VwbG9hZEZpbGVzQ29udGludWUsCn07Cn0pKHNlbGYpOwo=",
              "ok": true,
              "headers": [
                [
                  "content-type",
                  "application/javascript"
                ]
              ],
              "status": 200,
              "status_text": ""
            }
          },
          "base_uri": "https://localhost:8080/",
          "height": 74
        }
      },
      "source": [
        "# Upload kaggle API key file\n",
        "uploaded = files.upload()"
      ],
      "execution_count": 0,
      "outputs": [
        {
          "output_type": "display_data",
          "data": {
            "text/html": [
              "\n",
              "     <input type=\"file\" id=\"files-48b0dacf-b698-472a-a474-5a4dea3cc207\" name=\"files[]\" multiple disabled />\n",
              "     <output id=\"result-48b0dacf-b698-472a-a474-5a4dea3cc207\">\n",
              "      Upload widget is only available when the cell has been executed in the\n",
              "      current browser session. Please rerun this cell to enable.\n",
              "      </output>\n",
              "      <script src=\"/nbextensions/google.colab/files.js\"></script> "
            ],
            "text/plain": [
              "<IPython.core.display.HTML object>"
            ]
          },
          "metadata": {
            "tags": []
          }
        },
        {
          "output_type": "stream",
          "text": [
            "Saving kaggle.json to kaggle.json\n"
          ],
          "name": "stdout"
        }
      ]
    },
    {
      "cell_type": "code",
      "metadata": {
        "id": "921QewBfRl8H",
        "colab_type": "code",
        "colab": {}
      },
      "source": [
        "!mkdir -p ~/.kaggle\n",
        "!cp kaggle.json ~/.kaggle/\n",
        "!chmod 600 ~/.kaggle/kaggle.json"
      ],
      "execution_count": 0,
      "outputs": []
    },
    {
      "cell_type": "code",
      "metadata": {
        "id": "agzm0hFkP7dK",
        "colab_type": "code",
        "outputId": "55710c23-97b5-424f-84a7-d134a83a6b8f",
        "colab": {
          "base_uri": "https://localhost:8080/",
          "height": 68
        }
      },
      "source": [
        "# Download ocular disease recognition dataset\n",
        "!kaggle datasets download -d andrewmvd/ocular-disease-recognition-odir5k"
      ],
      "execution_count": 0,
      "outputs": [
        {
          "output_type": "stream",
          "text": [
            "Downloading ocular-disease-recognition-odir5k.zip to /content\n",
            "100% 1.25G/1.26G [00:09<00:00, 125MB/s]\n",
            "100% 1.26G/1.26G [00:09<00:00, 137MB/s]\n"
          ],
          "name": "stdout"
        }
      ]
    },
    {
      "cell_type": "code",
      "metadata": {
        "id": "NAAoyXdbRzrp",
        "colab_type": "code",
        "colab": {}
      },
      "source": [
        "# Extract the data\n",
        "import zipfile\n",
        "zip_ref = zipfile.ZipFile('ocular-disease-recognition-odir5k.zip', 'r')\n",
        "zip_ref.extractall('files')\n",
        "zip_ref.close()"
      ],
      "execution_count": 0,
      "outputs": []
    },
    {
      "cell_type": "markdown",
      "metadata": {
        "id": "iR9XQnAZW-Yc",
        "colab_type": "text"
      },
      "source": [
        "# Import packages"
      ]
    },
    {
      "cell_type": "code",
      "metadata": {
        "id": "0sfYZmfuXA2c",
        "colab_type": "code",
        "colab": {}
      },
      "source": [
        "import pandas as pd\n",
        "import numpy as np"
      ],
      "execution_count": 0,
      "outputs": []
    },
    {
      "cell_type": "markdown",
      "metadata": {
        "id": "uticoteeXHon",
        "colab_type": "text"
      },
      "source": [
        "# Read data input"
      ]
    },
    {
      "cell_type": "code",
      "metadata": {
        "id": "u1y7HIFnXLFb",
        "colab_type": "code",
        "colab": {}
      },
      "source": [
        "df = pd.read_excel('/content/files/ODIR-5K/data.xlsx')"
      ],
      "execution_count": 0,
      "outputs": []
    },
    {
      "cell_type": "code",
      "metadata": {
        "id": "hO-5TGGzuL71",
        "colab_type": "code",
        "outputId": "e57d2db1-84a7-4983-fff6-6f3a13d2634b",
        "colab": {
          "base_uri": "https://localhost:8080/",
          "height": 272
        }
      },
      "source": [
        "df.head()"
      ],
      "execution_count": 14,
      "outputs": [
        {
          "output_type": "execute_result",
          "data": {
            "text/html": [
              "<div>\n",
              "<style scoped>\n",
              "    .dataframe tbody tr th:only-of-type {\n",
              "        vertical-align: middle;\n",
              "    }\n",
              "\n",
              "    .dataframe tbody tr th {\n",
              "        vertical-align: top;\n",
              "    }\n",
              "\n",
              "    .dataframe thead th {\n",
              "        text-align: right;\n",
              "    }\n",
              "</style>\n",
              "<table border=\"1\" class=\"dataframe\">\n",
              "  <thead>\n",
              "    <tr style=\"text-align: right;\">\n",
              "      <th></th>\n",
              "      <th>ID</th>\n",
              "      <th>Patient Age</th>\n",
              "      <th>Patient Sex</th>\n",
              "      <th>Left-Fundus</th>\n",
              "      <th>Right-Fundus</th>\n",
              "      <th>Left-Diagnostic Keywords</th>\n",
              "      <th>Right-Diagnostic Keywords</th>\n",
              "      <th>N</th>\n",
              "      <th>D</th>\n",
              "      <th>G</th>\n",
              "      <th>C</th>\n",
              "      <th>A</th>\n",
              "      <th>H</th>\n",
              "      <th>M</th>\n",
              "      <th>O</th>\n",
              "    </tr>\n",
              "  </thead>\n",
              "  <tbody>\n",
              "    <tr>\n",
              "      <th>0</th>\n",
              "      <td>0</td>\n",
              "      <td>69</td>\n",
              "      <td>Female</td>\n",
              "      <td>0_left.jpg</td>\n",
              "      <td>0_right.jpg</td>\n",
              "      <td>cataract</td>\n",
              "      <td>normal fundus</td>\n",
              "      <td>0</td>\n",
              "      <td>0</td>\n",
              "      <td>0</td>\n",
              "      <td>1</td>\n",
              "      <td>0</td>\n",
              "      <td>0</td>\n",
              "      <td>0</td>\n",
              "      <td>0</td>\n",
              "    </tr>\n",
              "    <tr>\n",
              "      <th>1</th>\n",
              "      <td>1</td>\n",
              "      <td>57</td>\n",
              "      <td>Male</td>\n",
              "      <td>1_left.jpg</td>\n",
              "      <td>1_right.jpg</td>\n",
              "      <td>normal fundus</td>\n",
              "      <td>normal fundus</td>\n",
              "      <td>1</td>\n",
              "      <td>0</td>\n",
              "      <td>0</td>\n",
              "      <td>0</td>\n",
              "      <td>0</td>\n",
              "      <td>0</td>\n",
              "      <td>0</td>\n",
              "      <td>0</td>\n",
              "    </tr>\n",
              "    <tr>\n",
              "      <th>2</th>\n",
              "      <td>2</td>\n",
              "      <td>42</td>\n",
              "      <td>Male</td>\n",
              "      <td>2_left.jpg</td>\n",
              "      <td>2_right.jpg</td>\n",
              "      <td>laser spot，moderate non proliferative retinopathy</td>\n",
              "      <td>moderate non proliferative retinopathy</td>\n",
              "      <td>0</td>\n",
              "      <td>1</td>\n",
              "      <td>0</td>\n",
              "      <td>0</td>\n",
              "      <td>0</td>\n",
              "      <td>0</td>\n",
              "      <td>0</td>\n",
              "      <td>1</td>\n",
              "    </tr>\n",
              "    <tr>\n",
              "      <th>3</th>\n",
              "      <td>3</td>\n",
              "      <td>66</td>\n",
              "      <td>Male</td>\n",
              "      <td>3_left.jpg</td>\n",
              "      <td>3_right.jpg</td>\n",
              "      <td>normal fundus</td>\n",
              "      <td>branch retinal artery occlusion</td>\n",
              "      <td>0</td>\n",
              "      <td>0</td>\n",
              "      <td>0</td>\n",
              "      <td>0</td>\n",
              "      <td>0</td>\n",
              "      <td>0</td>\n",
              "      <td>0</td>\n",
              "      <td>1</td>\n",
              "    </tr>\n",
              "    <tr>\n",
              "      <th>4</th>\n",
              "      <td>4</td>\n",
              "      <td>53</td>\n",
              "      <td>Male</td>\n",
              "      <td>4_left.jpg</td>\n",
              "      <td>4_right.jpg</td>\n",
              "      <td>macular epiretinal membrane</td>\n",
              "      <td>mild nonproliferative retinopathy</td>\n",
              "      <td>0</td>\n",
              "      <td>1</td>\n",
              "      <td>0</td>\n",
              "      <td>0</td>\n",
              "      <td>0</td>\n",
              "      <td>0</td>\n",
              "      <td>0</td>\n",
              "      <td>1</td>\n",
              "    </tr>\n",
              "  </tbody>\n",
              "</table>\n",
              "</div>"
            ],
            "text/plain": [
              "   ID  Patient Age Patient Sex Left-Fundus Right-Fundus  ...  C  A  H  M  O\n",
              "0   0           69      Female  0_left.jpg  0_right.jpg  ...  1  0  0  0  0\n",
              "1   1           57        Male  1_left.jpg  1_right.jpg  ...  0  0  0  0  0\n",
              "2   2           42        Male  2_left.jpg  2_right.jpg  ...  0  0  0  0  1\n",
              "3   3           66        Male  3_left.jpg  3_right.jpg  ...  0  0  0  0  1\n",
              "4   4           53        Male  4_left.jpg  4_right.jpg  ...  0  0  0  0  1\n",
              "\n",
              "[5 rows x 15 columns]"
            ]
          },
          "metadata": {
            "tags": []
          },
          "execution_count": 14
        }
      ]
    },
    {
      "cell_type": "markdown",
      "metadata": {
        "id": "etVTpxF8Ejc4",
        "colab_type": "text"
      },
      "source": [
        "# Create unique diagnostic keywords for each label"
      ]
    },
    {
      "cell_type": "code",
      "metadata": {
        "id": "IPYwuTEqy_-8",
        "colab_type": "code",
        "outputId": "36e8a6a1-fa1b-4757-cc31-369ec2f400c2",
        "colab": {
          "base_uri": "https://localhost:8080/",
          "height": 1000
        }
      },
      "source": [
        "# Create an array containing diagnostic keyword for each label\n",
        "keyword = []\n",
        "\n",
        "for column in df1.columns[7:15]:\n",
        "  label_keyword = pd.concat([df1['Left-Diagnostic Keywords'][df[column]==1].str.split(\"，\").explode(),\n",
        "                            df1['Right-Diagnostic Keywords'][df[column]==1].str.split(\"，\").explode()]) \\\n",
        "                            .drop_duplicates().values.tolist()\n",
        "  keyword.append(label_keyword)\n",
        "\n",
        "keyword"
      ],
      "execution_count": 20,
      "outputs": [
        {
          "output_type": "execute_result",
          "data": {
            "text/plain": [
              "[['normal fundus', 'lens dust', 'low image quality'],\n",
              " ['laser spot',\n",
              "  'moderate non proliferative retinopathy',\n",
              "  'macular epiretinal membrane',\n",
              "  'drusen',\n",
              "  'hypertensive retinopathy',\n",
              "  'mild nonproliferative retinopathy',\n",
              "  'normal fundus',\n",
              "  'epiretinal membrane',\n",
              "  'myelinated nerve fibers',\n",
              "  'diabetic retinopathy',\n",
              "  'white vessel',\n",
              "  'cataract',\n",
              "  'retinitis pigmentosa',\n",
              "  'retina fold',\n",
              "  'lens dust',\n",
              "  'vitreous degeneration',\n",
              "  'retinal pigment epithelium atrophy',\n",
              "  'severe nonproliferative retinopathy',\n",
              "  'proliferative diabetic retinopathy',\n",
              "  'branch retinal vein occlusion',\n",
              "  'epiretinal membrane over the macula',\n",
              "  'dry age-related macular degeneration',\n",
              "  'pathological myopia',\n",
              "  'old choroiditis',\n",
              "  'optic disk epiretinal membrane',\n",
              "  'spotted membranous change',\n",
              "  'optic disk photographically invisible',\n",
              "  'chorioretinal atrophy',\n",
              "  'central retinal vein occlusion',\n",
              "  'retinal pigmentation',\n",
              "  'post laser photocoagulation',\n",
              "  'severe proliferative diabetic retinopathy',\n",
              "  'optic disc edema',\n",
              "  'wet age-related macular degeneration',\n",
              "  'suspected glaucoma',\n",
              "  'suspicious diabetic retinopathy',\n",
              "  'suspected diabetic retinopathy',\n",
              "  'atrophic change',\n",
              "  'glaucoma',\n",
              "  'suspected moderate non proliferative retinopathy',\n",
              "  'anterior segment image',\n",
              "  'low image quality',\n",
              "  'post retinal laser surgery',\n",
              "  'no fundus image',\n",
              "  'abnormal pigment ',\n",
              "  'suspected microvascular anomalies',\n",
              "  'pigment epithelium proliferation',\n",
              "  'post laser photocoagulation,diabetic retinopathy,maculopathy',\n",
              "  'maculopathy',\n",
              "  'central retinal artery occlusion',\n",
              "  'retinal pigment epithelial hypertrophy',\n",
              "  'chorioretinal atrophy with pigmentation proliferation',\n",
              "  'refractive media opacity',\n",
              "  'vessel tortuosity',\n",
              "  'glial remnants anterior to the optic disc',\n",
              "  'vascular loops',\n",
              "  'old branch retinal vein occlusion',\n",
              "  'age-related macular degeneration',\n",
              "  'intraretinal microvascular abnormality'],\n",
              " ['post laser photocoagulation',\n",
              "  'glaucoma',\n",
              "  'wet age-related macular degeneration',\n",
              "  'suspected glaucoma',\n",
              "  'dry age-related macular degeneration',\n",
              "  'hypertensive retinopathy',\n",
              "  'suspicious diabetic retinopathy',\n",
              "  'moderate non proliferative retinopathy',\n",
              "  'optic nerve atrophy',\n",
              "  'myopia retinopathy',\n",
              "  'macular epiretinal membrane',\n",
              "  'diabetic retinopathy',\n",
              "  'image offset',\n",
              "  'optic disk photographically invisible',\n",
              "  'diffuse retinal atrophy',\n",
              "  'normal fundus',\n",
              "  'fundus laser photocoagulation spots',\n",
              "  'intraretinal hemorrhage',\n",
              "  'lens dust',\n",
              "  'refractive media opacity',\n",
              "  'mild nonproliferative retinopathy',\n",
              "  'white vessel',\n",
              "  'cataract',\n",
              "  'drusen',\n",
              "  'tessellated fundus',\n",
              "  'epiretinal membrane',\n",
              "  'laser spot',\n",
              "  'chorioretinal atrophy',\n",
              "  'maculopathy',\n",
              "  'myelinated nerve fibers',\n",
              "  'old central retinal vein occlusion',\n",
              "  'myopic maculopathy',\n",
              "  'vitreous degeneration',\n",
              "  'suspected cataract'],\n",
              " ['cataract',\n",
              "  'normal fundus',\n",
              "  'moderate non proliferative retinopathy',\n",
              "  'refractive media opacity',\n",
              "  'hypertensive retinopathy',\n",
              "  'drusen',\n",
              "  'lens dust',\n",
              "  'mild nonproliferative retinopathy',\n",
              "  'epiretinal membrane',\n",
              "  'glaucoma',\n",
              "  'laser spot',\n",
              "  'severe proliferative diabetic retinopathy',\n",
              "  'macular epiretinal membrane',\n",
              "  'suspected glaucoma',\n",
              "  'myelinated nerve fibers',\n",
              "  'suspected cataract'],\n",
              " ['wet age-related macular degeneration',\n",
              "  'dry age-related macular degeneration',\n",
              "  'diabetic retinopathy',\n",
              "  'glaucoma',\n",
              "  'normal fundus',\n",
              "  'hypertensive retinopathy',\n",
              "  'myopia retinopathy',\n",
              "  'diffuse chorioretinal atrophy',\n",
              "  'refractive media opacity',\n",
              "  'choroidal nevus',\n",
              "  'image offset',\n",
              "  'tessellated fundus',\n",
              "  'drusen',\n",
              "  'optic nerve atrophy',\n",
              "  'mild nonproliferative retinopathy',\n",
              "  'moderate non proliferative retinopathy',\n",
              "  'age-related macular degeneration',\n",
              "  'macular epiretinal membrane',\n",
              "  'post laser photocoagulation',\n",
              "  'myelinated nerve fibers',\n",
              "  'old branch retinal vein occlusion',\n",
              "  'central serous chorioretinopathy'],\n",
              " ['moderate non proliferative retinopathy',\n",
              "  'hypertensive retinopathy',\n",
              "  'suspected glaucoma',\n",
              "  'proliferative diabetic retinopathy',\n",
              "  'severe nonproliferative retinopathy',\n",
              "  'optic nerve atrophy',\n",
              "  'mild nonproliferative retinopathy',\n",
              "  'old chorioretinopathy',\n",
              "  'suspected diabetic retinopathy',\n",
              "  'dry age-related macular degeneration',\n",
              "  'drusen',\n",
              "  'glaucoma',\n",
              "  'cataract',\n",
              "  'diabetic retinopathy',\n",
              "  'age-related macular degeneration',\n",
              "  'wet age-related macular degeneration',\n",
              "  'branch retinal vein occlusion',\n",
              "  'old branch retinal vein occlusion',\n",
              "  'maculopathy',\n",
              "  'macular epiretinal membrane',\n",
              "  'vitreous opacity'],\n",
              " ['pathological myopia',\n",
              "  'normal fundus',\n",
              "  'moderate non proliferative retinopathy',\n",
              "  'mild nonproliferative retinopathy',\n",
              "  'punctate inner choroidopathy',\n",
              "  'myopia retinopathy',\n",
              "  'myopic maculopathy',\n",
              "  'wet age-related macular degeneration',\n",
              "  'lens dust',\n",
              "  'drusen',\n",
              "  'dry age-related macular degeneration',\n",
              "  'glaucoma',\n",
              "  'myopic retinopathy',\n",
              "  'refractive media opacity',\n",
              "  'suspected moderate non proliferative retinopathy',\n",
              "  'tessellated fundus',\n",
              "  'peripapillary atrophy',\n",
              "  'chorioretinal atrophy',\n",
              "  'epiretinal membrane',\n",
              "  'anterior segment image',\n",
              "  'old chorioretinopathy',\n",
              "  'suspected macular epimacular membrane',\n",
              "  'retinal detachment'],\n",
              " ['laser spot',\n",
              "  'moderate non proliferative retinopathy',\n",
              "  'normal fundus',\n",
              "  'macular epiretinal membrane',\n",
              "  'drusen',\n",
              "  'epiretinal membrane',\n",
              "  'retinal pigmentation',\n",
              "  'rhegmatogenous retinal detachment',\n",
              "  'post laser photocoagulation',\n",
              "  'glaucoma',\n",
              "  'lens dust',\n",
              "  'spotted membranous change',\n",
              "  'mild nonproliferative retinopathy',\n",
              "  'macular hole',\n",
              "  'myelinated nerve fibers',\n",
              "  'diabetic retinopathy',\n",
              "  'atrophy',\n",
              "  'white vessel',\n",
              "  'retinochoroidal coloboma',\n",
              "  'chorioretinal atrophy',\n",
              "  'retinitis pigmentosa',\n",
              "  'retina fold',\n",
              "  'vitreous degeneration',\n",
              "  'branch retinal vein occlusion',\n",
              "  'optic disc edema',\n",
              "  'retinal pigment epithelium atrophy',\n",
              "  'depigmentation of the retinal pigment epithelium',\n",
              "  'severe nonproliferative retinopathy',\n",
              "  'cataract',\n",
              "  'wet age-related macular degeneration',\n",
              "  'refractive media opacity',\n",
              "  'epiretinal membrane over the macula',\n",
              "  'central retinal vein occlusion',\n",
              "  'tessellated fundus',\n",
              "  'suspected retinal vascular sheathing',\n",
              "  'maculopathy',\n",
              "  'macular coloboma',\n",
              "  'vessel tortuosity',\n",
              "  'hypertensive retinopathy',\n",
              "  'optic nerve atrophy',\n",
              "  'branch retinal artery occlusion',\n",
              "  'wedge white line change',\n",
              "  'low image quality,maculopathy',\n",
              "  'punctate inner choroidopathy',\n",
              "  'myopia retinopathy',\n",
              "  'old choroiditis',\n",
              "  'chorioretinal atrophy with pigmentation proliferation',\n",
              "  'dry age-related macular degeneration',\n",
              "  'proliferative diabetic retinopathy',\n",
              "  'pigment epithelium proliferation',\n",
              "  'optic disk epiretinal membrane',\n",
              "  'old chorioretinopathy',\n",
              "  'severe proliferative diabetic retinopathy',\n",
              "  'old branch retinal vein occlusion',\n",
              "  'asteroid hyalosis',\n",
              "  'pathological myopia',\n",
              "  'idiopathic choroidal neovascularization',\n",
              "  'diffuse chorioretinal atrophy',\n",
              "  'atrophic change',\n",
              "  'arteriosclerosis',\n",
              "  'silicone oil eye',\n",
              "  'choroidal nevus',\n",
              "  'diffuse retinal atrophy',\n",
              "  'fundus laser photocoagulation spots',\n",
              "  'intraretinal hemorrhage',\n",
              "  'suspected glaucoma',\n",
              "  'peripapillary atrophy',\n",
              "  'post retinal laser surgery',\n",
              "  'abnormal pigment ',\n",
              "  'central retinal artery occlusion',\n",
              "  'suspected microvascular anomalies',\n",
              "  'oval yellow-white atrophy',\n",
              "  'wedge-shaped change',\n",
              "  'low image quality',\n",
              "  'congenital choroidal coloboma',\n",
              "  'post laser photocoagulation,diabetic retinopathy,maculopathy',\n",
              "  'morning glory syndrome',\n",
              "  'retinal pigment epithelial hypertrophy',\n",
              "  'retinal artery macroaneurysm',\n",
              "  'glial remnants anterior to the optic disc',\n",
              "  'vascular loops',\n",
              "  'optic discitis',\n",
              "  'pigmentation disorder',\n",
              "  'retinal vascular sheathing',\n",
              "  'suspected retinitis pigmentosa',\n",
              "  'old central retinal vein occlusion',\n",
              "  'suspected abnormal color of  optic disc',\n",
              "  'vitreous opacity',\n",
              "  'suspected macular epimacular membrane',\n",
              "  'retinal detachment',\n",
              "  'central serous chorioretinopathy',\n",
              "  'intraretinal microvascular abnormality']]"
            ]
          },
          "metadata": {
            "tags": []
          },
          "execution_count": 20
        }
      ]
    },
    {
      "cell_type": "code",
      "metadata": {
        "id": "A8e4Tt1PPRyV",
        "colab_type": "code",
        "colab": {}
      },
      "source": [
        "# Remove rows with three labels\n",
        "three_label = ['01010001', '01000101', '00110001', '01001010', '00100011',\n",
        "               '00100101', '01100001', '01000011', '01100010', '00101001', '01001001']\n",
        "numpattern = df.iloc[:,7:15].apply(lambda x: ''.join(x.map(str)), axis=1)\n",
        "\n",
        "index = []\n",
        "for idx, value in numpattern.items():\n",
        "  if value in three_label:\n",
        "    index.append(idx)\n",
        "\n",
        "len(index)\n",
        "df1 = df.drop(index=index)"
      ],
      "execution_count": 0,
      "outputs": []
    },
    {
      "cell_type": "code",
      "metadata": {
        "id": "YmqkjQME9uLe",
        "colab_type": "code",
        "colab": {}
      },
      "source": [
        "# Python program to illustrate the intersection \n",
        "# of two lists using set() method \n",
        "def isect(lst1, lst2): \n",
        "    return set(lst1) & set(lst2)"
      ],
      "execution_count": 0,
      "outputs": []
    },
    {
      "cell_type": "code",
      "metadata": {
        "id": "Da5V9SRGKMi2",
        "colab_type": "code",
        "outputId": "ef9d4286-3f67-4eac-9156-fd701fb70f05",
        "colab": {
          "base_uri": "https://localhost:8080/",
          "height": 646
        }
      },
      "source": [
        "# Create a list containing unique label combination in a dataset\n",
        "num_pattern = df.iloc[:,7:15].apply(lambda x: ''.join(x.map(str)), axis=1).unique().tolist()\n",
        "label = ['N', 'D', 'G', 'C', 'A', 'H', 'M', 'O']\n",
        "\n",
        "pattern = []\n",
        "for idx1, code in enumerate(num_pattern):\n",
        "  temp = []\n",
        "  for idx2, char in enumerate(code):\n",
        "    if char == '1':\n",
        "      temp.append(label[idx2])\n",
        "      merge = ''.join(temp)\n",
        "  pattern.append(merge)\n",
        "  \n",
        "pattern"
      ],
      "execution_count": 16,
      "outputs": [
        {
          "output_type": "execute_result",
          "data": {
            "text/plain": [
              "['C',\n",
              " 'N',\n",
              " 'DO',\n",
              " 'O',\n",
              " 'D',\n",
              " 'DH',\n",
              " 'M',\n",
              " 'H',\n",
              " 'GO',\n",
              " 'GA',\n",
              " 'DM',\n",
              " 'A',\n",
              " 'DA',\n",
              " 'DC',\n",
              " 'GH',\n",
              " 'CO',\n",
              " 'AO',\n",
              " 'G',\n",
              " 'DCO',\n",
              " 'DHO',\n",
              " 'AH',\n",
              " 'HO',\n",
              " 'CH',\n",
              " 'MO',\n",
              " 'GCO',\n",
              " 'AM',\n",
              " 'DG',\n",
              " 'DAM',\n",
              " 'GMO',\n",
              " 'GM',\n",
              " 'GHO',\n",
              " 'DGO',\n",
              " 'GC',\n",
              " 'DMO',\n",
              " 'DGM',\n",
              " 'GAO',\n",
              " 'DAO']"
            ]
          },
          "metadata": {
            "tags": []
          },
          "execution_count": 16
        }
      ]
    },
    {
      "cell_type": "code",
      "metadata": {
        "id": "-yPOw0KVkcBB",
        "colab_type": "code",
        "colab": {
          "base_uri": "https://localhost:8080/",
          "height": 850
        },
        "outputId": "e873a942-00fd-47c3-9010-1c8785836612"
      },
      "source": [
        "#Create permutations of 2 samples from 7 labels\n",
        "from itertools import permutations\n",
        "\n",
        "comb = list(permutations(range(0, 8), 2))\n",
        "comb = comb[7::]\n",
        "comb"
      ],
      "execution_count": 31,
      "outputs": [
        {
          "output_type": "execute_result",
          "data": {
            "text/plain": [
              "[(1, 0),\n",
              " (1, 2),\n",
              " (1, 3),\n",
              " (1, 4),\n",
              " (1, 5),\n",
              " (1, 6),\n",
              " (1, 7),\n",
              " (2, 0),\n",
              " (2, 1),\n",
              " (2, 3),\n",
              " (2, 4),\n",
              " (2, 5),\n",
              " (2, 6),\n",
              " (2, 7),\n",
              " (3, 0),\n",
              " (3, 1),\n",
              " (3, 2),\n",
              " (3, 4),\n",
              " (3, 5),\n",
              " (3, 6),\n",
              " (3, 7),\n",
              " (4, 0),\n",
              " (4, 1),\n",
              " (4, 2),\n",
              " (4, 3),\n",
              " (4, 5),\n",
              " (4, 6),\n",
              " (4, 7),\n",
              " (5, 0),\n",
              " (5, 1),\n",
              " (5, 2),\n",
              " (5, 3),\n",
              " (5, 4),\n",
              " (5, 6),\n",
              " (5, 7),\n",
              " (6, 0),\n",
              " (6, 1),\n",
              " (6, 2),\n",
              " (6, 3),\n",
              " (6, 4),\n",
              " (6, 5),\n",
              " (6, 7),\n",
              " (7, 0),\n",
              " (7, 1),\n",
              " (7, 2),\n",
              " (7, 3),\n",
              " (7, 4),\n",
              " (7, 5),\n",
              " (7, 6)]"
            ]
          },
          "metadata": {
            "tags": []
          },
          "execution_count": 31
        }
      ]
    },
    {
      "cell_type": "code",
      "metadata": {
        "id": "SCQPG3yQ2OAv",
        "colab_type": "code",
        "outputId": "d5386564-61f3-4e44-f401-491e75bd17b9",
        "colab": {
          "base_uri": "https://localhost:8080/",
          "height": 544
        }
      },
      "source": [
        "# Create unique keyword for each label\n",
        "unique_keyword = [set(keyword[0])]\n",
        "\n",
        "for i in range(7):\n",
        "  sum = set(keyword[i+1])\n",
        "  for j in range(7):\n",
        "    k = j+7*i\n",
        "    sum = sum - isect(keyword[comb[k][0]], keyword[comb[k][1]])\n",
        "  unique_keyword.append(sum)\n",
        "\n",
        "unique_keyword"
      ],
      "execution_count": 35,
      "outputs": [
        {
          "output_type": "execute_result",
          "data": {
            "text/plain": [
              "[{'lens dust', 'low image quality', 'normal fundus'},\n",
              " {'no fundus image'},\n",
              " set(),\n",
              " set(),\n",
              " set(),\n",
              " set(),\n",
              " {'myopic retinopathy'},\n",
              " {'arteriosclerosis',\n",
              "  'asteroid hyalosis',\n",
              "  'atrophy',\n",
              "  'branch retinal artery occlusion',\n",
              "  'congenital choroidal coloboma',\n",
              "  'depigmentation of the retinal pigment epithelium',\n",
              "  'idiopathic choroidal neovascularization',\n",
              "  'low image quality,maculopathy',\n",
              "  'macular coloboma',\n",
              "  'macular hole',\n",
              "  'morning glory syndrome',\n",
              "  'optic discitis',\n",
              "  'oval yellow-white atrophy',\n",
              "  'pigmentation disorder',\n",
              "  'retinal artery macroaneurysm',\n",
              "  'retinal vascular sheathing',\n",
              "  'retinochoroidal coloboma',\n",
              "  'rhegmatogenous retinal detachment',\n",
              "  'silicone oil eye',\n",
              "  'suspected abnormal color of  optic disc',\n",
              "  'suspected retinal vascular sheathing',\n",
              "  'suspected retinitis pigmentosa',\n",
              "  'wedge white line change',\n",
              "  'wedge-shaped change'}]"
            ]
          },
          "metadata": {
            "tags": []
          },
          "execution_count": 35
        }
      ]
    },
    {
      "cell_type": "markdown",
      "metadata": {
        "id": "_y8GJ9K3tI0I",
        "colab_type": "text"
      },
      "source": [
        "# Sort image into subdirectory based on its label"
      ]
    },
    {
      "cell_type": "code",
      "metadata": {
        "id": "KsC3owf5r0aP",
        "colab_type": "code",
        "colab": {}
      },
      "source": [
        "# Merge images from testing and training folder\n",
        "import shutil\n",
        "import os\n",
        "\n",
        "source = '/content/files/ODIR-5K/Testing Images/'\n",
        "dest = '/content/files/ODIR-5K/Training Images'\n",
        "for file in os.listdir(source):\n",
        "  shutil.move(source+file,dest)"
      ],
      "execution_count": 0,
      "outputs": []
    },
    {
      "cell_type": "code",
      "metadata": {
        "id": "PQFR8cFxr0ZF",
        "colab_type": "code",
        "colab": {}
      },
      "source": [
        "# Delete image with 3 labels\n",
        "path = '/content/files/ODIR-5K/Images/'\n",
        "\n",
        "for file in os.listdir(path):\n",
        "  if file not in (pd.concat([df['Left-Fundus'], df['Right-Fundus']]).values.tolist()):\n",
        "    os.remove(path+file)"
      ],
      "execution_count": 0,
      "outputs": []
    }
  ]
}