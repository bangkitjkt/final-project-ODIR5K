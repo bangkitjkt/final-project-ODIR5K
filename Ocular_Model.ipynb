{
  "nbformat": 4,
  "nbformat_minor": 0,
  "metadata": {
    "colab": {
      "name": "final-project.ipynb",
      "provenance": [],
      "toc_visible": true
    },
    "kernelspec": {
      "name": "python3",
      "display_name": "Python 3"
    },
    "accelerator": "GPU"
  },
  "cells": [
    {
      "cell_type": "code",
      "metadata": {
        "id": "nvuJbJ_v7_4K",
        "colab_type": "code",
        "outputId": "81a50e0a-4d3d-4c6a-9eec-6bbe116ecbce",
        "colab": {
          "base_uri": "https://localhost:8080/",
          "height": 70
        }
      },
      "source": [
        "import os\n",
        "os.environ['KAGGLE_USERNAME'] = \"kaabima\" # username from the json file\n",
        "os.environ['KAGGLE_KEY'] = \"5c7f216ff1abf5cec9c8c005ca26ed9e\" # key from the json file\n",
        "!kaggle datasets download -d andrewmvd/ocular-disease-recognition-odir5k # api copied from kaggle"
      ],
      "execution_count": 1,
      "outputs": [
        {
          "output_type": "stream",
          "text": [
            "Downloading ocular-disease-recognition-odir5k.zip to /content\n",
            " 99% 1.24G/1.26G [00:41<00:00, 29.7MB/s]\n",
            "100% 1.26G/1.26G [00:41<00:00, 32.5MB/s]\n"
          ],
          "name": "stdout"
        }
      ]
    },
    {
      "cell_type": "code",
      "metadata": {
        "id": "HVu1J0jwWRgz",
        "colab_type": "code",
        "colab": {}
      },
      "source": [
        "!mkdir ocular_diseases"
      ],
      "execution_count": 0,
      "outputs": []
    },
    {
      "cell_type": "code",
      "metadata": {
        "id": "faIi-tXI8WcO",
        "colab_type": "code",
        "colab": {}
      },
      "source": [
        "!unzip ocular-disease-recognition-odir5k.zip -d ocular_diseases"
      ],
      "execution_count": 0,
      "outputs": []
    },
    {
      "cell_type": "code",
      "metadata": {
        "id": "_C4KB5lVkFgJ",
        "colab_type": "code",
        "colab": {}
      },
      "source": [
        "!mv ocular_diseases/ODIR-5K/'Training Images' ocular_diseases/ODIR-5K/'training_images'"
      ],
      "execution_count": 0,
      "outputs": []
    },
    {
      "cell_type": "code",
      "metadata": {
        "id": "zmnjGHQh8kfz",
        "colab_type": "code",
        "outputId": "e9e1989b-917f-409d-8532-f87d0fc67e63",
        "colab": {
          "base_uri": "https://localhost:8080/",
          "height": 34
        }
      },
      "source": [
        "!ls ocular_diseases/ODIR-5K/"
      ],
      "execution_count": 86,
      "outputs": [
        {
          "output_type": "stream",
          "text": [
            " data.xlsx  'Testing Images'   training_images\n"
          ],
          "name": "stdout"
        }
      ]
    },
    {
      "cell_type": "code",
      "metadata": {
        "id": "EXmdt01v3ztA",
        "colab_type": "code",
        "colab": {
          "base_uri": "https://localhost:8080/",
          "height": 34
        },
        "outputId": "f77ca4a2-f1f2-4476-8a11-872d8392cacf"
      },
      "source": [
        "len(os.listdir('/content/ocular_diseases/ODIR-5K/training_images'))"
      ],
      "execution_count": 87,
      "outputs": [
        {
          "output_type": "execute_result",
          "data": {
            "text/plain": [
              "7000"
            ]
          },
          "metadata": {
            "tags": []
          },
          "execution_count": 87
        }
      ]
    },
    {
      "cell_type": "code",
      "metadata": {
        "id": "NdTGTfN049BG",
        "colab_type": "code",
        "colab": {
          "base_uri": "https://localhost:8080/",
          "height": 34
        },
        "outputId": "3b15314b-141a-43c2-b775-df19de020b65"
      },
      "source": [
        "!find -name '4690_right.jpg'"
      ],
      "execution_count": 61,
      "outputs": [
        {
          "output_type": "stream",
          "text": [
            "./ocular_diseases/ODIR-5K/training_images/4690_right.jpg\n"
          ],
          "name": "stdout"
        }
      ]
    },
    {
      "cell_type": "code",
      "metadata": {
        "id": "GT6Q3TaF8oYz",
        "colab_type": "code",
        "colab": {}
      },
      "source": [
        "import tensorflow as tf\n",
        "import os\n",
        "from PIL import ImageFile\n",
        "ImageFile.LOAD_TRUNCATED_IMAGES = True\n",
        "from tensorflow.keras import layers\n",
        "from tensorflow.keras import Model\n",
        "import pandas as pd\n",
        "import numpy as np\n",
        "from shutil import copyfile"
      ],
      "execution_count": 0,
      "outputs": []
    },
    {
      "cell_type": "code",
      "metadata": {
        "id": "_wQNgOUiX8iM",
        "colab_type": "code",
        "colab": {}
      },
      "source": [
        "data_excel = pd.read_excel('./ocular_diseases/ODIR-5K/data.xlsx')"
      ],
      "execution_count": 0,
      "outputs": []
    },
    {
      "cell_type": "code",
      "metadata": {
        "id": "9QbHXx_QYEl4",
        "colab_type": "code",
        "outputId": "078b5606-e02b-4dc9-b18e-a888553934dc",
        "colab": {
          "base_uri": "https://localhost:8080/",
          "height": 195
        }
      },
      "source": [
        "data_excel.head()"
      ],
      "execution_count": 8,
      "outputs": [
        {
          "output_type": "execute_result",
          "data": {
            "text/html": [
              "<div>\n",
              "<style scoped>\n",
              "    .dataframe tbody tr th:only-of-type {\n",
              "        vertical-align: middle;\n",
              "    }\n",
              "\n",
              "    .dataframe tbody tr th {\n",
              "        vertical-align: top;\n",
              "    }\n",
              "\n",
              "    .dataframe thead th {\n",
              "        text-align: right;\n",
              "    }\n",
              "</style>\n",
              "<table border=\"1\" class=\"dataframe\">\n",
              "  <thead>\n",
              "    <tr style=\"text-align: right;\">\n",
              "      <th></th>\n",
              "      <th>ID</th>\n",
              "      <th>Patient Age</th>\n",
              "      <th>Patient Sex</th>\n",
              "      <th>Left-Fundus</th>\n",
              "      <th>Right-Fundus</th>\n",
              "      <th>Left-Diagnostic Keywords</th>\n",
              "      <th>Right-Diagnostic Keywords</th>\n",
              "      <th>N</th>\n",
              "      <th>D</th>\n",
              "      <th>G</th>\n",
              "      <th>C</th>\n",
              "      <th>A</th>\n",
              "      <th>H</th>\n",
              "      <th>M</th>\n",
              "      <th>O</th>\n",
              "    </tr>\n",
              "  </thead>\n",
              "  <tbody>\n",
              "    <tr>\n",
              "      <th>0</th>\n",
              "      <td>0</td>\n",
              "      <td>69</td>\n",
              "      <td>Female</td>\n",
              "      <td>0_left.jpg</td>\n",
              "      <td>0_right.jpg</td>\n",
              "      <td>cataract</td>\n",
              "      <td>normal fundus</td>\n",
              "      <td>0</td>\n",
              "      <td>0</td>\n",
              "      <td>0</td>\n",
              "      <td>1</td>\n",
              "      <td>0</td>\n",
              "      <td>0</td>\n",
              "      <td>0</td>\n",
              "      <td>0</td>\n",
              "    </tr>\n",
              "    <tr>\n",
              "      <th>1</th>\n",
              "      <td>1</td>\n",
              "      <td>57</td>\n",
              "      <td>Male</td>\n",
              "      <td>1_left.jpg</td>\n",
              "      <td>1_right.jpg</td>\n",
              "      <td>normal fundus</td>\n",
              "      <td>normal fundus</td>\n",
              "      <td>1</td>\n",
              "      <td>0</td>\n",
              "      <td>0</td>\n",
              "      <td>0</td>\n",
              "      <td>0</td>\n",
              "      <td>0</td>\n",
              "      <td>0</td>\n",
              "      <td>0</td>\n",
              "    </tr>\n",
              "    <tr>\n",
              "      <th>2</th>\n",
              "      <td>2</td>\n",
              "      <td>42</td>\n",
              "      <td>Male</td>\n",
              "      <td>2_left.jpg</td>\n",
              "      <td>2_right.jpg</td>\n",
              "      <td>laser spot，moderate non proliferative retinopathy</td>\n",
              "      <td>moderate non proliferative retinopathy</td>\n",
              "      <td>0</td>\n",
              "      <td>1</td>\n",
              "      <td>0</td>\n",
              "      <td>0</td>\n",
              "      <td>0</td>\n",
              "      <td>0</td>\n",
              "      <td>0</td>\n",
              "      <td>1</td>\n",
              "    </tr>\n",
              "    <tr>\n",
              "      <th>3</th>\n",
              "      <td>3</td>\n",
              "      <td>66</td>\n",
              "      <td>Male</td>\n",
              "      <td>3_left.jpg</td>\n",
              "      <td>3_right.jpg</td>\n",
              "      <td>normal fundus</td>\n",
              "      <td>branch retinal artery occlusion</td>\n",
              "      <td>0</td>\n",
              "      <td>0</td>\n",
              "      <td>0</td>\n",
              "      <td>0</td>\n",
              "      <td>0</td>\n",
              "      <td>0</td>\n",
              "      <td>0</td>\n",
              "      <td>1</td>\n",
              "    </tr>\n",
              "    <tr>\n",
              "      <th>4</th>\n",
              "      <td>4</td>\n",
              "      <td>53</td>\n",
              "      <td>Male</td>\n",
              "      <td>4_left.jpg</td>\n",
              "      <td>4_right.jpg</td>\n",
              "      <td>macular epiretinal membrane</td>\n",
              "      <td>mild nonproliferative retinopathy</td>\n",
              "      <td>0</td>\n",
              "      <td>1</td>\n",
              "      <td>0</td>\n",
              "      <td>0</td>\n",
              "      <td>0</td>\n",
              "      <td>0</td>\n",
              "      <td>0</td>\n",
              "      <td>1</td>\n",
              "    </tr>\n",
              "  </tbody>\n",
              "</table>\n",
              "</div>"
            ],
            "text/plain": [
              "   ID  Patient Age Patient Sex Left-Fundus Right-Fundus  ...  C  A  H  M  O\n",
              "0   0           69      Female  0_left.jpg  0_right.jpg  ...  1  0  0  0  0\n",
              "1   1           57        Male  1_left.jpg  1_right.jpg  ...  0  0  0  0  0\n",
              "2   2           42        Male  2_left.jpg  2_right.jpg  ...  0  0  0  0  1\n",
              "3   3           66        Male  3_left.jpg  3_right.jpg  ...  0  0  0  0  1\n",
              "4   4           53        Male  4_left.jpg  4_right.jpg  ...  0  0  0  0  1\n",
              "\n",
              "[5 rows x 15 columns]"
            ]
          },
          "metadata": {
            "tags": []
          },
          "execution_count": 8
        }
      ]
    },
    {
      "cell_type": "code",
      "metadata": {
        "id": "0Qg066Q3X0lk",
        "colab_type": "code",
        "colab": {}
      },
      "source": [
        "data_excel.columns = ['id', 'patient_age', 'patient_sex', 'left_fundus', 'right_fundus',\n",
        "       'left_diagnostic', 'right_diagnostic', 'n', 'd', 'g',\n",
        "       'c', 'a', 'h', 'm', 'o']"
      ],
      "execution_count": 0,
      "outputs": []
    },
    {
      "cell_type": "code",
      "metadata": {
        "id": "I5upcOEdX0vs",
        "colab_type": "code",
        "outputId": "28bbdefa-95c0-410b-a54a-9457e58ad5b4",
        "colab": {
          "base_uri": "https://localhost:8080/",
          "height": 195
        }
      },
      "source": [
        "data_excel.head()"
      ],
      "execution_count": 10,
      "outputs": [
        {
          "output_type": "execute_result",
          "data": {
            "text/html": [
              "<div>\n",
              "<style scoped>\n",
              "    .dataframe tbody tr th:only-of-type {\n",
              "        vertical-align: middle;\n",
              "    }\n",
              "\n",
              "    .dataframe tbody tr th {\n",
              "        vertical-align: top;\n",
              "    }\n",
              "\n",
              "    .dataframe thead th {\n",
              "        text-align: right;\n",
              "    }\n",
              "</style>\n",
              "<table border=\"1\" class=\"dataframe\">\n",
              "  <thead>\n",
              "    <tr style=\"text-align: right;\">\n",
              "      <th></th>\n",
              "      <th>id</th>\n",
              "      <th>patient_age</th>\n",
              "      <th>patient_sex</th>\n",
              "      <th>left_fundus</th>\n",
              "      <th>right_fundus</th>\n",
              "      <th>left_diagnostic</th>\n",
              "      <th>right_diagnostic</th>\n",
              "      <th>n</th>\n",
              "      <th>d</th>\n",
              "      <th>g</th>\n",
              "      <th>c</th>\n",
              "      <th>a</th>\n",
              "      <th>h</th>\n",
              "      <th>m</th>\n",
              "      <th>o</th>\n",
              "    </tr>\n",
              "  </thead>\n",
              "  <tbody>\n",
              "    <tr>\n",
              "      <th>0</th>\n",
              "      <td>0</td>\n",
              "      <td>69</td>\n",
              "      <td>Female</td>\n",
              "      <td>0_left.jpg</td>\n",
              "      <td>0_right.jpg</td>\n",
              "      <td>cataract</td>\n",
              "      <td>normal fundus</td>\n",
              "      <td>0</td>\n",
              "      <td>0</td>\n",
              "      <td>0</td>\n",
              "      <td>1</td>\n",
              "      <td>0</td>\n",
              "      <td>0</td>\n",
              "      <td>0</td>\n",
              "      <td>0</td>\n",
              "    </tr>\n",
              "    <tr>\n",
              "      <th>1</th>\n",
              "      <td>1</td>\n",
              "      <td>57</td>\n",
              "      <td>Male</td>\n",
              "      <td>1_left.jpg</td>\n",
              "      <td>1_right.jpg</td>\n",
              "      <td>normal fundus</td>\n",
              "      <td>normal fundus</td>\n",
              "      <td>1</td>\n",
              "      <td>0</td>\n",
              "      <td>0</td>\n",
              "      <td>0</td>\n",
              "      <td>0</td>\n",
              "      <td>0</td>\n",
              "      <td>0</td>\n",
              "      <td>0</td>\n",
              "    </tr>\n",
              "    <tr>\n",
              "      <th>2</th>\n",
              "      <td>2</td>\n",
              "      <td>42</td>\n",
              "      <td>Male</td>\n",
              "      <td>2_left.jpg</td>\n",
              "      <td>2_right.jpg</td>\n",
              "      <td>laser spot，moderate non proliferative retinopathy</td>\n",
              "      <td>moderate non proliferative retinopathy</td>\n",
              "      <td>0</td>\n",
              "      <td>1</td>\n",
              "      <td>0</td>\n",
              "      <td>0</td>\n",
              "      <td>0</td>\n",
              "      <td>0</td>\n",
              "      <td>0</td>\n",
              "      <td>1</td>\n",
              "    </tr>\n",
              "    <tr>\n",
              "      <th>3</th>\n",
              "      <td>3</td>\n",
              "      <td>66</td>\n",
              "      <td>Male</td>\n",
              "      <td>3_left.jpg</td>\n",
              "      <td>3_right.jpg</td>\n",
              "      <td>normal fundus</td>\n",
              "      <td>branch retinal artery occlusion</td>\n",
              "      <td>0</td>\n",
              "      <td>0</td>\n",
              "      <td>0</td>\n",
              "      <td>0</td>\n",
              "      <td>0</td>\n",
              "      <td>0</td>\n",
              "      <td>0</td>\n",
              "      <td>1</td>\n",
              "    </tr>\n",
              "    <tr>\n",
              "      <th>4</th>\n",
              "      <td>4</td>\n",
              "      <td>53</td>\n",
              "      <td>Male</td>\n",
              "      <td>4_left.jpg</td>\n",
              "      <td>4_right.jpg</td>\n",
              "      <td>macular epiretinal membrane</td>\n",
              "      <td>mild nonproliferative retinopathy</td>\n",
              "      <td>0</td>\n",
              "      <td>1</td>\n",
              "      <td>0</td>\n",
              "      <td>0</td>\n",
              "      <td>0</td>\n",
              "      <td>0</td>\n",
              "      <td>0</td>\n",
              "      <td>1</td>\n",
              "    </tr>\n",
              "  </tbody>\n",
              "</table>\n",
              "</div>"
            ],
            "text/plain": [
              "   id  patient_age patient_sex left_fundus right_fundus  ...  c  a  h  m  o\n",
              "0   0           69      Female  0_left.jpg  0_right.jpg  ...  1  0  0  0  0\n",
              "1   1           57        Male  1_left.jpg  1_right.jpg  ...  0  0  0  0  0\n",
              "2   2           42        Male  2_left.jpg  2_right.jpg  ...  0  0  0  0  1\n",
              "3   3           66        Male  3_left.jpg  3_right.jpg  ...  0  0  0  0  1\n",
              "4   4           53        Male  4_left.jpg  4_right.jpg  ...  0  0  0  0  1\n",
              "\n",
              "[5 rows x 15 columns]"
            ]
          },
          "metadata": {
            "tags": []
          },
          "execution_count": 10
        }
      ]
    },
    {
      "cell_type": "code",
      "metadata": {
        "id": "RhkHi0bxX0y6",
        "colab_type": "code",
        "colab": {}
      },
      "source": [
        "data_excel['sum_diseases'] = data_excel[['n', 'd', 'g',\n",
        "       'c', 'a', 'h', 'm', 'o']].sum(axis = 1)"
      ],
      "execution_count": 0,
      "outputs": []
    },
    {
      "cell_type": "code",
      "metadata": {
        "id": "XDcsnDfOaG0j",
        "colab_type": "code",
        "outputId": "42f1a20c-bbad-411f-bfb9-367323f9fa54",
        "colab": {
          "base_uri": "https://localhost:8080/",
          "height": 195
        }
      },
      "source": [
        "data_excel.head()"
      ],
      "execution_count": 12,
      "outputs": [
        {
          "output_type": "execute_result",
          "data": {
            "text/html": [
              "<div>\n",
              "<style scoped>\n",
              "    .dataframe tbody tr th:only-of-type {\n",
              "        vertical-align: middle;\n",
              "    }\n",
              "\n",
              "    .dataframe tbody tr th {\n",
              "        vertical-align: top;\n",
              "    }\n",
              "\n",
              "    .dataframe thead th {\n",
              "        text-align: right;\n",
              "    }\n",
              "</style>\n",
              "<table border=\"1\" class=\"dataframe\">\n",
              "  <thead>\n",
              "    <tr style=\"text-align: right;\">\n",
              "      <th></th>\n",
              "      <th>id</th>\n",
              "      <th>patient_age</th>\n",
              "      <th>patient_sex</th>\n",
              "      <th>left_fundus</th>\n",
              "      <th>right_fundus</th>\n",
              "      <th>left_diagnostic</th>\n",
              "      <th>right_diagnostic</th>\n",
              "      <th>n</th>\n",
              "      <th>d</th>\n",
              "      <th>g</th>\n",
              "      <th>c</th>\n",
              "      <th>a</th>\n",
              "      <th>h</th>\n",
              "      <th>m</th>\n",
              "      <th>o</th>\n",
              "      <th>sum_diseases</th>\n",
              "    </tr>\n",
              "  </thead>\n",
              "  <tbody>\n",
              "    <tr>\n",
              "      <th>0</th>\n",
              "      <td>0</td>\n",
              "      <td>69</td>\n",
              "      <td>Female</td>\n",
              "      <td>0_left.jpg</td>\n",
              "      <td>0_right.jpg</td>\n",
              "      <td>cataract</td>\n",
              "      <td>normal fundus</td>\n",
              "      <td>0</td>\n",
              "      <td>0</td>\n",
              "      <td>0</td>\n",
              "      <td>1</td>\n",
              "      <td>0</td>\n",
              "      <td>0</td>\n",
              "      <td>0</td>\n",
              "      <td>0</td>\n",
              "      <td>1</td>\n",
              "    </tr>\n",
              "    <tr>\n",
              "      <th>1</th>\n",
              "      <td>1</td>\n",
              "      <td>57</td>\n",
              "      <td>Male</td>\n",
              "      <td>1_left.jpg</td>\n",
              "      <td>1_right.jpg</td>\n",
              "      <td>normal fundus</td>\n",
              "      <td>normal fundus</td>\n",
              "      <td>1</td>\n",
              "      <td>0</td>\n",
              "      <td>0</td>\n",
              "      <td>0</td>\n",
              "      <td>0</td>\n",
              "      <td>0</td>\n",
              "      <td>0</td>\n",
              "      <td>0</td>\n",
              "      <td>1</td>\n",
              "    </tr>\n",
              "    <tr>\n",
              "      <th>2</th>\n",
              "      <td>2</td>\n",
              "      <td>42</td>\n",
              "      <td>Male</td>\n",
              "      <td>2_left.jpg</td>\n",
              "      <td>2_right.jpg</td>\n",
              "      <td>laser spot，moderate non proliferative retinopathy</td>\n",
              "      <td>moderate non proliferative retinopathy</td>\n",
              "      <td>0</td>\n",
              "      <td>1</td>\n",
              "      <td>0</td>\n",
              "      <td>0</td>\n",
              "      <td>0</td>\n",
              "      <td>0</td>\n",
              "      <td>0</td>\n",
              "      <td>1</td>\n",
              "      <td>2</td>\n",
              "    </tr>\n",
              "    <tr>\n",
              "      <th>3</th>\n",
              "      <td>3</td>\n",
              "      <td>66</td>\n",
              "      <td>Male</td>\n",
              "      <td>3_left.jpg</td>\n",
              "      <td>3_right.jpg</td>\n",
              "      <td>normal fundus</td>\n",
              "      <td>branch retinal artery occlusion</td>\n",
              "      <td>0</td>\n",
              "      <td>0</td>\n",
              "      <td>0</td>\n",
              "      <td>0</td>\n",
              "      <td>0</td>\n",
              "      <td>0</td>\n",
              "      <td>0</td>\n",
              "      <td>1</td>\n",
              "      <td>1</td>\n",
              "    </tr>\n",
              "    <tr>\n",
              "      <th>4</th>\n",
              "      <td>4</td>\n",
              "      <td>53</td>\n",
              "      <td>Male</td>\n",
              "      <td>4_left.jpg</td>\n",
              "      <td>4_right.jpg</td>\n",
              "      <td>macular epiretinal membrane</td>\n",
              "      <td>mild nonproliferative retinopathy</td>\n",
              "      <td>0</td>\n",
              "      <td>1</td>\n",
              "      <td>0</td>\n",
              "      <td>0</td>\n",
              "      <td>0</td>\n",
              "      <td>0</td>\n",
              "      <td>0</td>\n",
              "      <td>1</td>\n",
              "      <td>2</td>\n",
              "    </tr>\n",
              "  </tbody>\n",
              "</table>\n",
              "</div>"
            ],
            "text/plain": [
              "   id  patient_age patient_sex left_fundus  ...  h  m  o  sum_diseases\n",
              "0   0           69      Female  0_left.jpg  ...  0  0  0             1\n",
              "1   1           57        Male  1_left.jpg  ...  0  0  0             1\n",
              "2   2           42        Male  2_left.jpg  ...  0  0  1             2\n",
              "3   3           66        Male  3_left.jpg  ...  0  0  1             1\n",
              "4   4           53        Male  4_left.jpg  ...  0  0  1             2\n",
              "\n",
              "[5 rows x 16 columns]"
            ]
          },
          "metadata": {
            "tags": []
          },
          "execution_count": 12
        }
      ]
    },
    {
      "cell_type": "code",
      "metadata": {
        "id": "RDqugNqeaG3v",
        "colab_type": "code",
        "outputId": "49960c0c-5caa-4698-8171-dff210da986a",
        "colab": {
          "base_uri": "https://localhost:8080/",
          "height": 34
        }
      },
      "source": [
        "data_excel.sum_diseases.unique()"
      ],
      "execution_count": 13,
      "outputs": [
        {
          "output_type": "execute_result",
          "data": {
            "text/plain": [
              "array([1, 2, 3])"
            ]
          },
          "metadata": {
            "tags": []
          },
          "execution_count": 13
        }
      ]
    },
    {
      "cell_type": "code",
      "metadata": {
        "id": "UQUQHEGHb2Wp",
        "colab_type": "code",
        "colab": {}
      },
      "source": [
        ""
      ],
      "execution_count": 0,
      "outputs": []
    },
    {
      "cell_type": "code",
      "metadata": {
        "id": "lrXbjEg28zZ_",
        "colab_type": "code",
        "outputId": "50ff2c00-2204-401c-de15-fb5cd366eeba",
        "colab": {
          "base_uri": "https://localhost:8080/",
          "height": 34
        }
      },
      "source": [
        "# len(os.listdir('./ocular_diseases/ODIR-5K/training_images'))"
      ],
      "execution_count": 0,
      "outputs": [
        {
          "output_type": "execute_result",
          "data": {
            "text/plain": [
              "7000"
            ]
          },
          "metadata": {
            "tags": []
          },
          "execution_count": 23
        }
      ]
    },
    {
      "cell_type": "code",
      "metadata": {
        "id": "vWJdHRVrdo_g",
        "colab_type": "code",
        "colab": {}
      },
      "source": [
        "kelas_dict = {\n",
        "    0: 'normal',\n",
        "    1: 'diabetes',\n",
        "    2: 'glaucoma',\n",
        "    3: 'cataract',\n",
        "    4: 'amd',\n",
        "    5: 'hypertension',\n",
        "    6: 'myopia',\n",
        "    7: 'abnormalities',\n",
        "}"
      ],
      "execution_count": 0,
      "outputs": []
    },
    {
      "cell_type": "code",
      "metadata": {
        "id": "4Cmf43hEctPn",
        "colab_type": "code",
        "colab": {}
      },
      "source": [
        "data_excel['kelas'] = data_excel.apply(lambda row: kelas_dict[np.argmax([row['n'], row['d'], row['g'], row['c'], row['a'], row['h'], row['m'], row['o']])], axis = 1)"
      ],
      "execution_count": 0,
      "outputs": []
    },
    {
      "cell_type": "code",
      "metadata": {
        "id": "4mFcNIhMaG6q",
        "colab_type": "code",
        "colab": {}
      },
      "source": [
        "df_1 = data_excel[data_excel.sum_diseases == 1]\n",
        "df_2 = data_excel[data_excel.sum_diseases == 2]\n",
        "df_3 = data_excel[data_excel.sum_diseases == 3]"
      ],
      "execution_count": 0,
      "outputs": []
    },
    {
      "cell_type": "code",
      "metadata": {
        "id": "iuF-dKZr2xSr",
        "colab_type": "code",
        "colab": {
          "base_uri": "https://localhost:8080/",
          "height": 110
        },
        "outputId": "75e68e49-fa55-4980-c557-7b5220395420"
      },
      "source": [
        "df_1[(df_1.left_fundus == '4690_right.jpg') | (df_1.right_fundus == '4690_right.jpg')]"
      ],
      "execution_count": 46,
      "outputs": [
        {
          "output_type": "execute_result",
          "data": {
            "text/html": [
              "<div>\n",
              "<style scoped>\n",
              "    .dataframe tbody tr th:only-of-type {\n",
              "        vertical-align: middle;\n",
              "    }\n",
              "\n",
              "    .dataframe tbody tr th {\n",
              "        vertical-align: top;\n",
              "    }\n",
              "\n",
              "    .dataframe thead th {\n",
              "        text-align: right;\n",
              "    }\n",
              "</style>\n",
              "<table border=\"1\" class=\"dataframe\">\n",
              "  <thead>\n",
              "    <tr style=\"text-align: right;\">\n",
              "      <th></th>\n",
              "      <th>id</th>\n",
              "      <th>patient_age</th>\n",
              "      <th>patient_sex</th>\n",
              "      <th>left_fundus</th>\n",
              "      <th>right_fundus</th>\n",
              "      <th>left_diagnostic</th>\n",
              "      <th>right_diagnostic</th>\n",
              "      <th>n</th>\n",
              "      <th>d</th>\n",
              "      <th>g</th>\n",
              "      <th>c</th>\n",
              "      <th>a</th>\n",
              "      <th>h</th>\n",
              "      <th>m</th>\n",
              "      <th>o</th>\n",
              "      <th>sum_diseases</th>\n",
              "      <th>kelas</th>\n",
              "      <th>tuple_class_left</th>\n",
              "      <th>tuple_class_right</th>\n",
              "    </tr>\n",
              "  </thead>\n",
              "  <tbody>\n",
              "    <tr>\n",
              "      <th>3498</th>\n",
              "      <td>4690</td>\n",
              "      <td>57</td>\n",
              "      <td>Male</td>\n",
              "      <td>4690_left.jpg</td>\n",
              "      <td>4690_right.jpg</td>\n",
              "      <td>mild nonproliferative retinopathy</td>\n",
              "      <td>mild nonproliferative retinopathy</td>\n",
              "      <td>0</td>\n",
              "      <td>1</td>\n",
              "      <td>0</td>\n",
              "      <td>0</td>\n",
              "      <td>0</td>\n",
              "      <td>0</td>\n",
              "      <td>0</td>\n",
              "      <td>0</td>\n",
              "      <td>1</td>\n",
              "      <td>diabetes</td>\n",
              "      <td>(4690_left.jpg, diabetes)</td>\n",
              "      <td>(4690_right.jpg, diabetes)</td>\n",
              "    </tr>\n",
              "  </tbody>\n",
              "</table>\n",
              "</div>"
            ],
            "text/plain": [
              "        id  patient_age  ...           tuple_class_left           tuple_class_right\n",
              "3498  4690           57  ...  (4690_left.jpg, diabetes)  (4690_right.jpg, diabetes)\n",
              "\n",
              "[1 rows x 19 columns]"
            ]
          },
          "metadata": {
            "tags": []
          },
          "execution_count": 46
        }
      ]
    },
    {
      "cell_type": "code",
      "metadata": {
        "id": "AeGe-_EjbsG9",
        "colab_type": "code",
        "outputId": "792f8cec-c820-4e99-843e-c615c301b565",
        "colab": {
          "base_uri": "https://localhost:8080/",
          "height": 228
        }
      },
      "source": [
        "df_1['left_diagnostic'] = df_1['left_diagnostic'].str.replace('normal fundus', 'normal')\n",
        "df_1['right_diagnostic'] = df_1['right_diagnostic'].str.replace('normal fundus', 'normal')"
      ],
      "execution_count": 19,
      "outputs": [
        {
          "output_type": "stream",
          "text": [
            "/usr/local/lib/python3.6/dist-packages/ipykernel_launcher.py:1: SettingWithCopyWarning: \n",
            "A value is trying to be set on a copy of a slice from a DataFrame.\n",
            "Try using .loc[row_indexer,col_indexer] = value instead\n",
            "\n",
            "See the caveats in the documentation: https://pandas.pydata.org/pandas-docs/stable/user_guide/indexing.html#returning-a-view-versus-a-copy\n",
            "  \"\"\"Entry point for launching an IPython kernel.\n",
            "/usr/local/lib/python3.6/dist-packages/ipykernel_launcher.py:2: SettingWithCopyWarning: \n",
            "A value is trying to be set on a copy of a slice from a DataFrame.\n",
            "Try using .loc[row_indexer,col_indexer] = value instead\n",
            "\n",
            "See the caveats in the documentation: https://pandas.pydata.org/pandas-docs/stable/user_guide/indexing.html#returning-a-view-versus-a-copy\n",
            "  \n"
          ],
          "name": "stderr"
        }
      ]
    },
    {
      "cell_type": "code",
      "metadata": {
        "id": "rIdMPNrndCge",
        "colab_type": "code",
        "outputId": "82cbe1f1-b9ec-4698-f6e7-73937c7ea25e",
        "colab": {
          "base_uri": "https://localhost:8080/",
          "height": 228
        }
      },
      "source": [
        "df_1['tuple_class_left'] = df_1.apply(lambda row: (row['left_fundus'], row['left_diagnostic']) if row['left_diagnostic'] == 'normal' \\\n",
        "                               else (row['left_fundus'], row['kelas']), axis = 1)\n",
        "df_1['tuple_class_right'] = df_1.apply(lambda row: (row['right_fundus'], row['right_diagnostic']) if row['right_diagnostic'] == 'normal' \\\n",
        "                               else (row['right_fundus'], row['kelas']), axis = 1)"
      ],
      "execution_count": 20,
      "outputs": [
        {
          "output_type": "stream",
          "text": [
            "/usr/local/lib/python3.6/dist-packages/ipykernel_launcher.py:1: SettingWithCopyWarning: \n",
            "A value is trying to be set on a copy of a slice from a DataFrame.\n",
            "Try using .loc[row_indexer,col_indexer] = value instead\n",
            "\n",
            "See the caveats in the documentation: https://pandas.pydata.org/pandas-docs/stable/user_guide/indexing.html#returning-a-view-versus-a-copy\n",
            "  \"\"\"Entry point for launching an IPython kernel.\n",
            "/usr/local/lib/python3.6/dist-packages/ipykernel_launcher.py:2: SettingWithCopyWarning: \n",
            "A value is trying to be set on a copy of a slice from a DataFrame.\n",
            "Try using .loc[row_indexer,col_indexer] = value instead\n",
            "\n",
            "See the caveats in the documentation: https://pandas.pydata.org/pandas-docs/stable/user_guide/indexing.html#returning-a-view-versus-a-copy\n",
            "  \n"
          ],
          "name": "stderr"
        }
      ]
    },
    {
      "cell_type": "code",
      "metadata": {
        "id": "LjzP37OCeAs_",
        "colab_type": "code",
        "colab": {}
      },
      "source": [
        "# df_1"
      ],
      "execution_count": 0,
      "outputs": []
    },
    {
      "cell_type": "code",
      "metadata": {
        "id": "EiITzOxqaG9l",
        "colab_type": "code",
        "colab": {}
      },
      "source": [
        "# df_2"
      ],
      "execution_count": 0,
      "outputs": []
    },
    {
      "cell_type": "code",
      "metadata": {
        "id": "0uN1TXP4aHAJ",
        "colab_type": "code",
        "colab": {}
      },
      "source": [
        "# df_3"
      ],
      "execution_count": 0,
      "outputs": []
    },
    {
      "cell_type": "code",
      "metadata": {
        "id": "qsxM4qEwctXz",
        "colab_type": "code",
        "colab": {}
      },
      "source": [
        "# data_excel[data_excel.left_fundus == '1002_left.jpg']"
      ],
      "execution_count": 0,
      "outputs": []
    },
    {
      "cell_type": "code",
      "metadata": {
        "id": "yMhgwI16gzxJ",
        "colab_type": "code",
        "colab": {}
      },
      "source": [
        "# mata_kiri = {left_fundus: kelas for _, _, _, _, left_fundus, _, _, _, _, _, _, _, _, _, _, _, kelas in data_excel.itertuples()}"
      ],
      "execution_count": 0,
      "outputs": []
    },
    {
      "cell_type": "code",
      "metadata": {
        "id": "DGocBa-bhweb",
        "colab_type": "code",
        "colab": {}
      },
      "source": [
        "# mata_kiri"
      ],
      "execution_count": 0,
      "outputs": []
    },
    {
      "cell_type": "code",
      "metadata": {
        "id": "yReBPEqpib8x",
        "colab_type": "code",
        "colab": {}
      },
      "source": [
        "# mata_kanan = {right_fundus: kelas for _, _, _, _, _, right_fundus, _, _, _, _, _, _, _, _, _, _, kelas in data_excel.itertuples()}"
      ],
      "execution_count": 0,
      "outputs": []
    },
    {
      "cell_type": "code",
      "metadata": {
        "id": "E_ttYbXCilT9",
        "colab_type": "code",
        "colab": {}
      },
      "source": [
        "# mata_kanan"
      ],
      "execution_count": 0,
      "outputs": []
    },
    {
      "cell_type": "code",
      "metadata": {
        "id": "Az-LbRLm8Zu9",
        "colab_type": "code",
        "colab": {
          "base_uri": "https://localhost:8080/",
          "height": 122
        },
        "outputId": "627fe996-0c8b-4eba-b87e-1cd718c5223f"
      },
      "source": [
        "!ls -al"
      ],
      "execution_count": 79,
      "outputs": [
        {
          "output_type": "stream",
          "text": [
            "total 1316120\n",
            "drwxr-xr-x 1 root root       4096 Jun  6 04:45 .\n",
            "drwxr-xr-x 1 root root       4096 Jun  6 01:19 ..\n",
            "drwxr-xr-x 1 root root       4096 Jun  2 16:14 .config\n",
            "-rw-r--r-- 1 root root 1347683678 Jun  6 01:22 ocular-disease-recognition-odir5k.zip\n",
            "drwxr-xr-x 1 root root       4096 May 29 18:19 sample_data\n"
          ],
          "name": "stdout"
        }
      ]
    },
    {
      "cell_type": "code",
      "metadata": {
        "id": "oprhsT3IfIOg",
        "colab_type": "code",
        "colab": {}
      },
      "source": [
        "kelas_dict = {\n",
        "    0: 'normal',\n",
        "    1: 'diabetes',\n",
        "    2: 'glaucoma',\n",
        "    3: 'cataract',\n",
        "    4: 'amd',\n",
        "    5: 'hypertension',\n",
        "    6: 'myopia',\n",
        "    7: 'abnormalities',\n",
        "}\n",
        "\n",
        "try:\n",
        "    #YOUR CODE GOES HERE\n",
        "    os.mkdir('/tmp/ocular/')\n",
        "    os.mkdir('/tmp/ocular/training/')\n",
        "    os.mkdir('/tmp/ocular/testing/')\n",
        "    os.mkdir('/tmp/ocular/training/normal/')\n",
        "    os.mkdir('/tmp/ocular/training/diabetes/')\n",
        "    os.mkdir('/tmp/ocular/training/glaucoma/')\n",
        "    os.mkdir('/tmp/ocular/training/cataract/')\n",
        "    os.mkdir('/tmp/ocular/training/amd/')\n",
        "    os.mkdir('/tmp/ocular/training/hypertension/')\n",
        "    os.mkdir('/tmp/ocular/training/myopia/')\n",
        "    os.mkdir('/tmp/ocular/training/abnormalities/')\n",
        "    os.mkdir('/tmp/ocular/testing/normal/')\n",
        "    os.mkdir('/tmp/ocular/testing/diabetes/')\n",
        "    os.mkdir('/tmp/ocular/testing/glaucoma/')\n",
        "    os.mkdir('/tmp/ocular/testing/cataract/')\n",
        "    os.mkdir('/tmp/ocular/testing/amd/')\n",
        "    os.mkdir('/tmp/ocular/testing/hypertension/')\n",
        "    os.mkdir('/tmp/ocular/testing/myopia/')\n",
        "    os.mkdir('/tmp/ocular/testing/abnormalities/')\n",
        "except OSError:\n",
        "    pass"
      ],
      "execution_count": 0,
      "outputs": []
    },
    {
      "cell_type": "code",
      "metadata": {
        "id": "R73i7EAQgMsi",
        "colab_type": "code",
        "outputId": "dc75d9a3-d065-46bb-a450-66aa31df0feb",
        "colab": {
          "base_uri": "https://localhost:8080/",
          "height": 105
        }
      },
      "source": [
        "# !rm -rf /tmp/ocular\n",
        "!ls -al /tmp/ocular"
      ],
      "execution_count": 91,
      "outputs": [
        {
          "output_type": "stream",
          "text": [
            "total 16\n",
            "drwxr-xr-x  4 root root 4096 Jun  6 04:48 .\n",
            "drwxrwxrwt  1 root root 4096 Jun  6 04:48 ..\n",
            "drwxr-xr-x 10 root root 4096 Jun  6 04:48 testing\n",
            "drwxr-xr-x 10 root root 4096 Jun  6 04:48 training\n"
          ],
          "name": "stdout"
        }
      ]
    },
    {
      "cell_type": "code",
      "metadata": {
        "id": "2r1r80Wvftd8",
        "colab_type": "code",
        "outputId": "47529417-ce3a-417c-dd9c-3f2f084cde2b",
        "colab": {
          "base_uri": "https://localhost:8080/",
          "height": 52
        }
      },
      "source": [
        "print(len(df_1.tuple_class_left.to_numpy()))\n",
        "print(len(df_1.tuple_class_right.to_numpy()))"
      ],
      "execution_count": 64,
      "outputs": [
        {
          "output_type": "stream",
          "text": [
            "2914\n",
            "2914\n"
          ],
          "name": "stdout"
        }
      ]
    },
    {
      "cell_type": "code",
      "metadata": {
        "id": "uhoW7f776Kth",
        "colab_type": "code",
        "colab": {
          "base_uri": "https://localhost:8080/",
          "height": 34
        },
        "outputId": "0e491560-f3d5-4ae4-c0f4-eb68f2a5db64"
      },
      "source": [
        "print(len(df_1.tuple_class_left.to_list() + df_1.tuple_class_right.to_list()))"
      ],
      "execution_count": 66,
      "outputs": [
        {
          "output_type": "stream",
          "text": [
            "5828\n"
          ],
          "name": "stdout"
        }
      ]
    },
    {
      "cell_type": "code",
      "metadata": {
        "id": "SwcT9m2f6dv0",
        "colab_type": "code",
        "colab": {}
      },
      "source": [
        "import numpy as np"
      ],
      "execution_count": 0,
      "outputs": []
    },
    {
      "cell_type": "code",
      "metadata": {
        "id": "OnOurE1I60vu",
        "colab_type": "code",
        "colab": {}
      },
      "source": [
        "concat_training = np.array(df_1.tuple_class_left.to_list() + df_1.tuple_class_right.to_list())"
      ],
      "execution_count": 0,
      "outputs": []
    },
    {
      "cell_type": "code",
      "metadata": {
        "id": "zYQGMgJ864h2",
        "colab_type": "code",
        "colab": {
          "base_uri": "https://localhost:8080/",
          "height": 140
        },
        "outputId": "ca8c6212-f615-40c2-a2b6-1b6060b16791"
      },
      "source": [
        "concat_training"
      ],
      "execution_count": 73,
      "outputs": [
        {
          "output_type": "execute_result",
          "data": {
            "text/plain": [
              "array([['2800_right.jpg', 'normal'],\n",
              "       ['366_left.jpg', 'abnormalities'],\n",
              "       ['556_right.jpg', 'diabetes'],\n",
              "       ...,\n",
              "       ['985_right.jpg', 'abnormalities'],\n",
              "       ['102_right.jpg', 'amd'],\n",
              "       ['2791_right.jpg', 'normal']], dtype='<U14')"
            ]
          },
          "metadata": {
            "tags": []
          },
          "execution_count": 73
        }
      ]
    },
    {
      "cell_type": "code",
      "metadata": {
        "id": "dgRX1dzf6g6h",
        "colab_type": "code",
        "colab": {}
      },
      "source": [
        "np.random.shuffle(concat_training)"
      ],
      "execution_count": 0,
      "outputs": []
    },
    {
      "cell_type": "code",
      "metadata": {
        "id": "8IFP0pcc9oor",
        "colab_type": "code",
        "colab": {
          "base_uri": "https://localhost:8080/",
          "height": 34
        },
        "outputId": "c87a9304-b628-4757-a00a-202aca5b3c0e"
      },
      "source": [
        "int(np.round(len(concat_training) * .8))"
      ],
      "execution_count": 98,
      "outputs": [
        {
          "output_type": "execute_result",
          "data": {
            "text/plain": [
              "4662"
            ]
          },
          "metadata": {
            "tags": []
          },
          "execution_count": 98
        }
      ]
    },
    {
      "cell_type": "code",
      "metadata": {
        "id": "TlaV7ziP7FaJ",
        "colab_type": "code",
        "colab": {
          "base_uri": "https://localhost:8080/",
          "height": 87
        },
        "outputId": "4546334b-0615-4ca6-fc88-d91d05ad8799"
      },
      "source": [
        "def split_data(concat_train, source_dir, train_dir, test_dir, split_value=.8):\n",
        "    print('Copying training files...')\n",
        "    len_train = int(np.round(len(concat_training) * split_value))\n",
        "    for img, cls in concat_train[:len_train]:\n",
        "        copyfile(source_dir + '/' + img, train_dir + '/' + cls + '/' + img)\n",
        "    print('Copying training files has finished!')\n",
        "    \n",
        "    print('Copying testing files...')\n",
        "    for img, cls in concat_train[len_train:]:\n",
        "        copyfile(source_dir + '/' + img, test_dir + '/' + cls + '/' + img)       \n",
        "    print('Copying testing files has finished!')\n",
        "    # YOUR CODE ENDS HERE\n",
        "\n",
        "SOURCE_DIR = './ocular_diseases/ODIR-5K/training_images'\n",
        "TRAINING_DIR = '/tmp/ocular/training'\n",
        "TESTING_DIR = '/tmp/ocular/testing' \n",
        "\n",
        "split_data(concat_train=concat_training,\n",
        "           source_dir=SOURCE_DIR,\n",
        "           train_dir = TRAINING_DIR,\n",
        "           test_dir = TESTING_DIR)"
      ],
      "execution_count": 99,
      "outputs": [
        {
          "output_type": "stream",
          "text": [
            "Copying training files...\n",
            "Copying training files has finished!\n",
            "Copying testing files...\n",
            "Copying testing files has finished!\n"
          ],
          "name": "stdout"
        }
      ]
    },
    {
      "cell_type": "code",
      "metadata": {
        "id": "z40T7dWTctbq",
        "colab_type": "code",
        "colab": {}
      },
      "source": [
        "# def split_data(SOURCE_TRAINING, DESTINATION_TRAINING, SOURCE_TESTING, DESTINATION_TESTING):\n",
        "#     print('Copying training files...')\n",
        "#     for img, cls in df_1.tuple_class_left:\n",
        "#         copyfile(SOURCE_TRAINING + '/' + img, DESTINATION_TRAINING + '/' + cls + '/' + img)\n",
        "\n",
        "#     for img, cls in df_1.tuple_class_right:\n",
        "#         copyfile(SOURCE_TRAINING + '/' + img, DESTINATION_TRAINING + '/' + cls + '/' + img)       \n",
        "#     print('Copying training files has finished!')\n",
        "    \n",
        "#     print('Copying testing files...')\n",
        "#     for img, cls in df_1.tuple_class_left:\n",
        "#         try:\n",
        "#             print(img, cls)\n",
        "#             copyfile(SOURCE_TESTING + '/' + img, DESTINATION_TESTING + '/' + cls + '/' + img)\n",
        "#         except:\n",
        "#             continue\n",
        "\n",
        "#     for img, cls in df_1.tuple_class_right:\n",
        "#         try:\n",
        "#             print(img, cls)\n",
        "#             copyfile(SOURCE_TESTING + '/' + img, DESTINATION_TESTING + '/' + cls + '/' + img)\n",
        "#         except:\n",
        "#             continue\n",
        "#     print('Copying testing files has finished!')\n",
        "#     # YOUR CODE ENDS HERE\n",
        "\n",
        "# SOURCE_TRAINING_DIR = './ocular_diseases/ODIR-5K/training_images'\n",
        "# SOURCE_TESTING_DIR = '/ocular_diseases/ODIR-5K/testing_images'\n",
        "# DESTINATION_TRAINING_DIR = '/tmp/ocular/training'\n",
        "# DESTINATION_TESTING_DIR = '/tmp/ocular/testing' \n",
        "\n",
        "# split_data(SOURCE_TRAINING_DIR, DESTINATION_TRAINING_DIR, SOURCE_TESTING_DIR, DESTINATION_TESTING_DIR)"
      ],
      "execution_count": 0,
      "outputs": []
    },
    {
      "cell_type": "code",
      "metadata": {
        "id": "F3IHzG0BmVhN",
        "colab_type": "code",
        "colab": {}
      },
      "source": [
        "# len(os.listdir('/tmp/ocular/testing/diabetes/'))"
      ],
      "execution_count": 0,
      "outputs": []
    },
    {
      "cell_type": "code",
      "metadata": {
        "id": "I7MTWdglkoVX",
        "colab_type": "code",
        "colab": {}
      },
      "source": [
        "from tensorflow.keras.preprocessing.image import ImageDataGenerator"
      ],
      "execution_count": 0,
      "outputs": []
    },
    {
      "cell_type": "code",
      "metadata": {
        "id": "SqZ03rpV8uz7",
        "colab_type": "code",
        "outputId": "0cb7dadc-428a-4842-ff4e-8d53518f3023",
        "colab": {
          "base_uri": "https://localhost:8080/",
          "height": 52
        }
      },
      "source": [
        "# Define our example directories and files\n",
        "base_dir = '/tmp/ocular/'\n",
        "\n",
        "train_dir = os.path.join(base_dir, 'training')\n",
        "validation_dir = os.path.join(base_dir, 'testing')\n",
        "\n",
        "# Add our data-augmentation parameters to ImageDataGenerator\n",
        "train_datagen = ImageDataGenerator(rescale = 1./255.)\n",
        "\n",
        "# Note that the validation data should not be augmented!\n",
        "test_datagen = ImageDataGenerator(rescale = 1.0/255.)\n",
        "\n",
        "# Flow training images in batches of 20 using train_datagen generator\n",
        "train_generator = train_datagen.flow_from_directory(train_dir,\n",
        "                                                    batch_size = 50,\n",
        "                                                    class_mode = 'categorical', \n",
        "                                                    target_size = (150, 150))     \n",
        "\n",
        "# Flow validation images in batches of 20 using test_datagen generator\n",
        "validation_generator =  test_datagen.flow_from_directory(validation_dir,\n",
        "                                                          batch_size  = 50,\n",
        "                                                          class_mode  = 'categorical', \n",
        "                                                          target_size = (150, 150))"
      ],
      "execution_count": 100,
      "outputs": [
        {
          "output_type": "stream",
          "text": [
            "Found 4662 images belonging to 8 classes.\n",
            "Found 1166 images belonging to 8 classes.\n"
          ],
          "name": "stdout"
        }
      ]
    },
    {
      "cell_type": "code",
      "metadata": {
        "id": "hDaD1_BNmEiQ",
        "colab_type": "code",
        "colab": {}
      },
      "source": [
        "from tensorflow.keras.optimizers import Adam"
      ],
      "execution_count": 0,
      "outputs": []
    },
    {
      "cell_type": "code",
      "metadata": {
        "id": "SKcc9TTNltBJ",
        "colab_type": "code",
        "colab": {}
      },
      "source": [
        "model = tf.keras.models.Sequential([\n",
        "    tf.keras.layers.Conv2D(16, (3,3), activation='relu', input_shape=(150, 150, 3)),\n",
        "    tf.keras.layers.MaxPooling2D(2, 2),\n",
        "    tf.keras.layers.Conv2D(64, (3,3), activation='relu'),\n",
        "    tf.keras.layers.MaxPooling2D(2,2),\n",
        "    tf.keras.layers.Conv2D(128, (3,3), activation='relu'),\n",
        "    tf.keras.layers.MaxPooling2D(2,2),\n",
        "    tf.keras.layers.Flatten(),\n",
        "    tf.keras.layers.Dense(512, activation='relu'),\n",
        "    tf.keras.layers.Dense(128, activation='relu'),\n",
        "    tf.keras.layers.Dense(8, activation='softmax')\n",
        "])\n",
        "\n",
        "model.compile(loss='categorical_crossentropy',\n",
        "              optimizer=Adam(learning_rate=0.001),\n",
        "              metrics=['AUC', 'accuracy'])"
      ],
      "execution_count": 0,
      "outputs": []
    },
    {
      "cell_type": "markdown",
      "metadata": {
        "id": "VnGmELW9nwtF",
        "colab_type": "text"
      },
      "source": [
        "# copyan"
      ]
    },
    {
      "cell_type": "code",
      "metadata": {
        "id": "YT28QJY1nwGP",
        "colab_type": "code",
        "outputId": "45365191-8440-40e3-9af3-b1db7fdfad5d",
        "colab": {
          "base_uri": "https://localhost:8080/",
          "height": 238
        }
      },
      "source": [
        "# history = model.fit(\n",
        "#       train_generator,\n",
        "#       steps_per_epoch=200,  # 2000 images = batch_size * steps\n",
        "#       epochs=10,\n",
        "#       validation_data=validation_generator,\n",
        "#       validation_steps=50,  # 1000 images = batch_size * steps\n",
        "#       verbose=2)"
      ],
      "execution_count": 0,
      "outputs": [
        {
          "output_type": "error",
          "ename": "NameError",
          "evalue": "ignored",
          "traceback": [
            "\u001b[0;31m---------------------------------------------------------------------------\u001b[0m",
            "\u001b[0;31mNameError\u001b[0m                                 Traceback (most recent call last)",
            "\u001b[0;32m<ipython-input-76-d053fa9b0f66>\u001b[0m in \u001b[0;36m<module>\u001b[0;34m()\u001b[0m\n\u001b[1;32m      3\u001b[0m       \u001b[0msteps_per_epoch\u001b[0m\u001b[0;34m=\u001b[0m\u001b[0;36m200\u001b[0m\u001b[0;34m,\u001b[0m  \u001b[0;31m# 2000 images = batch_size * steps\u001b[0m\u001b[0;34m\u001b[0m\u001b[0;34m\u001b[0m\u001b[0m\n\u001b[1;32m      4\u001b[0m       \u001b[0mepochs\u001b[0m\u001b[0;34m=\u001b[0m\u001b[0;36m10\u001b[0m\u001b[0;34m,\u001b[0m\u001b[0;34m\u001b[0m\u001b[0;34m\u001b[0m\u001b[0m\n\u001b[0;32m----> 5\u001b[0;31m       \u001b[0mvalidation_data\u001b[0m\u001b[0;34m=\u001b[0m\u001b[0mvalidation_generator\u001b[0m\u001b[0;34m,\u001b[0m\u001b[0;34m\u001b[0m\u001b[0;34m\u001b[0m\u001b[0m\n\u001b[0m\u001b[1;32m      6\u001b[0m       \u001b[0mvalidation_steps\u001b[0m\u001b[0;34m=\u001b[0m\u001b[0;36m50\u001b[0m\u001b[0;34m,\u001b[0m  \u001b[0;31m# 1000 images = batch_size * steps\u001b[0m\u001b[0;34m\u001b[0m\u001b[0;34m\u001b[0m\u001b[0m\n\u001b[1;32m      7\u001b[0m       verbose=2)\n",
            "\u001b[0;31mNameError\u001b[0m: name 'validation_generator' is not defined"
          ]
        }
      ]
    },
    {
      "cell_type": "markdown",
      "metadata": {
        "id": "b4BLsUM5nyOH",
        "colab_type": "text"
      },
      "source": [
        "# lanjuut"
      ]
    },
    {
      "cell_type": "code",
      "metadata": {
        "id": "ySBvw3EXk3Cb",
        "colab_type": "code",
        "outputId": "3406a223-3959-45ee-c900-68880b75a6f7",
        "colab": {
          "base_uri": "https://localhost:8080/",
          "height": 1000
        }
      },
      "source": [
        "history = model.fit(\n",
        "      train_generator,\n",
        "      validation_data = validation_generator,\n",
        "      # steps_per_epoch=128,  # ~5828 images = batch_size * steps\n",
        "      epochs=30,\n",
        "      verbose=2)"
      ],
      "execution_count": 111,
      "outputs": [
        {
          "output_type": "stream",
          "text": [
            "Epoch 1/30\n",
            "WARNING:tensorflow:From /usr/local/lib/python3.6/dist-packages/tensorflow/python/ops/resource_variable_ops.py:1817: calling BaseResourceVariable.__init__ (from tensorflow.python.ops.resource_variable_ops) with constraint is deprecated and will be removed in a future version.\n",
            "Instructions for updating:\n",
            "If using Keras pass *_constraint arguments to layers.\n",
            "94/94 - 272s - loss: 1.5214 - auc: 0.8249 - accuracy: 0.4983 - val_loss: 1.4657 - val_auc: 0.8409 - val_accuracy: 0.4871\n",
            "Epoch 2/30\n",
            "94/94 - 271s - loss: 1.4373 - auc: 0.8454 - accuracy: 0.5103 - val_loss: 1.4100 - val_auc: 0.8541 - val_accuracy: 0.5257\n",
            "Epoch 3/30\n",
            "94/94 - 270s - loss: 1.4014 - auc: 0.8553 - accuracy: 0.5150 - val_loss: 1.3561 - val_auc: 0.8664 - val_accuracy: 0.5283\n",
            "Epoch 4/30\n",
            "94/94 - 270s - loss: 1.3615 - auc: 0.8647 - accuracy: 0.5234 - val_loss: 1.3451 - val_auc: 0.8709 - val_accuracy: 0.5326\n",
            "Epoch 5/30\n",
            "94/94 - 269s - loss: 1.3150 - auc: 0.8747 - accuracy: 0.5270 - val_loss: 1.2961 - val_auc: 0.8791 - val_accuracy: 0.5360\n",
            "Epoch 6/30\n",
            "94/94 - 268s - loss: 1.2716 - auc: 0.8831 - accuracy: 0.5290 - val_loss: 1.2824 - val_auc: 0.8817 - val_accuracy: 0.5429\n",
            "Epoch 7/30\n",
            "94/94 - 269s - loss: 1.2335 - auc: 0.8902 - accuracy: 0.5412 - val_loss: 1.2678 - val_auc: 0.8837 - val_accuracy: 0.5412\n",
            "Epoch 8/30\n",
            "94/94 - 267s - loss: 1.1859 - auc: 0.8986 - accuracy: 0.5504 - val_loss: 1.2800 - val_auc: 0.8861 - val_accuracy: 0.5412\n",
            "Epoch 9/30\n",
            "94/94 - 268s - loss: 1.1514 - auc: 0.9042 - accuracy: 0.5594 - val_loss: 1.2722 - val_auc: 0.8848 - val_accuracy: 0.5086\n",
            "Epoch 10/30\n",
            "94/94 - 266s - loss: 1.1088 - auc: 0.9119 - accuracy: 0.5680 - val_loss: 1.2979 - val_auc: 0.8855 - val_accuracy: 0.5343\n",
            "Epoch 11/30\n",
            "94/94 - 265s - loss: 1.0547 - auc: 0.9194 - accuracy: 0.5830 - val_loss: 1.2797 - val_auc: 0.8856 - val_accuracy: 0.5369\n",
            "Epoch 12/30\n",
            "94/94 - 267s - loss: 0.9915 - auc: 0.9289 - accuracy: 0.6090 - val_loss: 1.2757 - val_auc: 0.8883 - val_accuracy: 0.5292\n",
            "Epoch 13/30\n",
            "94/94 - 271s - loss: 0.9284 - auc: 0.9375 - accuracy: 0.6362 - val_loss: 1.3339 - val_auc: 0.8788 - val_accuracy: 0.5249\n",
            "Epoch 14/30\n",
            "94/94 - 266s - loss: 0.8762 - auc: 0.9441 - accuracy: 0.6422 - val_loss: 1.3389 - val_auc: 0.8809 - val_accuracy: 0.5223\n",
            "Epoch 15/30\n",
            "94/94 - 266s - loss: 0.7917 - auc: 0.9542 - accuracy: 0.6864 - val_loss: 1.3993 - val_auc: 0.8784 - val_accuracy: 0.5369\n",
            "Epoch 16/30\n",
            "94/94 - 273s - loss: 0.7251 - auc: 0.9618 - accuracy: 0.7117 - val_loss: 1.5107 - val_auc: 0.8700 - val_accuracy: 0.4949\n",
            "Epoch 17/30\n",
            "94/94 - 275s - loss: 0.6599 - auc: 0.9683 - accuracy: 0.7398 - val_loss: 1.5294 - val_auc: 0.8763 - val_accuracy: 0.5326\n",
            "Epoch 18/30\n",
            "94/94 - 269s - loss: 0.5601 - auc: 0.9769 - accuracy: 0.7793 - val_loss: 1.7262 - val_auc: 0.8625 - val_accuracy: 0.5137\n",
            "Epoch 19/30\n",
            "94/94 - 269s - loss: 0.4892 - auc: 0.9823 - accuracy: 0.8029 - val_loss: 1.8629 - val_auc: 0.8605 - val_accuracy: 0.5069\n",
            "Epoch 20/30\n",
            "94/94 - 272s - loss: 0.4298 - auc: 0.9864 - accuracy: 0.8320 - val_loss: 2.0416 - val_auc: 0.8560 - val_accuracy: 0.5232\n",
            "Epoch 21/30\n",
            "94/94 - 269s - loss: 0.3450 - auc: 0.9913 - accuracy: 0.8689 - val_loss: 2.5032 - val_auc: 0.8440 - val_accuracy: 0.5257\n",
            "Epoch 22/30\n",
            "94/94 - 271s - loss: 0.2945 - auc: 0.9936 - accuracy: 0.8867 - val_loss: 2.3237 - val_auc: 0.8474 - val_accuracy: 0.5120\n",
            "Epoch 23/30\n",
            "94/94 - 273s - loss: 0.2515 - auc: 0.9950 - accuracy: 0.9071 - val_loss: 2.5908 - val_auc: 0.8430 - val_accuracy: 0.5172\n",
            "Epoch 24/30\n",
            "94/94 - 271s - loss: 0.1922 - auc: 0.9973 - accuracy: 0.9307 - val_loss: 3.0610 - val_auc: 0.8311 - val_accuracy: 0.5060\n",
            "Epoch 25/30\n",
            "94/94 - 271s - loss: 0.1420 - auc: 0.9979 - accuracy: 0.9522 - val_loss: 3.1632 - val_auc: 0.8322 - val_accuracy: 0.5223\n",
            "Epoch 26/30\n",
            "94/94 - 273s - loss: 0.1089 - auc: 0.9990 - accuracy: 0.9680 - val_loss: 3.2872 - val_auc: 0.8247 - val_accuracy: 0.5060\n",
            "Epoch 27/30\n",
            "94/94 - 272s - loss: 0.0902 - auc: 0.9992 - accuracy: 0.9706 - val_loss: 3.6981 - val_auc: 0.8132 - val_accuracy: 0.5309\n",
            "Epoch 28/30\n",
            "94/94 - 272s - loss: 0.0901 - auc: 0.9989 - accuracy: 0.9728 - val_loss: 3.6085 - val_auc: 0.8235 - val_accuracy: 0.5249\n",
            "Epoch 29/30\n",
            "94/94 - 270s - loss: 0.0729 - auc: 0.9992 - accuracy: 0.9816 - val_loss: 4.1901 - val_auc: 0.8114 - val_accuracy: 0.5334\n",
            "Epoch 30/30\n",
            "94/94 - 271s - loss: 0.0497 - auc: 0.9994 - accuracy: 0.9869 - val_loss: 4.1342 - val_auc: 0.8076 - val_accuracy: 0.5206\n"
          ],
          "name": "stdout"
        }
      ]
    },
    {
      "cell_type": "code",
      "metadata": {
        "id": "RXIPXsrLhgHb",
        "colab_type": "code",
        "colab": {}
      },
      "source": [
        "import matplotlib.pyplot as plt\n",
        "%matplotlib inline\n",
        "plt.style.use('ggplot')"
      ],
      "execution_count": 0,
      "outputs": []
    },
    {
      "cell_type": "code",
      "metadata": {
        "id": "C1fsToxyhGv6",
        "colab_type": "code",
        "outputId": "688b8ad1-8fb1-4b17-ac9a-153d3f19a080",
        "colab": {
          "base_uri": "https://localhost:8080/",
          "height": 378
        }
      },
      "source": [
        "# acc\n",
        "plt.figure(figsize=(16,5))\n",
        "plt.plot(history.history['accuracy'])\n",
        "plt.plot(history.history['val_accuracy'])\n",
        "plt.title('Version 1: accuracy graph', fontsize=25)\n",
        "plt.ylabel('accuracy', fontsize=25)\n",
        "plt.xlabel('epoch', fontsize=25)\n",
        "plt.xticks(fontsize=15)\n",
        "plt.yticks(fontsize=15)\n",
        "plt.legend(['train_accuracy', 'validation_accuracy'], loc='upper left', fontsize=10)\n",
        "plt.savefig('./acc.jpg', dpi=300, quality=100)\n",
        "plt.show()"
      ],
      "execution_count": 115,
      "outputs": [
        {
          "output_type": "display_data",
          "data": {
            "image/png": "[encoded data removed]",
            "text/plain": [
              "<Figure size 1152x360 with 1 Axes>"
            ]
          },
          "metadata": {
            "tags": []
          }
        }
      ]
    },
    {
      "cell_type": "code",
      "metadata": {
        "id": "XXyUBWTchnOE",
        "colab_type": "code",
        "outputId": "b0bcd48b-56d4-4ad3-df36-87239a4582e5",
        "colab": {
          "base_uri": "https://localhost:8080/",
          "height": 378
        }
      },
      "source": [
        "# loss\n",
        "plt.figure(figsize=(16,5))\n",
        "plt.plot(history.history['loss'])\n",
        "plt.plot(history.history['val_loss'])\n",
        "plt.title('Version 1: loss graph', fontsize=25)\n",
        "plt.ylabel('loss', fontsize=25)\n",
        "plt.xlabel('epoch', fontsize=25)\n",
        "plt.xticks(fontsize=15)\n",
        "plt.yticks(fontsize=15)\n",
        "plt.legend(['train_loss', 'validation_loss'], loc='upper left', fontsize=10)\n",
        "plt.savefig('./loss.jpg', dpi=300, quality=100)\n",
        "plt.show()"
      ],
      "execution_count": 118,
      "outputs": [
        {
          "output_type": "display_data",
          "data": {
            "image/png": "[encoded data removed]",
            "text/plain": [
              "<Figure size 1152x360 with 1 Axes>"
            ]
          },
          "metadata": {
            "tags": []
          }
        }
      ]
    },
    {
      "cell_type": "code",
      "metadata": {
        "id": "KIw9Br45n92F",
        "colab_type": "code",
        "colab": {}
      },
      "source": [
        "tf.keras.backend.clear_session()"
      ],
      "execution_count": 0,
      "outputs": []
    }
  ]
}