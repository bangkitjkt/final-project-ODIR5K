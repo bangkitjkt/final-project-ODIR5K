{
  "nbformat": 4,
  "nbformat_minor": 0,
  "metadata": {
    "colab": {
      "name": "Multi Label Image Classification - ODIR",
      "provenance": [],
      "collapsed_sections": []
    },
    "kernelspec": {
      "name": "python3",
      "display_name": "Python 3"
    }
  },
  "cells": [
    {
      "cell_type": "code",
      "metadata": {
        "id": "MYn6X_MMNeI0",
        "colab_type": "code",
        "colab": {}
      },
      "source": [
        "# Colab library to upload files to notebook\n",
        "from google.colab import files\n",
        "\n",
        "# Install Kaggle library\n",
        "!pip install -q kaggle"
      ],
      "execution_count": 0,
      "outputs": []
    },
    {
      "cell_type": "code",
      "metadata": {
        "id": "YmzPdaa4P145",
        "colab_type": "code",
        "outputId": "d7168d85-f848-438a-d21b-649d7ed3dd4a",
        "colab": {
          "resources": {
            "http://localhost:8080/nbextensions/google.colab/files.js": {
              "data": "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",
              "ok": true,
              "headers": [
                [
                  "content-type",
                  "application/javascript"
                ]
              ],
              "status": 200,
              "status_text": ""
            }
          },
          "base_uri": "https://localhost:8080/",
          "height": 74
        }
      },
      "source": [
        "# Upload kaggle API key file\n",
        "uploaded = files.upload()"
      ],
      "execution_count": 2,
      "outputs": [
        {
          "output_type": "display_data",
          "data": {
            "text/html": [
              "\n",
              "     <input type=\"file\" id=\"files-4cd52b74-b86b-4772-8e6e-599359861fbd\" name=\"files[]\" multiple disabled />\n",
              "     <output id=\"result-4cd52b74-b86b-4772-8e6e-599359861fbd\">\n",
              "      Upload widget is only available when the cell has been executed in the\n",
              "      current browser session. Please rerun this cell to enable.\n",
              "      </output>\n",
              "      <script src=\"/nbextensions/google.colab/files.js\"></script> "
            ],
            "text/plain": [
              "<IPython.core.display.HTML object>"
            ]
          },
          "metadata": {
            "tags": []
          }
        },
        {
          "output_type": "stream",
          "text": [
            "Saving kaggle.json to kaggle.json\n"
          ],
          "name": "stdout"
        }
      ]
    },
    {
      "cell_type": "code",
      "metadata": {
        "id": "921QewBfRl8H",
        "colab_type": "code",
        "colab": {}
      },
      "source": [
        "!mkdir -p ~/.kaggle\n",
        "!cp kaggle.json ~/.kaggle/\n",
        "!chmod 600 ~/.kaggle/kaggle.json"
      ],
      "execution_count": 0,
      "outputs": []
    },
    {
      "cell_type": "code",
      "metadata": {
        "id": "agzm0hFkP7dK",
        "colab_type": "code",
        "outputId": "311cec0c-d63d-4e5f-e199-9b5ea29eac28",
        "colab": {
          "base_uri": "https://localhost:8080/",
          "height": 68
        }
      },
      "source": [
        "# Download ocular disease recognition dataset\n",
        "!kaggle datasets download -d andrewmvd/ocular-disease-recognition-odir5k"
      ],
      "execution_count": 4,
      "outputs": [
        {
          "output_type": "stream",
          "text": [
            "Downloading ocular-disease-recognition-odir5k.zip to /content\n",
            "100% 1.25G/1.26G [00:17<00:00, 75.6MB/s]\n",
            "100% 1.26G/1.26G [00:18<00:00, 74.8MB/s]\n"
          ],
          "name": "stdout"
        }
      ]
    },
    {
      "cell_type": "code",
      "metadata": {
        "id": "NAAoyXdbRzrp",
        "colab_type": "code",
        "colab": {}
      },
      "source": [
        "# Extract the data\n",
        "import zipfile\n",
        "zip_ref = zipfile.ZipFile('ocular-disease-recognition-odir5k.zip', 'r')\n",
        "zip_ref.extractall('files')\n",
        "zip_ref.close()"
      ],
      "execution_count": 0,
      "outputs": []
    },
    {
      "cell_type": "markdown",
      "metadata": {
        "id": "iR9XQnAZW-Yc",
        "colab_type": "text"
      },
      "source": [
        "# Import packages"
      ]
    },
    {
      "cell_type": "code",
      "metadata": {
        "id": "0sfYZmfuXA2c",
        "colab_type": "code",
        "colab": {}
      },
      "source": [
        "import pandas as pd\n",
        "import numpy as np\n",
        "import os"
      ],
      "execution_count": 0,
      "outputs": []
    },
    {
      "cell_type": "markdown",
      "metadata": {
        "id": "uticoteeXHon",
        "colab_type": "text"
      },
      "source": [
        "# Read data input"
      ]
    },
    {
      "cell_type": "code",
      "metadata": {
        "id": "u1y7HIFnXLFb",
        "colab_type": "code",
        "colab": {}
      },
      "source": [
        "df = pd.read_excel('/content/files/ODIR-5K/data.xlsx')"
      ],
      "execution_count": 0,
      "outputs": []
    },
    {
      "cell_type": "code",
      "metadata": {
        "id": "hO-5TGGzuL71",
        "colab_type": "code",
        "outputId": "debbb294-e22c-4fb9-f817-16d8f18751d2",
        "colab": {
          "base_uri": "https://localhost:8080/",
          "height": 204
        }
      },
      "source": [
        "df.head()"
      ],
      "execution_count": 8,
      "outputs": [
        {
          "output_type": "execute_result",
          "data": {
            "text/html": [
              "<div>\n",
              "<style scoped>\n",
              "    .dataframe tbody tr th:only-of-type {\n",
              "        vertical-align: middle;\n",
              "    }\n",
              "\n",
              "    .dataframe tbody tr th {\n",
              "        vertical-align: top;\n",
              "    }\n",
              "\n",
              "    .dataframe thead th {\n",
              "        text-align: right;\n",
              "    }\n",
              "</style>\n",
              "<table border=\"1\" class=\"dataframe\">\n",
              "  <thead>\n",
              "    <tr style=\"text-align: right;\">\n",
              "      <th></th>\n",
              "      <th>ID</th>\n",
              "      <th>Patient Age</th>\n",
              "      <th>Patient Sex</th>\n",
              "      <th>Left-Fundus</th>\n",
              "      <th>Right-Fundus</th>\n",
              "      <th>Left-Diagnostic Keywords</th>\n",
              "      <th>Right-Diagnostic Keywords</th>\n",
              "      <th>N</th>\n",
              "      <th>D</th>\n",
              "      <th>G</th>\n",
              "      <th>C</th>\n",
              "      <th>A</th>\n",
              "      <th>H</th>\n",
              "      <th>M</th>\n",
              "      <th>O</th>\n",
              "    </tr>\n",
              "  </thead>\n",
              "  <tbody>\n",
              "    <tr>\n",
              "      <th>0</th>\n",
              "      <td>0</td>\n",
              "      <td>69</td>\n",
              "      <td>Female</td>\n",
              "      <td>0_left.jpg</td>\n",
              "      <td>0_right.jpg</td>\n",
              "      <td>cataract</td>\n",
              "      <td>normal fundus</td>\n",
              "      <td>0</td>\n",
              "      <td>0</td>\n",
              "      <td>0</td>\n",
              "      <td>1</td>\n",
              "      <td>0</td>\n",
              "      <td>0</td>\n",
              "      <td>0</td>\n",
              "      <td>0</td>\n",
              "    </tr>\n",
              "    <tr>\n",
              "      <th>1</th>\n",
              "      <td>1</td>\n",
              "      <td>57</td>\n",
              "      <td>Male</td>\n",
              "      <td>1_left.jpg</td>\n",
              "      <td>1_right.jpg</td>\n",
              "      <td>normal fundus</td>\n",
              "      <td>normal fundus</td>\n",
              "      <td>1</td>\n",
              "      <td>0</td>\n",
              "      <td>0</td>\n",
              "      <td>0</td>\n",
              "      <td>0</td>\n",
              "      <td>0</td>\n",
              "      <td>0</td>\n",
              "      <td>0</td>\n",
              "    </tr>\n",
              "    <tr>\n",
              "      <th>2</th>\n",
              "      <td>2</td>\n",
              "      <td>42</td>\n",
              "      <td>Male</td>\n",
              "      <td>2_left.jpg</td>\n",
              "      <td>2_right.jpg</td>\n",
              "      <td>laser spot，moderate non proliferative retinopathy</td>\n",
              "      <td>moderate non proliferative retinopathy</td>\n",
              "      <td>0</td>\n",
              "      <td>1</td>\n",
              "      <td>0</td>\n",
              "      <td>0</td>\n",
              "      <td>0</td>\n",
              "      <td>0</td>\n",
              "      <td>0</td>\n",
              "      <td>1</td>\n",
              "    </tr>\n",
              "    <tr>\n",
              "      <th>3</th>\n",
              "      <td>3</td>\n",
              "      <td>66</td>\n",
              "      <td>Male</td>\n",
              "      <td>3_left.jpg</td>\n",
              "      <td>3_right.jpg</td>\n",
              "      <td>normal fundus</td>\n",
              "      <td>branch retinal artery occlusion</td>\n",
              "      <td>0</td>\n",
              "      <td>0</td>\n",
              "      <td>0</td>\n",
              "      <td>0</td>\n",
              "      <td>0</td>\n",
              "      <td>0</td>\n",
              "      <td>0</td>\n",
              "      <td>1</td>\n",
              "    </tr>\n",
              "    <tr>\n",
              "      <th>4</th>\n",
              "      <td>4</td>\n",
              "      <td>53</td>\n",
              "      <td>Male</td>\n",
              "      <td>4_left.jpg</td>\n",
              "      <td>4_right.jpg</td>\n",
              "      <td>macular epiretinal membrane</td>\n",
              "      <td>mild nonproliferative retinopathy</td>\n",
              "      <td>0</td>\n",
              "      <td>1</td>\n",
              "      <td>0</td>\n",
              "      <td>0</td>\n",
              "      <td>0</td>\n",
              "      <td>0</td>\n",
              "      <td>0</td>\n",
              "      <td>1</td>\n",
              "    </tr>\n",
              "  </tbody>\n",
              "</table>\n",
              "</div>"
            ],
            "text/plain": [
              "   ID  Patient Age Patient Sex Left-Fundus Right-Fundus  ...  C  A  H  M  O\n",
              "0   0           69      Female  0_left.jpg  0_right.jpg  ...  1  0  0  0  0\n",
              "1   1           57        Male  1_left.jpg  1_right.jpg  ...  0  0  0  0  0\n",
              "2   2           42        Male  2_left.jpg  2_right.jpg  ...  0  0  0  0  1\n",
              "3   3           66        Male  3_left.jpg  3_right.jpg  ...  0  0  0  0  1\n",
              "4   4           53        Male  4_left.jpg  4_right.jpg  ...  0  0  0  0  1\n",
              "\n",
              "[5 rows x 15 columns]"
            ]
          },
          "metadata": {
            "tags": []
          },
          "execution_count": 8
        }
      ]
    },
    {
      "cell_type": "markdown",
      "metadata": {
        "id": "lFxviY_D5d6g",
        "colab_type": "text"
      },
      "source": [
        "# Create unique keywords for each label"
      ]
    },
    {
      "cell_type": "code",
      "metadata": {
        "id": "-Ls5e1sfIutC",
        "colab_type": "code",
        "colab": {}
      },
      "source": [
        "leftEyeKeywords = df['Left-Diagnostic Keywords'].copy()\n",
        "rightEyeKeywords = df['Right-Diagnostic Keywords'].copy()"
      ],
      "execution_count": 0,
      "outputs": []
    },
    {
      "cell_type": "code",
      "metadata": {
        "id": "FiWCTKSz40Ae",
        "colab_type": "code",
        "colab": {}
      },
      "source": [
        "leftEyeKeywords = leftEyeKeywords.str.split(\"，\")\n",
        "rightEyeKeywords = rightEyeKeywords.str.split(\"，\")"
      ],
      "execution_count": 0,
      "outputs": []
    },
    {
      "cell_type": "code",
      "metadata": {
        "id": "oNEolj0AlEMn",
        "colab_type": "code",
        "outputId": "1e91f719-dcfc-4ce3-cf13-f89cc510b307",
        "colab": {
          "base_uri": "https://localhost:8080/",
          "height": 34
        }
      },
      "source": [
        "leftEyeKeywords[2]"
      ],
      "execution_count": 11,
      "outputs": [
        {
          "output_type": "execute_result",
          "data": {
            "text/plain": [
              "['laser spot', 'moderate non proliferative retinopathy']"
            ]
          },
          "metadata": {
            "tags": []
          },
          "execution_count": 11
        }
      ]
    },
    {
      "cell_type": "code",
      "metadata": {
        "id": "zGFMkpAVK394",
        "colab_type": "code",
        "outputId": "bb5e6dec-b335-4611-b5d5-0629d25f88b2",
        "colab": {
          "base_uri": "https://localhost:8080/",
          "height": 34
        }
      },
      "source": [
        "# Retrieve unique keywords from left and right diagnostic keywords\n",
        "\n",
        "from sklearn.preprocessing import MultiLabelBinarizer\n",
        "\n",
        "mlb = MultiLabelBinarizer()\n",
        "\n",
        "res = pd.DataFrame(mlb.fit_transform(rightEyeKeywords),\n",
        "                   columns=mlb.classes_,\n",
        "                   index=rightEyeKeywords.index)\n",
        "\n",
        "allDiagnosisLeft = res.columns.to_list()\n",
        "len(allDiagnosisLeft)\n",
        "\n",
        "res = pd.DataFrame(mlb.fit_transform(leftEyeKeywords),\n",
        "                   columns=mlb.classes_,\n",
        "                   index=leftEyeKeywords.index)\n",
        "\n",
        "allDiagnosisRight = res.columns.to_list()\n",
        "len(allDiagnosisRight)\n",
        "\n",
        "allDiagnosis=list(set(allDiagnosisLeft+allDiagnosisRight))\n",
        "print(\"total different keys diagnosis :\", len(allDiagnosis))"
      ],
      "execution_count": 12,
      "outputs": [
        {
          "output_type": "stream",
          "text": [
            "total different keys diagnosis : 105\n"
          ],
          "name": "stdout"
        }
      ]
    },
    {
      "cell_type": "code",
      "metadata": {
        "id": "nt5CGko_K5cA",
        "colab_type": "code",
        "colab": {}
      },
      "source": [
        "# Create a function to sort all keywords into label keywords\n",
        "# and list row that contains multiple label\n",
        "\n",
        "test_df = df.copy()\n",
        "doubleDiagnosisRow = []\n",
        "\n",
        "def getKeyDiagnosisSingle(colName):\n",
        "  keyDiagnosis = []\n",
        "  global doubleDiagnosisRow\n",
        "  store = True\n",
        "  for row in range(len(test_df[colName])):\n",
        "    store = True\n",
        "    if test_df[colName][row] == 1:\n",
        "      for lable in test_df.columns[7:]:\n",
        "        if lable == colName:\n",
        "          continue\n",
        "        if test_df[lable][row] == 1:\n",
        "          doubleDiagnosisRow.append(row)\n",
        "          store = False\n",
        "          break\n",
        "        \n",
        "      if store == True:\n",
        "        for i in rightEyeKeywords[row]:\n",
        "          keyDiagnosis.append(i)\n",
        "        for i in leftEyeKeywords[row]:\n",
        "          keyDiagnosis.append(i)\n",
        "      \n",
        "\n",
        "  keyDiagnosis = list(set(keyDiagnosis))\n",
        "  return keyDiagnosis"
      ],
      "execution_count": 0,
      "outputs": []
    },
    {
      "cell_type": "code",
      "metadata": {
        "id": "2Eg6H1z7QQjK",
        "colab_type": "code",
        "colab": {
          "base_uri": "https://localhost:8080/",
          "height": 170
        },
        "outputId": "bce0360b-cb2d-461a-9128-a078f41361ba"
      },
      "source": [
        "keyNormal = getKeyDiagnosisSingle(test_df.columns[7])\n",
        "keyDiabetes = getKeyDiagnosisSingle(test_df.columns[8])\n",
        "keyGlaucoma = getKeyDiagnosisSingle(test_df.columns[9])\n",
        "keyCataract = getKeyDiagnosisSingle(test_df.columns[10])\n",
        "keyAMD = getKeyDiagnosisSingle(test_df.columns[11])\n",
        "keyHypertension = getKeyDiagnosisSingle(test_df.columns[12])\n",
        "keyMyopia = getKeyDiagnosisSingle(test_df.columns[13])\n",
        "keyOtherDisease = getKeyDiagnosisSingle(test_df.columns[14])\n",
        "\n",
        "labelString = ['Normal', 'Diabetes', 'Glaucoma', 'Cataract', 'AMD', 'Hypertension', 'Myopia', 'Abnormalities']\n",
        "keyAll = [keyNormal, keyDiabetes, keyGlaucoma, keyCataract, keyAMD, keyHypertension, keyMyopia, keyOtherDisease]\n",
        "\n",
        "for i in range(8):\n",
        "  print(labelString[i], len(keyAll[i]))\n",
        "\n",
        "keyNormal"
      ],
      "execution_count": 14,
      "outputs": [
        {
          "output_type": "stream",
          "text": [
            "Normal 3\n",
            "Diabetes 10\n",
            "Glaucoma 5\n",
            "Cataract 3\n",
            "AMD 3\n",
            "Hypertension 1\n",
            "Myopia 6\n",
            "Abnormalities 57\n"
          ],
          "name": "stdout"
        },
        {
          "output_type": "execute_result",
          "data": {
            "text/plain": [
              "['low image quality', 'normal fundus', 'lens dust']"
            ]
          },
          "metadata": {
            "tags": []
          },
          "execution_count": 14
        }
      ]
    },
    {
      "cell_type": "code",
      "metadata": {
        "id": "whpTDOa36QIu",
        "colab_type": "code",
        "outputId": "dbff6ef6-ecc6-4529-d9e1-00ef0e6aa202",
        "colab": {
          "base_uri": "https://localhost:8080/",
          "height": 731
        }
      },
      "source": [
        "# Create permutations of 2 samples from 7 labels\n",
        "from itertools import permutations\n",
        "\n",
        "comb = list(permutations(range(1, 8), 2))\n",
        "comb"
      ],
      "execution_count": 15,
      "outputs": [
        {
          "output_type": "execute_result",
          "data": {
            "text/plain": [
              "[(1, 2),\n",
              " (1, 3),\n",
              " (1, 4),\n",
              " (1, 5),\n",
              " (1, 6),\n",
              " (1, 7),\n",
              " (2, 1),\n",
              " (2, 3),\n",
              " (2, 4),\n",
              " (2, 5),\n",
              " (2, 6),\n",
              " (2, 7),\n",
              " (3, 1),\n",
              " (3, 2),\n",
              " (3, 4),\n",
              " (3, 5),\n",
              " (3, 6),\n",
              " (3, 7),\n",
              " (4, 1),\n",
              " (4, 2),\n",
              " (4, 3),\n",
              " (4, 5),\n",
              " (4, 6),\n",
              " (4, 7),\n",
              " (5, 1),\n",
              " (5, 2),\n",
              " (5, 3),\n",
              " (5, 4),\n",
              " (5, 6),\n",
              " (5, 7),\n",
              " (6, 1),\n",
              " (6, 2),\n",
              " (6, 3),\n",
              " (6, 4),\n",
              " (6, 5),\n",
              " (6, 7),\n",
              " (7, 1),\n",
              " (7, 2),\n",
              " (7, 3),\n",
              " (7, 4),\n",
              " (7, 5),\n",
              " (7, 6)]"
            ]
          },
          "metadata": {
            "tags": []
          },
          "execution_count": 15
        }
      ]
    },
    {
      "cell_type": "code",
      "metadata": {
        "id": "460zUs8I5Ggn",
        "colab_type": "code",
        "outputId": "052a7c38-f9d8-43fc-a99f-c326ac30f492",
        "colab": {
          "base_uri": "https://localhost:8080/",
          "height": 187
        }
      },
      "source": [
        "# Intersect each label keyword with normal keyword\n",
        "print(\"intersect by normal :\\n\")\n",
        "for i in range(1,len(keyAll)):\n",
        "  keyAll[i] = list(set(keyAll[i])-set(keyAll[0]))\n",
        "\n",
        "for i in range(8):\n",
        "  print(labelString[i], len(keyAll[i]))"
      ],
      "execution_count": 16,
      "outputs": [
        {
          "output_type": "stream",
          "text": [
            "intersect by normal :\n",
            "\n",
            "Normal 3\n",
            "Diabetes 8\n",
            "Glaucoma 3\n",
            "Cataract 1\n",
            "AMD 2\n",
            "Hypertension 1\n",
            "Myopia 4\n",
            "Abnormalities 54\n"
          ],
          "name": "stdout"
        }
      ]
    },
    {
      "cell_type": "code",
      "metadata": {
        "id": "EYNZR_NQgPba",
        "colab_type": "code",
        "outputId": "88ea7993-c5a1-4b8d-9008-88b5c5084aac",
        "colab": {
          "base_uri": "https://localhost:8080/",
          "height": 204
        }
      },
      "source": [
        "# Intersect each label with each other except normal keywords\n",
        "print(\"\\nintersect by others :\\n\")\n",
        "for i in range(len(keyAll)-1):\n",
        "  for j in range(6):\n",
        "    k = j+6*i\n",
        "    keyAll[i+1] = list(set(keyAll[i+1])-set(keyAll[comb[k][1]]))\n",
        "\n",
        "for i in range(8):\n",
        "  print(labelString[i], len(keyAll[i]))"
      ],
      "execution_count": 17,
      "outputs": [
        {
          "output_type": "stream",
          "text": [
            "\n",
            "intersect by others :\n",
            "\n",
            "Normal 3\n",
            "Diabetes 7\n",
            "Glaucoma 3\n",
            "Cataract 1\n",
            "AMD 2\n",
            "Hypertension 1\n",
            "Myopia 4\n",
            "Abnormalities 54\n"
          ],
          "name": "stdout"
        }
      ]
    },
    {
      "cell_type": "code",
      "metadata": {
        "id": "WP-lf-Xt-KIf",
        "colab_type": "code",
        "colab": {}
      },
      "source": [
        "# Create a function to calculate total unique keywords from all label keywords\n",
        "\n",
        "def getAllRecognizedKey(mkeyAll):\n",
        "  mallkeyDiagnosis = []\n",
        "  for i in range(len(mkeyAll)):\n",
        "    mkeyAll[i] = list(set(mkeyAll[i]))\n",
        "    mallkeyDiagnosis = mallkeyDiagnosis+list(set(mkeyAll[i]))\n",
        "  return mallkeyDiagnosis"
      ],
      "execution_count": 0,
      "outputs": []
    },
    {
      "cell_type": "code",
      "metadata": {
        "id": "YJNITjiq-i0S",
        "colab_type": "code",
        "outputId": "140e3c52-3c2b-49ce-8427-66a060a8edc2",
        "colab": {
          "base_uri": "https://localhost:8080/",
          "height": 34
        }
      },
      "source": [
        "keyNormal, keyDiabetes, keyGlaucoma, keyCataract, keyAMD, keyHypertension, keyMyopia, keyOtherDisease = keyAll[0], keyAll[1], keyAll[2], keyAll[3], keyAll[4], keyAll[5], keyAll[6], keyAll[7]\n",
        "\n",
        "allkeyDiagnosis = getAllRecognizedKey(keyAll)\n",
        "len(allkeyDiagnosis)"
      ],
      "execution_count": 19,
      "outputs": [
        {
          "output_type": "execute_result",
          "data": {
            "text/plain": [
              "75"
            ]
          },
          "metadata": {
            "tags": []
          },
          "execution_count": 19
        }
      ]
    },
    {
      "cell_type": "code",
      "metadata": {
        "id": "3MAJg-xf-tNi",
        "colab_type": "code",
        "outputId": "fb213d5d-ad17-47e4-d95d-5e402158c699",
        "colab": {
          "base_uri": "https://localhost:8080/",
          "height": 34
        }
      },
      "source": [
        "# Check the number of row that contains multiple label then sort it\n",
        "\n",
        "doubleDiagnosisRow = list(set(doubleDiagnosisRow))\n",
        "print(\"double label row \",len(doubleDiagnosisRow))\n",
        "doubleDiagnosisRow.sort()"
      ],
      "execution_count": 20,
      "outputs": [
        {
          "output_type": "stream",
          "text": [
            "double label row  586\n"
          ],
          "name": "stdout"
        }
      ]
    },
    {
      "cell_type": "code",
      "metadata": {
        "id": "vjri4OCS-03J",
        "colab_type": "code",
        "outputId": "42bbb012-910a-40fe-a16a-d81206e79867",
        "colab": {
          "base_uri": "https://localhost:8080/",
          "height": 34
        }
      },
      "source": [
        "# Find keyword that has not been included in any of label keywords\n",
        "\n",
        "notlisted = []\n",
        "listed = False\n",
        "for row in doubleDiagnosisRow:\n",
        "  # print(row)\n",
        "  for ilist in leftEyeKeywords[row]:\n",
        "    # print(ilist)\n",
        "    listed = False\n",
        "    for j in keyAll:\n",
        "      if ilist in j:\n",
        "        listed = True\n",
        "        break\n",
        "    if listed == False:\n",
        "      notlisted.append(ilist)\n",
        "\n",
        "for row in doubleDiagnosisRow:\n",
        "  for ilist in rightEyeKeywords[row]:\n",
        "    listed = False\n",
        "    for j in keyAll:\n",
        "      if ilist in j:\n",
        "        listed = True\n",
        "        break\n",
        "    if listed == False:\n",
        "      notlisted.append(ilist)\n",
        "\n",
        "notlisted = list(set(notlisted))\n",
        "# notlisted\n",
        "print(\"not listed diagnosis key :\",len(notlisted))"
      ],
      "execution_count": 21,
      "outputs": [
        {
          "output_type": "stream",
          "text": [
            "not listed diagnosis key : 30\n"
          ],
          "name": "stdout"
        }
      ]
    },
    {
      "cell_type": "code",
      "metadata": {
        "id": "Hd9XtyD0_Upr",
        "colab_type": "code",
        "colab": {}
      },
      "source": [
        "# Create a function to separate keyword from multiple label row\n",
        "\n",
        "def intersectFromMultiLabel(mkeyAll):\n",
        "  mnotRecognizedList = []\n",
        "  mallkeyDiagnosis = []\n",
        "  for i in range(len(mkeyAll)):\n",
        "    mkeyAll[i] = list(set(mkeyAll[i]))\n",
        "    mallkeyDiagnosis = mallkeyDiagnosis+list(set(mkeyAll[i])) \n",
        "  for row in doubleDiagnosisRow:\n",
        "    notlistedList = []\n",
        "    listedList = []\n",
        "    colIndex = []\n",
        "    ind = []\n",
        "    tempList = []\n",
        "    for ilist in leftEyeKeywords[row]:\n",
        "      if ilist not in mallkeyDiagnosis:\n",
        "        tempList.append(ilist)\n",
        "    for ilist in rightEyeKeywords[row]:\n",
        "      if ilist not in mallkeyDiagnosis:\n",
        "        tempList.append(ilist)\n",
        "\n",
        "    for i in range(7, len(test_df.columns)):\n",
        "      if test_df[test_df.columns[i]][row] == 1:\n",
        "        colIndex.append(i-7)\n",
        "    tempList = list(set(tempList))\n",
        "    isContainAbnormal = 7 in colIndex\n",
        "    if len(tempList) > 0:\n",
        "      ind = colIndex\n",
        "      for ilist in leftEyeKeywords[row]:\n",
        "        if ilist not in tempList:\n",
        "          listedList.append(ilist)\n",
        "      for ilist in rightEyeKeywords[row]:\n",
        "        if ilist not in tempList:\n",
        "          listedList.append(ilist)\n",
        "      \n",
        "      for ilist in listedList:\n",
        "        for i in colIndex:    \n",
        "          if ilist in keyNormal:\n",
        "            continue\n",
        "          if ilist in mkeyAll[i]:\n",
        "            ind.remove(i)\n",
        "\n",
        "      if len(ind) == 0 and isContainAbnormal:\n",
        "        ind.append(7)\n",
        "      if len(ind) == 1 and len(tempList) == 1:\n",
        "        mkeyAll[ind[0]] = mkeyAll[ind[0]] + tempList\n",
        "        mkeyAll[ind[0]] = list(set(mkeyAll[ind[0]]))\n",
        "      else:\n",
        "        print(\"not recognize\")\n",
        "        mnotRecognizedList.append(tempList[0])\n",
        "        mnotRecognizedList = list(set(mnotRecognizedList))\n",
        "\n",
        "    mallkeyDiagnosis = []\n",
        "    for i in mkeyAll:\n",
        "      mallkeyDiagnosis = mallkeyDiagnosis+list(set(i))\n",
        "  return mkeyAll, mnotRecognizedList"
      ],
      "execution_count": 0,
      "outputs": []
    },
    {
      "cell_type": "code",
      "metadata": {
        "id": "cPSWTgKq_OKp",
        "colab_type": "code",
        "outputId": "f84c4aa2-b245-4909-e934-a01f953fd827",
        "colab": {
          "base_uri": "https://localhost:8080/",
          "height": 204
        }
      },
      "source": [
        "itterate = True\n",
        "notRecognizedList = []\n",
        "while itterate :\n",
        "  temp_allkeyDiagnosis = allkeyDiagnosis.copy()\n",
        "  keyAll, notRecognizedList = intersectFromMultiLabel(keyAll)\n",
        "  allkeyDiagnosis = getAllRecognizedKey(keyAll)\n",
        "  # print(len(temp_allkeyDiagnosis), len(allkeyDiagnosis))\n",
        "  print(notRecognizedList)\n",
        "  if len(temp_allkeyDiagnosis) == len(allkeyDiagnosis):\n",
        "    print(True)\n",
        "    itterate = False"
      ],
      "execution_count": 23,
      "outputs": [
        {
          "output_type": "stream",
          "text": [
            "not recognize\n",
            "not recognize\n",
            "not recognize\n",
            "['image offset', 'myopia retinopathy', 'suspected cataract']\n",
            "not recognize\n",
            "not recognize\n",
            "['image offset', 'suspected cataract']\n",
            "not recognize\n",
            "not recognize\n",
            "['image offset', 'suspected cataract']\n",
            "True\n"
          ],
          "name": "stdout"
        }
      ]
    },
    {
      "cell_type": "code",
      "metadata": {
        "id": "mMrWohDDCuJQ",
        "colab_type": "code",
        "outputId": "103081c1-ac1e-48dc-8969-482633892cba",
        "colab": {
          "base_uri": "https://localhost:8080/",
          "height": 221
        }
      },
      "source": [
        "allkeyDiagnosis = getAllRecognizedKey(keyAll)\n",
        "\n",
        "keyNormal, keyDiabetes, keyGlaucoma, keyCataract, keyAMD, keyHypertension, keyMyopia, keyOtherDisease = keyAll[0], keyAll[1], keyAll[2], keyAll[3], keyAll[4], keyAll[5], keyAll[6], keyAll[7]\n",
        "\n",
        "for i in range(8):\n",
        "  print(labelString[i], len(keyAll[i]))\n",
        "\n",
        "print(\"\\nall regnized key :\",len(allkeyDiagnosis))\n",
        "print(\"\\nnot recognized key : \", list(set(allDiagnosis)-set(allkeyDiagnosis)))"
      ],
      "execution_count": 24,
      "outputs": [
        {
          "output_type": "stream",
          "text": [
            "Normal 3\n",
            "Diabetes 11\n",
            "Glaucoma 3\n",
            "Cataract 1\n",
            "AMD 3\n",
            "Hypertension 1\n",
            "Myopia 5\n",
            "Abnormalities 76\n",
            "\n",
            "all regnized key : 103\n",
            "\n",
            "not recognized key :  ['image offset', 'suspected cataract']\n"
          ],
          "name": "stdout"
        }
      ]
    },
    {
      "cell_type": "code",
      "metadata": {
        "id": "R2_Zboek2d6v",
        "colab_type": "code",
        "colab": {}
      },
      "source": [
        "# Add keyword manually into one label keywords\n",
        "\n",
        "string = 'suspected cataract'\n",
        "if string in notRecognizedList and string not in allkeyDiagnosis:\n",
        "  keyAll[3].append(string)\n",
        "  notRecognizedList.remove(string)"
      ],
      "execution_count": 0,
      "outputs": []
    },
    {
      "cell_type": "code",
      "metadata": {
        "id": "OBmGFy_AAMDB",
        "colab_type": "code",
        "outputId": "a44e3e94-a594-4605-880b-9c8cccca19f0",
        "colab": {
          "base_uri": "https://localhost:8080/",
          "height": 173
        }
      },
      "source": [
        "for label in keyAll:\n",
        "  print(label)"
      ],
      "execution_count": 26,
      "outputs": [
        {
          "output_type": "stream",
          "text": [
            "['normal fundus', 'lens dust', 'low image quality']\n",
            "['severe proliferative diabetic retinopathy', 'hypertensive retinopathy,diabetic retinopathy', 'no fundus image', 'suspected diabetic retinopathy', 'severe nonproliferative retinopathy', 'suspicious diabetic retinopathy', 'suspected moderate non proliferative retinopathy', 'moderate non proliferative retinopathy', 'proliferative diabetic retinopathy', 'diabetic retinopathy', 'mild nonproliferative retinopathy']\n",
            "['glaucoma', 'optic disk photographically invisible', 'suspected glaucoma']\n",
            "['cataract', 'suspected cataract']\n",
            "['wet age-related macular degeneration', 'dry age-related macular degeneration', 'age-related macular degeneration']\n",
            "['hypertensive retinopathy']\n",
            "['anterior segment image', 'myopia retinopathy', 'myopic maculopathy', 'myopic retinopathy', 'pathological myopia']\n",
            "['epiretinal membrane', 'retinal pigment epithelium atrophy', 'laser spot', 'epiretinal membrane over the macula', 'macular epiretinal membrane', 'old chorioretinopathy', 'retinal detachment', 'diffuse chorioretinal atrophy', 'chorioretinal atrophy', 'myelinated nerve fibers', 'oval yellow-white atrophy', 'morning glory syndrome', 'fundus laser photocoagulation spots', 'tessellated fundus', 'silicone oil eye', 'drusen', 'depigmentation of the retinal pigment epithelium', 'suspected abnormal color of  optic disc', 'old central retinal vein occlusion', 'wedge-shaped change', 'pigmentation disorder', 'atrophy', 'maculopathy', 'vascular loops', 'atrophic change', 'refractive media opacity', 'idiopathic choroidal neovascularization', 'white vessel', 'suspected retinitis pigmentosa', 'post retinal laser surgery', 'vitreous degeneration', 'post laser photocoagulation,diabetic retinopathy,maculopathy', 'retinitis pigmentosa', 'wedge white line change', 'optic disk epiretinal membrane', 'congenital choroidal coloboma', 'vitreous opacity', 'retinal pigment epithelial hypertrophy', 'pigment epithelium proliferation', 'chorioretinal atrophy with pigmentation proliferation', 'rhegmatogenous retinal detachment', 'old branch retinal vein occlusion', 'retinal vascular sheathing', 'glial remnants anterior to the optic disc', 'branch retinal vein occlusion', 'spotted membranous change', 'suspected retinal vascular sheathing', 'branch retinal artery occlusion', 'suspected macular epimacular membrane', 'central retinal artery occlusion', 'macular pigmentation disorder', 'optic discitis', 'retinal artery macroaneurysm', 'retinal pigmentation', 'vessel tortuosity', 'punctate inner choroidopathy', 'post laser photocoagulation', 'peripapillary atrophy', 'central retinal vein occlusion', 'optic nerve atrophy', 'central serous chorioretinopathy', 'macular hole', 'retinochoroidal coloboma', 'diffuse retinal atrophy', 'optic disc edema', 'low image quality,maculopathy', 'suspected microvascular anomalies', 'intraretinal hemorrhage', 'macular coloboma', 'abnormal pigment ', 'choroidal nevus', 'old choroiditis', 'retina fold', 'arteriosclerosis', 'intraretinal microvascular abnormality', 'asteroid hyalosis']\n"
          ],
          "name": "stdout"
        }
      ]
    },
    {
      "cell_type": "code",
      "metadata": {
        "id": "O2SIHwrn8vlT",
        "colab_type": "code",
        "colab": {}
      },
      "source": [
        "# Remove keyword that contains \"lens dust\", \"optic disk photographically invisible\"\n",
        "# \"low image quality\" and \"image offset\"\n",
        "\n",
        "for i, label in enumerate(keyAll[:]):\n",
        "  for key in label[:]:\n",
        "    if 'lens dust' in key or \"optic disk photographically invisible\" in key \\\n",
        "    or \"low image quality\" in key or \"image offset\" in key:\n",
        "      keyAll[i].remove(key)"
      ],
      "execution_count": 0,
      "outputs": []
    },
    {
      "cell_type": "code",
      "metadata": {
        "id": "5P3CmbEh0JMp",
        "colab_type": "code",
        "colab": {}
      },
      "source": [
        "# Assign label for each image filename\n",
        "\n",
        "labels = []\n",
        "for keyword in new_df.keywords.values.tolist():\n",
        "  temp = []\n",
        "  for key in keyword:\n",
        "    if key in keyNormal:\n",
        "      temp.append('N')\n",
        "      continue\n",
        "    elif key in keyDiabetes:\n",
        "      temp.append('D')\n",
        "      continue\n",
        "    elif key in keyGlaucoma:\n",
        "      temp.append('G')\n",
        "      continue\n",
        "    elif key in keyCataract:\n",
        "      temp.append('C')\n",
        "      continue\n",
        "    elif key in keyAMD:\n",
        "      temp.append('A')\n",
        "      continue\n",
        "    elif key in keyHypertension:\n",
        "      temp.append('H')\n",
        "      continue\n",
        "    elif key in keyMyopia:\n",
        "      temp.append('M')\n",
        "      continue\n",
        "    elif key in keyOtherDisease:\n",
        "      temp.append('O')\n",
        "      continue\n",
        "  labels.append(temp)"
      ],
      "execution_count": 0,
      "outputs": []
    },
    {
      "cell_type": "code",
      "metadata": {
        "id": "q00i_11fStc5",
        "colab_type": "code",
        "colab": {}
      },
      "source": [
        "# Create a dataframe containing image filename, keywords and its label\n",
        "\n",
        "filename = df['Left-Fundus'].values.tolist() + \\\n",
        "df['Right-Fundus'].values.tolist()\n",
        "\n",
        "keyword = leftEyeKeywords.values.tolist() + \\\n",
        "rightEyeKeywords.values.tolist()\n",
        "\n",
        "new_df = pd.DataFrame(list(zip(filename, keyword, labels)), columns =['filename', 'keywords', 'label'])"
      ],
      "execution_count": 0,
      "outputs": []
    },
    {
      "cell_type": "code",
      "metadata": {
        "id": "KTpftz0Vfiie",
        "colab_type": "code",
        "colab": {
          "base_uri": "https://localhost:8080/",
          "height": 419
        },
        "outputId": "51dbfb90-c205-4a4d-c5ea-cf751dbfeb41"
      },
      "source": [
        "new_df"
      ],
      "execution_count": 60,
      "outputs": [
        {
          "output_type": "execute_result",
          "data": {
            "text/html": [
              "<div>\n",
              "<style scoped>\n",
              "    .dataframe tbody tr th:only-of-type {\n",
              "        vertical-align: middle;\n",
              "    }\n",
              "\n",
              "    .dataframe tbody tr th {\n",
              "        vertical-align: top;\n",
              "    }\n",
              "\n",
              "    .dataframe thead th {\n",
              "        text-align: right;\n",
              "    }\n",
              "</style>\n",
              "<table border=\"1\" class=\"dataframe\">\n",
              "  <thead>\n",
              "    <tr style=\"text-align: right;\">\n",
              "      <th></th>\n",
              "      <th>filename</th>\n",
              "      <th>keywords</th>\n",
              "      <th>label</th>\n",
              "    </tr>\n",
              "  </thead>\n",
              "  <tbody>\n",
              "    <tr>\n",
              "      <th>0</th>\n",
              "      <td>0_left.jpg</td>\n",
              "      <td>[cataract]</td>\n",
              "      <td>[C]</td>\n",
              "    </tr>\n",
              "    <tr>\n",
              "      <th>1</th>\n",
              "      <td>1_left.jpg</td>\n",
              "      <td>[normal fundus]</td>\n",
              "      <td>[N]</td>\n",
              "    </tr>\n",
              "    <tr>\n",
              "      <th>2</th>\n",
              "      <td>2_left.jpg</td>\n",
              "      <td>[laser spot, moderate non proliferative retino...</td>\n",
              "      <td>[O, D]</td>\n",
              "    </tr>\n",
              "    <tr>\n",
              "      <th>3</th>\n",
              "      <td>3_left.jpg</td>\n",
              "      <td>[normal fundus]</td>\n",
              "      <td>[N]</td>\n",
              "    </tr>\n",
              "    <tr>\n",
              "      <th>4</th>\n",
              "      <td>4_left.jpg</td>\n",
              "      <td>[macular epiretinal membrane]</td>\n",
              "      <td>[O]</td>\n",
              "    </tr>\n",
              "    <tr>\n",
              "      <th>...</th>\n",
              "      <td>...</td>\n",
              "      <td>...</td>\n",
              "      <td>...</td>\n",
              "    </tr>\n",
              "    <tr>\n",
              "      <th>6995</th>\n",
              "      <td>4686_right.jpg</td>\n",
              "      <td>[proliferative diabetic retinopathy]</td>\n",
              "      <td>[D]</td>\n",
              "    </tr>\n",
              "    <tr>\n",
              "      <th>6996</th>\n",
              "      <td>4688_right.jpg</td>\n",
              "      <td>[moderate non proliferative retinopathy]</td>\n",
              "      <td>[D]</td>\n",
              "    </tr>\n",
              "    <tr>\n",
              "      <th>6997</th>\n",
              "      <td>4689_right.jpg</td>\n",
              "      <td>[normal fundus]</td>\n",
              "      <td>[N]</td>\n",
              "    </tr>\n",
              "    <tr>\n",
              "      <th>6998</th>\n",
              "      <td>4690_right.jpg</td>\n",
              "      <td>[mild nonproliferative retinopathy]</td>\n",
              "      <td>[D]</td>\n",
              "    </tr>\n",
              "    <tr>\n",
              "      <th>6999</th>\n",
              "      <td>4784_right.jpg</td>\n",
              "      <td>[hypertensive retinopathy, age-related macular...</td>\n",
              "      <td>[H, A]</td>\n",
              "    </tr>\n",
              "  </tbody>\n",
              "</table>\n",
              "<p>7000 rows × 3 columns</p>\n",
              "</div>"
            ],
            "text/plain": [
              "            filename                                           keywords   label\n",
              "0         0_left.jpg                                         [cataract]     [C]\n",
              "1         1_left.jpg                                    [normal fundus]     [N]\n",
              "2         2_left.jpg  [laser spot, moderate non proliferative retino...  [O, D]\n",
              "3         3_left.jpg                                    [normal fundus]     [N]\n",
              "4         4_left.jpg                      [macular epiretinal membrane]     [O]\n",
              "...              ...                                                ...     ...\n",
              "6995  4686_right.jpg               [proliferative diabetic retinopathy]     [D]\n",
              "6996  4688_right.jpg           [moderate non proliferative retinopathy]     [D]\n",
              "6997  4689_right.jpg                                    [normal fundus]     [N]\n",
              "6998  4690_right.jpg                [mild nonproliferative retinopathy]     [D]\n",
              "6999  4784_right.jpg  [hypertensive retinopathy, age-related macular...  [H, A]\n",
              "\n",
              "[7000 rows x 3 columns]"
            ]
          },
          "metadata": {
            "tags": []
          },
          "execution_count": 60
        }
      ]
    },
    {
      "cell_type": "code",
      "metadata": {
        "id": "GJVLwDLyIdea",
        "colab_type": "code",
        "colab": {}
      },
      "source": [
        ""
      ],
      "execution_count": 0,
      "outputs": []
    }
  ]
}