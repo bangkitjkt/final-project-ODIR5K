{
  "nbformat": 4,
  "nbformat_minor": 0,
  "metadata": {
    "colab": {
      "name": "ODIR-5K.ipynb",
      "provenance": [],
      "collapsed_sections": []
    },
    "kernelspec": {
      "name": "python3",
      "display_name": "Python 3"
    },
    "accelerator": "GPU"
  },
  "cells": [
    {
      "cell_type": "code",
      "metadata": {
        "id": "oU8kLkGwzqpx",
        "colab_type": "code",
        "colab": {}
      },
      "source": [
        "# ! pip install kaggle"
      ],
      "execution_count": 0,
      "outputs": []
    },
    {
      "cell_type": "code",
      "metadata": {
        "id": "XcwxlTWRzwpp",
        "colab_type": "code",
        "outputId": "20f60f1e-ec74-4e8c-f92a-5c689dea6db8",
        "colab": {
          "resources": {
            "http://localhost:8080/nbextensions/google.colab/files.js": {
              "data": "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",
              "ok": true,
              "headers": [
                [
                  "content-type",
                  "application/javascript"
                ]
              ],
              "status": 200,
              "status_text": ""
            }
          },
          "base_uri": "https://localhost:8080/",
          "height": 91
        }
      },
      "source": [
        "from google.colab import files\n",
        "files.upload()"
      ],
      "execution_count": 2,
      "outputs": [
        {
          "output_type": "display_data",
          "data": {
            "text/html": [
              "\n",
              "     <input type=\"file\" id=\"files-b1941953-5805-43f6-8193-ccb724ab5d28\" name=\"files[]\" multiple disabled />\n",
              "     <output id=\"result-b1941953-5805-43f6-8193-ccb724ab5d28\">\n",
              "      Upload widget is only available when the cell has been executed in the\n",
              "      current browser session. Please rerun this cell to enable.\n",
              "      </output>\n",
              "      <script src=\"/nbextensions/google.colab/files.js\"></script> "
            ],
            "text/plain": [
              "<IPython.core.display.HTML object>"
            ]
          },
          "metadata": {
            "tags": []
          }
        },
        {
          "output_type": "stream",
          "text": [
            "Saving kaggle.json to kaggle.json\n"
          ],
          "name": "stdout"
        },
        {
          "output_type": "execute_result",
          "data": {
            "text/plain": [
              "{'kaggle.json': b'{\"username\":\"hamdiazhari\",\"key\":\"327b3081f0511c196ce37f1defdcf197\"}'}"
            ]
          },
          "metadata": {
            "tags": []
          },
          "execution_count": 2
        }
      ]
    },
    {
      "cell_type": "code",
      "metadata": {
        "id": "591oZGU6z08A",
        "colab_type": "code",
        "colab": {}
      },
      "source": [
        "! mkdir ~/.kaggle\n",
        "! cp kaggle.json ~/.kaggle/\n",
        "! chmod 600 ~/.kaggle/kaggle.json"
      ],
      "execution_count": 0,
      "outputs": []
    },
    {
      "cell_type": "code",
      "metadata": {
        "id": "TapzZqAu2sIg",
        "colab_type": "code",
        "colab": {
          "base_uri": "https://localhost:8080/",
          "height": 68
        },
        "outputId": "4978e714-8b1b-430b-c215-a73079a70a21"
      },
      "source": [
        "import zipfile\n",
        "\n",
        "! kaggle datasets download -d 'andrewmvd/ocular-disease-recognition-odir5k' -p '/content/sample_data'\n",
        "\n",
        "local_zip = '/content/sample_data/ocular-disease-recognition-odir5k.zip'\n",
        "zip_ref = zipfile.ZipFile(local_zip, 'r')\n",
        "zip_ref.extractall('/content/sample_data')\n",
        "zip_ref.close()"
      ],
      "execution_count": 4,
      "outputs": [
        {
          "output_type": "stream",
          "text": [
            "Downloading ocular-disease-recognition-odir5k.zip to /content/sample_data\n",
            "100% 1.25G/1.26G [00:30<00:00, 19.8MB/s]\n",
            "100% 1.26G/1.26G [00:30<00:00, 44.4MB/s]\n"
          ],
          "name": "stdout"
        }
      ]
    },
    {
      "cell_type": "code",
      "metadata": {
        "id": "itPc7EOQviYW",
        "colab_type": "code",
        "outputId": "8f2f20c8-c83c-45a0-8e9e-88f6b4ce1fc5",
        "colab": {
          "base_uri": "https://localhost:8080/",
          "height": 88
        }
      },
      "source": [
        "import numpy as np\n",
        "import seaborn as sns\n",
        "import matplotlib.pyplot as plt\n",
        "import pandas as pd\n",
        "import sklearn\n",
        "\n",
        "import tensorflow as tf\n",
        "import keras_preprocessing\n",
        "from keras_preprocessing import image\n",
        "from keras_preprocessing.image import ImageDataGenerator\n",
        "import tensorflow.keras.optimizers\n",
        "\n",
        "import os\n",
        "import shutil\n",
        "from random import sample\n",
        "\n",
        "print(tf.__version__)"
      ],
      "execution_count": 5,
      "outputs": [
        {
          "output_type": "stream",
          "text": [
            "/usr/local/lib/python3.6/dist-packages/statsmodels/tools/_testing.py:19: FutureWarning: pandas.util.testing is deprecated. Use the functions in the public API at pandas.testing instead.\n",
            "  import pandas.util.testing as tm\n"
          ],
          "name": "stderr"
        },
        {
          "output_type": "stream",
          "text": [
            "2.2.0\n"
          ],
          "name": "stdout"
        }
      ]
    },
    {
      "cell_type": "code",
      "metadata": {
        "id": "Hom2O2DGgUYY",
        "colab_type": "code",
        "colab": {}
      },
      "source": [
        "os.chdir('/content/sample_data/ODIR-5K')"
      ],
      "execution_count": 0,
      "outputs": []
    },
    {
      "cell_type": "code",
      "metadata": {
        "id": "CTXBJFqRS444",
        "colab_type": "code",
        "outputId": "4a1e802f-1353-4e85-b81a-6fdb1078073d",
        "colab": {
          "base_uri": "https://localhost:8080/",
          "height": 153
        }
      },
      "source": [
        "from pandas import read_excel\n",
        "\n",
        "my_sheet = 'Sheet1'\n",
        "file_name = '/content/sample_data/ODIR-5K/data.xlsx'\n",
        "df = read_excel(file_name, sheet_name = my_sheet)\n",
        "print(df.head())"
      ],
      "execution_count": 7,
      "outputs": [
        {
          "output_type": "stream",
          "text": [
            "   ID  Patient Age Patient Sex Left-Fundus Right-Fundus  ...  C  A  H  M  O\n",
            "0   0           69      Female  0_left.jpg  0_right.jpg  ...  1  0  0  0  0\n",
            "1   1           57        Male  1_left.jpg  1_right.jpg  ...  0  0  0  0  0\n",
            "2   2           42        Male  2_left.jpg  2_right.jpg  ...  0  0  0  0  1\n",
            "3   3           66        Male  3_left.jpg  3_right.jpg  ...  0  0  0  0  1\n",
            "4   4           53        Male  4_left.jpg  4_right.jpg  ...  0  0  0  0  1\n",
            "\n",
            "[5 rows x 15 columns]\n"
          ],
          "name": "stdout"
        }
      ]
    },
    {
      "cell_type": "code",
      "metadata": {
        "id": "E1orwN3EUU6T",
        "colab_type": "code",
        "colab": {}
      },
      "source": [
        "leftEyeKeywords = df['Left-Diagnostic Keywords'].copy()\n",
        "rightEyeKeywords = df['Right-Diagnostic Keywords'].copy()"
      ],
      "execution_count": 0,
      "outputs": []
    },
    {
      "cell_type": "code",
      "metadata": {
        "id": "T2PNuC7KedHL",
        "colab_type": "code",
        "colab": {}
      },
      "source": [
        "leftEyeKeywords = leftEyeKeywords.str.split(\"，\")\n",
        "rightEyeKeywords = rightEyeKeywords.str.split(\"，\")"
      ],
      "execution_count": 0,
      "outputs": []
    },
    {
      "cell_type": "code",
      "metadata": {
        "id": "9KYe5hkbfFLW",
        "colab_type": "code",
        "outputId": "bbc065ce-a993-4f17-ed16-cf51bbad2e16",
        "colab": {
          "base_uri": "https://localhost:8080/",
          "height": 34
        }
      },
      "source": [
        "leftEyeKeywords[2]"
      ],
      "execution_count": 10,
      "outputs": [
        {
          "output_type": "execute_result",
          "data": {
            "text/plain": [
              "['laser spot', 'moderate non proliferative retinopathy']"
            ]
          },
          "metadata": {
            "tags": []
          },
          "execution_count": 10
        }
      ]
    },
    {
      "cell_type": "code",
      "metadata": {
        "id": "Hztf5Z1TUnbp",
        "colab_type": "code",
        "outputId": "e769c08e-f9cb-4dfd-8411-891fa352ff66",
        "colab": {
          "base_uri": "https://localhost:8080/",
          "height": 34
        }
      },
      "source": [
        "from sklearn.preprocessing import MultiLabelBinarizer\n",
        "\n",
        "mlb = MultiLabelBinarizer()\n",
        "\n",
        "res = pd.DataFrame(mlb.fit_transform(rightEyeKeywords),\n",
        "                   columns=mlb.classes_,\n",
        "                   index=rightEyeKeywords.index)\n",
        "\n",
        "allDiagnosisLeft = res.columns.to_list()\n",
        "len(allDiagnosisLeft)\n",
        "\n",
        "res = pd.DataFrame(mlb.fit_transform(leftEyeKeywords),\n",
        "                   columns=mlb.classes_,\n",
        "                   index=leftEyeKeywords.index)\n",
        "\n",
        "allDiagnosisRight = res.columns.to_list()\n",
        "len(allDiagnosisRight)\n",
        "\n",
        "allDiagnosis=list(set(allDiagnosisLeft+allDiagnosisRight))\n",
        "print(\"total different keys diagnosis :\", len(allDiagnosis))"
      ],
      "execution_count": 11,
      "outputs": [
        {
          "output_type": "stream",
          "text": [
            "total different keys diagnosis : 105\n"
          ],
          "name": "stdout"
        }
      ]
    },
    {
      "cell_type": "code",
      "metadata": {
        "id": "Gouv-_ojhgV1",
        "colab_type": "code",
        "outputId": "079ec95c-0cf6-4bb0-910b-2eaf458e839a",
        "colab": {
          "base_uri": "https://localhost:8080/",
          "height": 170
        }
      },
      "source": [
        "test_df = df.copy()\n",
        "doubleDiagnosisRow = []\n",
        "\n",
        "def getKeyDiagnosisSingle(colName):\n",
        "  keyDiagnosis = []\n",
        "  global doubleDiagnosisRow\n",
        "  store = True\n",
        "  for row in range(len(test_df[colName])):\n",
        "    store = True\n",
        "    if test_df[colName][row] == 1:\n",
        "      for lable in test_df.columns[7:]:\n",
        "        if lable == colName:\n",
        "          continue\n",
        "        if test_df[lable][row] == 1:\n",
        "          doubleDiagnosisRow.append(row)\n",
        "          store = False\n",
        "          break\n",
        "        \n",
        "      if store == True:\n",
        "        for i in rightEyeKeywords[row]:\n",
        "          keyDiagnosis.append(i)\n",
        "        for i in leftEyeKeywords[row]:\n",
        "          keyDiagnosis.append(i)\n",
        "      \n",
        "\n",
        "  keyDiagnosis = list(set(keyDiagnosis))\n",
        "  return keyDiagnosis\n",
        "\n",
        "keyNormal = getKeyDiagnosisSingle(test_df.columns[7])\n",
        "keyDiabetes = getKeyDiagnosisSingle(test_df.columns[8])\n",
        "keyGlaucoma = getKeyDiagnosisSingle(test_df.columns[9])\n",
        "keyCataract = getKeyDiagnosisSingle(test_df.columns[10])\n",
        "keyAMD = getKeyDiagnosisSingle(test_df.columns[11])\n",
        "keyHypertension = getKeyDiagnosisSingle(test_df.columns[12])\n",
        "keyMyopia = getKeyDiagnosisSingle(test_df.columns[13])\n",
        "keyOtherDisease = getKeyDiagnosisSingle(test_df.columns[14])\n",
        "\n",
        "labelString = ['Normal', 'Diabetes', 'Glaucoma', 'Cataract', 'AMD', 'Hypertension', 'Myopia', 'Abnormalities']\n",
        "keyAll = [keyNormal, keyDiabetes, keyGlaucoma, keyCataract, keyAMD, keyHypertension, keyMyopia, keyOtherDisease]\n",
        "\n",
        "for i in range(8):\n",
        "  print(labelString[i], len(keyAll[i]))\n",
        "\n",
        "keyNormal"
      ],
      "execution_count": 13,
      "outputs": [
        {
          "output_type": "stream",
          "text": [
            "Normal 3\n",
            "Diabetes 10\n",
            "Glaucoma 5\n",
            "Cataract 3\n",
            "AMD 3\n",
            "Hypertension 1\n",
            "Myopia 6\n",
            "Abnormalities 57\n"
          ],
          "name": "stdout"
        },
        {
          "output_type": "execute_result",
          "data": {
            "text/plain": [
              "['low image quality', 'normal fundus', 'lens dust']"
            ]
          },
          "metadata": {
            "tags": []
          },
          "execution_count": 13
        }
      ]
    },
    {
      "cell_type": "code",
      "metadata": {
        "id": "nPK8Z33vJYT_",
        "colab_type": "code",
        "outputId": "d5c359d8-3b90-4006-9350-5e267dae5fb7",
        "colab": {
          "base_uri": "https://localhost:8080/",
          "height": 374
        }
      },
      "source": [
        "print(\"intersect by normal :\\n\")\n",
        "for i in range(1,len(keyAll)):\n",
        "  keyAll[i] = list(set(keyAll[i])-set(keyAll[0]))\n",
        "\n",
        "for i in range(8):\n",
        "  print(labelString[i], len(keyAll[i]))\n",
        "\n",
        "print(\"\\nintersect by other :\\n\")\n",
        "for i in range(len(keyAll)):\n",
        "  for j in range(i,len(keyAll)):\n",
        "    if i == j:\n",
        "      continue\n",
        "    else :\n",
        "      keyAll[i] = list(set(keyAll[i])-set(keyAll[j]))\n",
        "\n",
        "for i in range(8):\n",
        "  print(labelString[i], len(keyAll[i]))"
      ],
      "execution_count": 14,
      "outputs": [
        {
          "output_type": "stream",
          "text": [
            "intersect by normal :\n",
            "\n",
            "Normal 3\n",
            "Diabetes 8\n",
            "Glaucoma 3\n",
            "Cataract 1\n",
            "AMD 2\n",
            "Hypertension 1\n",
            "Myopia 4\n",
            "Abnormalities 54\n",
            "\n",
            "intersect by other :\n",
            "\n",
            "Normal 3\n",
            "Diabetes 7\n",
            "Glaucoma 3\n",
            "Cataract 1\n",
            "AMD 2\n",
            "Hypertension 1\n",
            "Myopia 4\n",
            "Abnormalities 54\n"
          ],
          "name": "stdout"
        }
      ]
    },
    {
      "cell_type": "code",
      "metadata": {
        "id": "bIJUUG2oH2tt",
        "colab_type": "code",
        "colab": {}
      },
      "source": [
        "def getAllRecognizedKey(mkeyAll):\n",
        "  mallkeyDiagnosis = []\n",
        "  for i in range(len(mkeyAll)):\n",
        "    mkeyAll[i] = list(set(mkeyAll[i]))\n",
        "    mallkeyDiagnosis = mallkeyDiagnosis+list(set(mkeyAll[i]))\n",
        "  return mallkeyDiagnosis"
      ],
      "execution_count": 0,
      "outputs": []
    },
    {
      "cell_type": "code",
      "metadata": {
        "id": "7omjYK87Kuud",
        "colab_type": "code",
        "outputId": "7c81dbb7-d61c-467c-c894-df0d009de47c",
        "colab": {
          "base_uri": "https://localhost:8080/",
          "height": 34
        }
      },
      "source": [
        "keyNormal, keyDiabetes, keyGlaucoma, keyCataract, keyAMD, keyHypertension, keyMyopia, keyOtherDisease = keyAll[0], keyAll[1], keyAll[2], keyAll[3], keyAll[4], keyAll[5], keyAll[6], keyAll[7]\n",
        "\n",
        "allkeyDiagnosis = getAllRecognizedKey(keyAll)\n",
        "len(allkeyDiagnosis)"
      ],
      "execution_count": 16,
      "outputs": [
        {
          "output_type": "execute_result",
          "data": {
            "text/plain": [
              "75"
            ]
          },
          "metadata": {
            "tags": []
          },
          "execution_count": 16
        }
      ]
    },
    {
      "cell_type": "code",
      "metadata": {
        "id": "Aqo7Ry5eFZA4",
        "colab_type": "code",
        "colab": {
          "base_uri": "https://localhost:8080/",
          "height": 34
        },
        "outputId": "039dae28-38ce-49d9-a5bb-1c3f971a570e"
      },
      "source": [
        "doubleDiagnosisRow = list(set(doubleDiagnosisRow))\n",
        "print(\"double lablel row \",len(doubleDiagnosisRow))\n",
        "doubleDiagnosisRow.sort()\n",
        "# doubleDiagnosisRow"
      ],
      "execution_count": 17,
      "outputs": [
        {
          "output_type": "stream",
          "text": [
            "double lablel row  586\n"
          ],
          "name": "stdout"
        }
      ]
    },
    {
      "cell_type": "code",
      "metadata": {
        "id": "GEyir8vobyi-",
        "colab_type": "code",
        "colab": {
          "base_uri": "https://localhost:8080/",
          "height": 34
        },
        "outputId": "a2587fd1-a623-4eaa-d60f-bbc2d30e4d1d"
      },
      "source": [
        "notlisted = []\n",
        "listed = False\n",
        "for row in doubleDiagnosisRow:\n",
        "  # print(row)\n",
        "  for ilist in leftEyeKeywords[row]:\n",
        "    # print(ilist)\n",
        "    listed = False\n",
        "    for j in keyAll:\n",
        "      if ilist in j:\n",
        "        listed = True\n",
        "        break\n",
        "    if listed == False:\n",
        "      notlisted.append(ilist)\n",
        "\n",
        "for row in doubleDiagnosisRow:\n",
        "  for ilist in rightEyeKeywords[row]:\n",
        "    listed = False\n",
        "    for j in keyAll:\n",
        "      if ilist in j:\n",
        "        listed = True\n",
        "        break\n",
        "    if listed == False:\n",
        "      notlisted.append(ilist)\n",
        "\n",
        "notlisted = list(set(notlisted))\n",
        "# notlisted\n",
        "print(\"not listed diagnosis key :\",len(notlisted))"
      ],
      "execution_count": 18,
      "outputs": [
        {
          "output_type": "stream",
          "text": [
            "not listed diagnosis key : 30\n"
          ],
          "name": "stdout"
        }
      ]
    },
    {
      "cell_type": "code",
      "metadata": {
        "id": "qTQerUJpLcZ_",
        "colab_type": "code",
        "colab": {}
      },
      "source": [
        "def intersectFromMultiLabel(mkeyAll):\n",
        "  mnotRecognizedList = []\n",
        "  mallkeyDiagnosis = []\n",
        "  for i in range(len(mkeyAll)):\n",
        "    mkeyAll[i] = list(set(mkeyAll[i]))\n",
        "    mallkeyDiagnosis = mallkeyDiagnosis+list(set(mkeyAll[i])) \n",
        "  for row in doubleDiagnosisRow:\n",
        "    notlistedList = []\n",
        "    listedList = []\n",
        "    colIndex = []\n",
        "    ind = []\n",
        "    tempList = []\n",
        "    for ilist in leftEyeKeywords[row]:\n",
        "      if ilist not in mallkeyDiagnosis:\n",
        "        tempList.append(ilist)\n",
        "    for ilist in rightEyeKeywords[row]:\n",
        "      if ilist not in mallkeyDiagnosis:\n",
        "        tempList.append(ilist)\n",
        "\n",
        "    for i in range(7, len(test_df.columns)):\n",
        "      if test_df[test_df.columns[i]][row] == 1:\n",
        "        colIndex.append(i-7)\n",
        "    tempList = list(set(tempList))\n",
        "    isContainAbnormal = 7 in colIndex\n",
        "    if len(tempList) > 0:\n",
        "      ind = colIndex\n",
        "      for ilist in leftEyeKeywords[row]:\n",
        "        if ilist not in tempList:\n",
        "          listedList.append(ilist)\n",
        "      for ilist in rightEyeKeywords[row]:\n",
        "        if ilist not in tempList:\n",
        "          listedList.append(ilist)\n",
        "      \n",
        "      for ilist in listedList:\n",
        "        for i in colIndex:    \n",
        "          if ilist in keyNormal:\n",
        "            continue\n",
        "          if ilist in mkeyAll[i]:\n",
        "            ind.remove(i)\n",
        "\n",
        "      if len(ind) == 0 and isContainAbnormal:\n",
        "        ind.append(7)\n",
        "      if len(ind) == 1 and len(tempList) == 1:\n",
        "        mkeyAll[ind[0]] = mkeyAll[ind[0]] + tempList\n",
        "        mkeyAll[ind[0]] = list(set(mkeyAll[ind[0]]))\n",
        "      else:\n",
        "        print(\"not recognize\")\n",
        "        mnotRecognizedList.append(tempList[0])\n",
        "        mnotRecognizedList = list(set(mnotRecognizedList))\n",
        "\n",
        "    mallkeyDiagnosis = []\n",
        "    for i in mkeyAll:\n",
        "      mallkeyDiagnosis = mallkeyDiagnosis+list(set(i))\n",
        "  return mkeyAll, mnotRecognizedList"
      ],
      "execution_count": 0,
      "outputs": []
    },
    {
      "cell_type": "code",
      "metadata": {
        "id": "Ut4PvF5cPG8F",
        "colab_type": "code",
        "colab": {
          "base_uri": "https://localhost:8080/",
          "height": 136
        },
        "outputId": "fdb15b17-9e34-4c13-eedf-d1be7646d5a5"
      },
      "source": [
        "itterate = True\n",
        "notRecognizedList = []\n",
        "while itterate :\n",
        "  temp_allkeyDiagnosis = allkeyDiagnosis.copy()\n",
        "  keyAll, notRecognizedList = intersectFromMultiLabel(keyAll)\n",
        "  allkeyDiagnosis = getAllRecognizedKey(keyAll)\n",
        "  # print(len(temp_allkeyDiagnosis), len(allkeyDiagnosis))\n",
        "  print(notRecognizedList)\n",
        "  if len(temp_allkeyDiagnosis) == len(allkeyDiagnosis):\n",
        "    print(True)\n",
        "    itterate = False"
      ],
      "execution_count": 21,
      "outputs": [
        {
          "output_type": "stream",
          "text": [
            "not recognize\n",
            "not recognize\n",
            "['image offset', 'suspected cataract']\n",
            "not recognize\n",
            "not recognize\n",
            "['image offset', 'suspected cataract']\n",
            "True\n"
          ],
          "name": "stdout"
        }
      ]
    },
    {
      "cell_type": "code",
      "metadata": {
        "id": "yODM2Ff9rFM-",
        "colab_type": "code",
        "colab": {
          "base_uri": "https://localhost:8080/",
          "height": 221
        },
        "outputId": "ce542a69-99e5-4d2f-a104-a465bead3d76"
      },
      "source": [
        "allkeyDiagnosis = getAllRecognizedKey(keyAll)\n",
        "\n",
        "keyNormal, keyDiabetes, keyGlaucoma, keyCataract, keyAMD, keyHypertension, keyMyopia, keyOtherDisease = keyAll[0], keyAll[1], keyAll[2], keyAll[3], keyAll[4], keyAll[5], keyAll[6], keyAll[7]\n",
        "\n",
        "for i in range(8):\n",
        "  print(labelString[i], len(keyAll[i]))\n",
        "\n",
        "print(\"\\nall regnized key :\",len(allkeyDiagnosis))\n",
        "print(\"\\nnot recognized key : \", list(set(allDiagnosis)-set(allkeyDiagnosis)))"
      ],
      "execution_count": 22,
      "outputs": [
        {
          "output_type": "stream",
          "text": [
            "Normal 3\n",
            "Diabetes 11\n",
            "Glaucoma 3\n",
            "Cataract 1\n",
            "AMD 3\n",
            "Hypertension 1\n",
            "Myopia 5\n",
            "Abnormalities 76\n",
            "\n",
            "all regnized key : 103\n",
            "\n",
            "not recognized key :  ['image offset', 'suspected cataract']\n"
          ],
          "name": "stdout"
        }
      ]
    },
    {
      "cell_type": "code",
      "metadata": {
        "id": "uHrL8GkCXM2o",
        "colab_type": "code",
        "colab": {}
      },
      "source": [
        "#manual listed key\n",
        "string = 'suspected cataract'\n",
        "if string in notRecognizedList and string not in allkeyDiagnosis:\n",
        "  keyAll[3].append(string)\n",
        "  notRecognizedList.remove(string)"
      ],
      "execution_count": 0,
      "outputs": []
    },
    {
      "cell_type": "code",
      "metadata": {
        "id": "rwA6EXzaYUAT",
        "colab_type": "code",
        "colab": {
          "base_uri": "https://localhost:8080/",
          "height": 34
        },
        "outputId": "b863a6d5-0817-4bdc-cf64-3b898602e44a"
      },
      "source": [
        "keyAll[3]"
      ],
      "execution_count": 24,
      "outputs": [
        {
          "output_type": "execute_result",
          "data": {
            "text/plain": [
              "['cataract', 'suspected cataract']"
            ]
          },
          "metadata": {
            "tags": []
          },
          "execution_count": 24
        }
      ]
    },
    {
      "cell_type": "code",
      "metadata": {
        "colab_type": "code",
        "outputId": "8ea4e9fe-dae6-44d2-b5e2-8eb893b69f12",
        "id": "ky3hJ-nOYUYR",
        "colab": {
          "base_uri": "https://localhost:8080/",
          "height": 221
        }
      },
      "source": [
        "allkeyDiagnosis = getAllRecognizedKey(keyAll)\n",
        "\n",
        "keyNormal, keyDiabetes, keyGlaucoma, keyCataract, keyAMD, keyHypertension, keyMyopia, keyOtherDisease = keyAll[0], keyAll[1], keyAll[2], keyAll[3], keyAll[4], keyAll[5], keyAll[6], keyAll[7]\n",
        "\n",
        "for i in range(len(keyAll)):\n",
        "  print(labelString[i], len(keyAll[i]))\n",
        "\n",
        "print(\"\\nall regnized key :\",len(allkeyDiagnosis))\n",
        "print(\"\\nnot recognized key : \", list(set(allDiagnosis)-set(allkeyDiagnosis)))"
      ],
      "execution_count": 25,
      "outputs": [
        {
          "output_type": "stream",
          "text": [
            "Normal 3\n",
            "Diabetes 11\n",
            "Glaucoma 3\n",
            "Cataract 2\n",
            "AMD 3\n",
            "Hypertension 1\n",
            "Myopia 5\n",
            "Abnormalities 76\n",
            "\n",
            "all regnized key : 104\n",
            "\n",
            "not recognized key :  ['image offset']\n"
          ],
          "name": "stdout"
        }
      ]
    },
    {
      "cell_type": "code",
      "metadata": {
        "id": "RN7_3Xsi7a6H",
        "colab_type": "code",
        "colab": {
          "base_uri": "https://localhost:8080/",
          "height": 51
        },
        "outputId": "30d867aa-15b5-4f80-d678-889b4e837ef3"
      },
      "source": [
        "string = 'central serous chorioretinopathy'\n",
        "\n",
        "for i in notRecognizedList:\n",
        "  if i not in allkeyDiagnosis:\n",
        "    print(\"not in : \", i)\n",
        "\n",
        "string in keyOtherDisease"
      ],
      "execution_count": 26,
      "outputs": [
        {
          "output_type": "stream",
          "text": [
            "not in :  image offset\n"
          ],
          "name": "stdout"
        },
        {
          "output_type": "execute_result",
          "data": {
            "text/plain": [
              "True"
            ]
          },
          "metadata": {
            "tags": []
          },
          "execution_count": 26
        }
      ]
    },
    {
      "cell_type": "code",
      "metadata": {
        "id": "JyOPujm1MBru",
        "colab_type": "code",
        "colab": {}
      },
      "source": [
        "train_dir = 'training'\n",
        "validation_dir = 'validation'\n",
        "test_dir = 'testing'\n",
        "\n",
        "training_source_path = '/content/sample_data/ODIR-5K/Training Images/'\n",
        "testing_source_path = '/content/sample_data/ODIR-5K/Testing Images/'\n",
        "\n",
        "training_path = '/content/sample_data/ODIR-5K/training/'\n",
        "validation_path = '/content/sample_data/ODIR-5K/validation/'\n",
        "testing_path = '/content/sample_data/ODIR-5K/testing/'\n",
        "\n",
        "if os.path.exists(training_path) or os.path.exists(validation_path) or os.path.exists(testing_path):\n",
        "  shutil.rmtree(training_path)\n",
        "  shutil.rmtree(validation_path)\n",
        "  shutil.rmtree(testing_path)\n",
        "\n",
        "os.mkdir(train_dir)\n",
        "os.mkdir(validation_dir)\n",
        "os.mkdir(test_dir)\n",
        "\n",
        "for i in labelString:\n",
        "  os.mkdir(train_dir+'/'+i)\n",
        "  os.mkdir(validation_dir+'/'+i)\n",
        "  os.mkdir(test_dir+'/'+i)"
      ],
      "execution_count": 0,
      "outputs": []
    },
    {
      "cell_type": "code",
      "metadata": {
        "id": "B_gSEGuVWqGP",
        "colab_type": "code",
        "outputId": "d78591f3-fd86-415c-958f-23f99af097d9",
        "colab": {
          "base_uri": "https://localhost:8080/",
          "height": 102
        }
      },
      "source": [
        "testing_source_files = os.listdir(testing_source_path)\n",
        "print(len(testing_source_files))\n",
        "training_source_files = os.listdir(training_source_path)\n",
        "print(len(training_source_files))\n",
        "\n",
        "# training_files = training_source_files\n",
        "\n",
        "fraction = 0.1\n",
        "\n",
        "nvalidation = int(len(training_source_files)*fraction)\n",
        "ntraining = len(training_source_files)-nvalidation\n",
        "\n",
        "validation_files = sample(training_source_files, nvalidation)\n",
        "training_files = sample(training_source_files, ntraining)\n",
        "testing_files = testing_source_files\n",
        "print(len(training_files))\n",
        "print(len(validation_files))\n",
        "print(len(testing_files))\n",
        "# validation_file = testing_source_files\n",
        "\n",
        "\n",
        "# print(len(validation_files))\n",
        "# validation_files"
      ],
      "execution_count": 28,
      "outputs": [
        {
          "output_type": "stream",
          "text": [
            "1000\n",
            "7000\n",
            "6300\n",
            "700\n",
            "1000\n"
          ],
          "name": "stdout"
        }
      ]
    },
    {
      "cell_type": "code",
      "metadata": {
        "id": "yJ9Y1oSuiqmn",
        "colab_type": "code",
        "outputId": "0a179e5f-bedb-453f-b54c-137dbce6ddf1",
        "colab": {
          "base_uri": "https://localhost:8080/",
          "height": 34
        }
      },
      "source": [
        "temp_df = df['Left-Fundus']\n",
        "len(temp_df)\n",
        "temp_df[12]\n",
        "temp_df = df['Right-Fundus']\n",
        "rightEyeKeywords[5]\n",
        "testing_files[1]\n",
        "\n",
        "temp_keywords = rightEyeKeywords\n",
        "temp_keywords[12]"
      ],
      "execution_count": 29,
      "outputs": [
        {
          "output_type": "execute_result",
          "data": {
            "text/plain": [
              "['retinal pigmentation']"
            ]
          },
          "metadata": {
            "tags": []
          },
          "execution_count": 29
        }
      ]
    },
    {
      "cell_type": "code",
      "metadata": {
        "id": "RoSPyiSlfhxy",
        "colab_type": "code",
        "colab": {
          "base_uri": "https://localhost:8080/",
          "height": 102
        },
        "outputId": "a5efd5b6-52e8-4583-cbb9-65c7ce03ac9c"
      },
      "source": [
        "notSortedFiles = []\n",
        "\"using continue because there are files have more than one diagnosis keys\"\n",
        "for fileName in training_files:\n",
        "  nrow = None\n",
        "  if 'left' in fileName:\n",
        "    temp_df = df['Left-Fundus']\n",
        "    temp_keywords = leftEyeKeywords\n",
        "  elif 'right' in fileName:\n",
        "    temp_df = df['Right-Fundus']\n",
        "    temp_keywords = rightEyeKeywords\n",
        "\n",
        "  for row in range(len(temp_df)):\n",
        "    if fileName == temp_df[row]:\n",
        "      nrow = row\n",
        "      break\n",
        "\n",
        "  if nrow == None:\n",
        "    # print(\"file not listed in data\")\n",
        "    shutil.copyfile(training_source_path+fileName, training_path+fileName)\n",
        "    continue\n",
        "\n",
        "  for i in temp_keywords[nrow]:\n",
        "    if i in keyNormal:\n",
        "      shutil.copyfile(training_source_path+fileName, training_path+'Normal/'+fileName)\n",
        "      continue\n",
        "    if i in keyDiabetes:\n",
        "      shutil.copyfile(training_source_path+fileName, training_path+'Diabetes/'+fileName)\n",
        "      continue\n",
        "    if i in keyGlaucoma:\n",
        "      shutil.copyfile(training_source_path+fileName, training_path+'Glaucoma/'+fileName)\n",
        "      continue\n",
        "    if i in keyCataract:\n",
        "      shutil.copyfile(training_source_path+fileName, training_path+'Cataract/'+fileName)\n",
        "      continue\n",
        "    if i in keyAMD:\n",
        "      shutil.copyfile(training_source_path+fileName, training_path+'AMD/'+fileName)\n",
        "      continue\n",
        "    if i in keyHypertension:\n",
        "      shutil.copyfile(training_source_path+fileName, training_path+'Hypertension/'+fileName)\n",
        "      continue\n",
        "    if i in keyMyopia:\n",
        "      shutil.copyfile(training_source_path+fileName, training_path+'Myopia/'+fileName)\n",
        "      continue\n",
        "    if i in keyOtherDisease:\n",
        "      shutil.copyfile(training_source_path+fileName, training_path+'Abnormalities/'+fileName)\n",
        "      continue\n",
        "    # else:\n",
        "    print(\"not in list key : \", \"| row : \", row, \"| file name : \", fileName, \"| key diagnosis : \", i)\n",
        "    notSortedFiles.append(fileName)\n",
        "    notSortedFiles=list(set(notSortedFiles))\n",
        "    # break\n",
        "    \n",
        "print(len(os.listdir('/content/sample_data/ODIR-5K/training/AMD')))\n",
        "print(len(os.listdir('/content/sample_data/ODIR-5K/training/Abnormalities')))\n",
        "print(len(os.listdir('/content/sample_data/ODIR-5K/training/Normal')))\n",
        "print(len(os.listdir('/content/sample_data/ODIR-5K/training/Cataract')))"
      ],
      "execution_count": 30,
      "outputs": [
        {
          "output_type": "stream",
          "text": [
            "not in list key :  | row :  1170 | file name :  1243_left.jpg | key diagnosis :  image offset\n",
            "247\n",
            "1083\n",
            "2906\n",
            "279\n"
          ],
          "name": "stdout"
        }
      ]
    },
    {
      "cell_type": "code",
      "metadata": {
        "id": "7x7QD90AeUHp",
        "colab_type": "code",
        "colab": {
          "base_uri": "https://localhost:8080/",
          "height": 85
        },
        "outputId": "3bbd6755-3ae0-4fe8-bbfc-728ec3ca726e"
      },
      "source": [
        "for fileName in validation_files:\n",
        "  nrow = None\n",
        "  if 'left' in fileName:\n",
        "    temp_df = df['Left-Fundus']\n",
        "    temp_keywords = leftEyeKeywords\n",
        "  elif 'right' in fileName:\n",
        "    temp_df = df['Right-Fundus']\n",
        "    temp_keywords = rightEyeKeywords\n",
        "\n",
        "  for row in range(len(temp_df)):\n",
        "    if fileName == temp_df[row]:\n",
        "      nrow = row\n",
        "      break\n",
        "\n",
        "  if nrow == None:\n",
        "    # print(\"file not listed in data\")\n",
        "    shutil.copyfile(training_source_path+fileName, validation_path+fileName)\n",
        "    continue\n",
        "\n",
        "  for i in temp_keywords[nrow]:\n",
        "    if i in keyNormal:\n",
        "      shutil.copyfile(training_source_path+fileName, validation_path+'Normal/'+fileName)\n",
        "      continue\n",
        "    if i in keyDiabetes:\n",
        "      shutil.copyfile(training_source_path+fileName, validation_path+'Diabetes/'+fileName)\n",
        "      continue\n",
        "    if i in keyGlaucoma:\n",
        "      shutil.copyfile(training_source_path+fileName, validation_path+'Glaucoma/'+fileName)\n",
        "      continue\n",
        "    if i in keyCataract:\n",
        "      shutil.copyfile(training_source_path+fileName, validation_path+'Cataract/'+fileName)\n",
        "      continue\n",
        "    if i in keyAMD:\n",
        "      shutil.copyfile(training_source_path+fileName, validation_path+'AMD/'+fileName)\n",
        "      continue\n",
        "    if i in keyHypertension:\n",
        "      shutil.copyfile(training_source_path+fileName, validation_path+'Hypertension/'+fileName)\n",
        "      continue\n",
        "    if i in keyMyopia:\n",
        "      shutil.copyfile(training_source_path+fileName, validation_path+'Myopia/'+fileName)\n",
        "      continue\n",
        "    if i in keyOtherDisease:\n",
        "      shutil.copyfile(training_source_path+fileName, validation_path+'Abnormalities/'+fileName)\n",
        "      continue\n",
        "    # break\n",
        "    print(\"not in list key : \", \"| row : \", row, \"| file name : \", fileName, \"| key diagnosis : \", i)\n",
        "    notSortedFiles.append(fileName)\n",
        "    notSortedFiles=list(set(notSortedFiles))\n",
        "\n",
        "print(len(os.listdir('/content/sample_data/ODIR-5K/validation/AMD')))\n",
        "print(len(os.listdir('/content/sample_data/ODIR-5K/validation/Abnormalities')))\n",
        "print(len(os.listdir('/content/sample_data/ODIR-5K/validation/Normal')))\n",
        "print(len(os.listdir('/content/sample_data/ODIR-5K/validation/Cataract')))"
      ],
      "execution_count": 31,
      "outputs": [
        {
          "output_type": "stream",
          "text": [
            "26\n",
            "119\n",
            "308\n",
            "34\n"
          ],
          "name": "stdout"
        }
      ]
    },
    {
      "cell_type": "code",
      "metadata": {
        "id": "qZDGXII8T0Tw",
        "colab_type": "code",
        "colab": {
          "base_uri": "https://localhost:8080/",
          "height": 102
        },
        "outputId": "ffec0d6d-b9bd-43f4-8c04-baa640b8503b"
      },
      "source": [
        "for fileName in testing_files:\n",
        "  nrow = None\n",
        "  if 'left' in fileName:\n",
        "    temp_df = df['Left-Fundus']\n",
        "    temp_keywords = leftEyeKeywords\n",
        "  if 'right' in fileName:\n",
        "    temp_df = df['Right-Fundus']\n",
        "    temp_keywords = rightEyeKeywords\n",
        "\n",
        "  for row in range(len(temp_df)):\n",
        "    if fileName == temp_df[row]:\n",
        "      nrow = row\n",
        "      break\n",
        "\n",
        "  if nrow == None:\n",
        "    # print(\"file not listed in data\")\n",
        "    shutil.copyfile(testing_source_path+fileName, testing_path+fileName)\n",
        "    continue\n",
        "\n",
        "  for i in temp_keywords[nrow]:\n",
        "    if i in keyNormal:\n",
        "      shutil.copyfile(testing_source_path+fileName, testing_path+'Normal/'+fileName)\n",
        "      continue\n",
        "    if i in keyDiabetes:\n",
        "      shutil.copyfile(testing_source_path+fileName, testing_path+'Diabetes/'+fileName)\n",
        "      continue\n",
        "    if i in keyGlaucoma:\n",
        "      shutil.copyfile(testing_source_path+fileName, testing_path+'Glaucoma/'+fileName)\n",
        "      continue\n",
        "    if i in keyCataract:\n",
        "      shutil.copyfile(testing_source_path+fileName, testing_path+'Cataract/'+fileName)\n",
        "      continue\n",
        "    if i in keyAMD:\n",
        "      shutil.copyfile(testing_source_path+fileName, testing_path+'AMD/'+fileName)\n",
        "      continue\n",
        "    if i in keyHypertension:\n",
        "      shutil.copyfile(testing_source_path+fileName, testing_path+'Hypertension/'+fileName)\n",
        "      continue\n",
        "    if i in keyMyopia:\n",
        "      shutil.copyfile(testing_source_path+fileName, testing_path+'Myopia/'+fileName)\n",
        "      continue\n",
        "    if i in keyOtherDisease:\n",
        "      shutil.copyfile(testing_source_path+fileName, testing_path+'Abnormalities/'+fileName)\n",
        "      continue\n",
        "    print(\"not in list key : \", \"| row : \", row, \"| file name : \", fileName, \"| key diagnosis : \", i)\n",
        "    notSortedFiles.append(fileName)\n",
        "    notSortedFiles=list(set(notSortedFiles))\n",
        "\n",
        "print(len(os.listdir('/content/sample_data/ODIR-5K/testing/AMD')))\n",
        "print(len(os.listdir('/content/sample_data/ODIR-5K/testing/Abnormalities')))\n",
        "print(len(os.listdir('/content/sample_data/ODIR-5K/testing/Normal')))\n",
        "print(len(os.listdir('/content/sample_data/ODIR-5K/testing/Cataract')))\n",
        "print(len(os.listdir('/content/sample_data/ODIR-5K/testing')))"
      ],
      "execution_count": 32,
      "outputs": [
        {
          "output_type": "stream",
          "text": [
            "0\n",
            "0\n",
            "0\n",
            "0\n",
            "1008\n"
          ],
          "name": "stdout"
        }
      ]
    },
    {
      "cell_type": "code",
      "metadata": {
        "id": "XevMb6eBZ-2H",
        "colab_type": "code",
        "colab": {
          "base_uri": "https://localhost:8080/",
          "height": 34
        },
        "outputId": "d41512c5-b998-4e46-e2f5-2d35b8136785"
      },
      "source": [
        "notSortedFiles"
      ],
      "execution_count": 33,
      "outputs": [
        {
          "output_type": "execute_result",
          "data": {
            "text/plain": [
              "['1243_left.jpg']"
            ]
          },
          "metadata": {
            "tags": []
          },
          "execution_count": 33
        }
      ]
    },
    {
      "cell_type": "code",
      "metadata": {
        "id": "4jkaeYrVT5Xl",
        "colab_type": "code",
        "colab": {
          "base_uri": "https://localhost:8080/",
          "height": 51
        },
        "outputId": "b714ac37-4dac-4eed-d1aa-fa55107fbb6e"
      },
      "source": [
        "dirList = os.listdir(training_path)\n",
        "countx = 0\n",
        "for i in dirList:\n",
        "  countx+=len(os.listdir(training_path+i))\n",
        "\n",
        "print(countx)\n",
        "\n",
        "len(os.listdir(training_source_path))"
      ],
      "execution_count": 34,
      "outputs": [
        {
          "output_type": "stream",
          "text": [
            "6868\n"
          ],
          "name": "stdout"
        },
        {
          "output_type": "execute_result",
          "data": {
            "text/plain": [
              "7000"
            ]
          },
          "metadata": {
            "tags": []
          },
          "execution_count": 34
        }
      ]
    },
    {
      "cell_type": "code",
      "metadata": {
        "id": "2Vq44LhceH0s",
        "colab_type": "code",
        "outputId": "ef83afb4-e4a9-40eb-abf9-37afbe5f1510",
        "colab": {
          "base_uri": "https://localhost:8080/",
          "height": 34
        }
      },
      "source": [
        "from PIL import Image\n",
        "\n",
        "cataractImageList = os.listdir(training_path+'Cataract')\n",
        "imagePath = training_path+'Cataract/'+cataractImageList[2]\n",
        "im = Image.open(imagePath)\n",
        "width, height = im.size\n",
        "print(width, height, \"from\", imagePath)\n",
        "\n",
        "# target_size = (int(height/16),int(width/16))\n",
        "target_size = (160, 270)"
      ],
      "execution_count": 35,
      "outputs": [
        {
          "output_type": "stream",
          "text": [
            "4288 2848 from /content/sample_data/ODIR-5K/training/Cataract/2231_right.jpg\n"
          ],
          "name": "stdout"
        }
      ]
    },
    {
      "cell_type": "code",
      "metadata": {
        "id": "GvjvUKcvff8I",
        "colab_type": "code",
        "outputId": "81da6869-9418-471c-d894-6b186cd40269",
        "colab": {
          "base_uri": "https://localhost:8080/",
          "height": 286
        }
      },
      "source": [
        "img = image.load_img(imagePath)\n",
        "plt.imshow(img)\n",
        "img = image.load_img(imagePath, target_size=target_size, interpolation=\"lanczos\")\n",
        "plt.imshow(img)"
      ],
      "execution_count": 36,
      "outputs": [
        {
          "output_type": "execute_result",
          "data": {
            "text/plain": [
              "<matplotlib.image.AxesImage at 0x7f5dd22fd5c0>"
            ]
          },
          "metadata": {
            "tags": []
          },
          "execution_count": 36
        },
        {
          "output_type": "display_data",
          "data": {
            "image/png": "[encoded data removed]",
            "text/plain": [
              "<Figure size 432x288 with 1 Axes>"
            ]
          },
          "metadata": {
            "tags": [],
            "needs_background": "light"
          }
        }
      ]
    },
    {
      "cell_type": "code",
      "metadata": {
        "id": "5apAHuSf0J3V",
        "colab_type": "code",
        "outputId": "88c36132-b3fb-42bb-fc28-3ca09108bd8b",
        "colab": {
          "base_uri": "https://localhost:8080/",
          "height": 51
        }
      },
      "source": [
        "train_datagen = ImageDataGenerator(\n",
        "                                  rescale = 1./255,\n",
        "                                  # zoom_range=0.2,\n",
        "                                  # rotation_range=40,\n",
        "                                  # horizontal_flip=True,\n",
        "                                  # width_shift_range=0.2,\n",
        "                                  # height_shift_range=0.2,\n",
        "                                  # shear_range=0.2,                                  \n",
        "                                  fill_mode='nearest',\n",
        "                                   \n",
        "                                  # featurewise_center=False,  # set input mean to 0 over the dataset\n",
        "                                  # samplewise_center=False,  # set each sample mean to 0\n",
        "                                  # featurewise_std_normalization=False,  # divide inputs by std of the dataset\n",
        "                                  # samplewise_std_normalization=False,  # divide each input by its std\n",
        "                                  # zca_whitening=False,  # apply ZCA whitening\n",
        "                                  # vertical_flip=False\n",
        "                                  )\n",
        "\n",
        "validation_datagen = ImageDataGenerator(\n",
        "                                        rescale = 1./255,\n",
        "                                        )\n",
        "\n",
        "train_generator = train_datagen.flow_from_directory(\n",
        "\ttraining_path,\n",
        "\ttarget_size=target_size,\n",
        "  interpolation=\"lanczos\",\n",
        "  # batch_size=126,\n",
        "\tclass_mode='categorical',\n",
        "  # color_mode='grayscale',\n",
        ")\n",
        "\n",
        "validation_generator = validation_datagen.flow_from_directory(\n",
        "\tvalidation_path,\n",
        "\ttarget_size=target_size,\n",
        "  interpolation=\"lanczos\",\n",
        "  # batch_size=14,\n",
        "\tclass_mode='categorical',  \n",
        "  # color_mode='grayscale',\n",
        ")"
      ],
      "execution_count": 37,
      "outputs": [
        {
          "output_type": "stream",
          "text": [
            "Found 6868 images belonging to 8 classes.\n",
            "Found 769 images belonging to 8 classes.\n"
          ],
          "name": "stdout"
        }
      ]
    },
    {
      "cell_type": "code",
      "metadata": {
        "id": "SgEGN8Kb0lqc",
        "colab_type": "code",
        "outputId": "1c7be284-7983-4a4c-eb3a-4edcdb5eba55",
        "colab": {
          "base_uri": "https://localhost:8080/",
          "height": 697
        }
      },
      "source": [
        "nEpoch = 25\n",
        "input_shape = target_size + (3,)\n",
        "learning_rate = 0.01\n",
        "optimizer = tf.keras.optimizers.SGD(learning_rate=learning_rate)\n",
        "\"\"\"\n",
        "#note:\n",
        "# adam optimizer fail : not reach local minimum, sometime increase accuracy, sometime decrease\n",
        "\n",
        "\"\"\"\n",
        "model = tf.keras.models.Sequential([\n",
        "    # The first convolution\n",
        "    tf.keras.layers.Conv2D(64, (3,3), activation='relu', input_shape=input_shape),\n",
        "    tf.keras.layers.MaxPooling2D(2, 2),\n",
        "    tf.keras.layers.BatchNormalization(),\n",
        "    # The second convolution\n",
        "    tf.keras.layers.Conv2D(64, (3,3), activation='relu'),\n",
        "    tf.keras.layers.MaxPooling2D(2,2),\n",
        "    tf.keras.layers.BatchNormalization(),\n",
        "    # The third convolution\n",
        "    tf.keras.layers.Conv2D(128, (3,3), activation='relu'),\n",
        "    tf.keras.layers.MaxPooling2D(2,2),\n",
        "    tf.keras.layers.BatchNormalization(),\n",
        "    # The fourth convolution\n",
        "    tf.keras.layers.Conv2D(128, (3,3), activation='relu'),\n",
        "    tf.keras.layers.MaxPooling2D(2,2),\n",
        "    tf.keras.layers.BatchNormalization(),\n",
        "\n",
        "    tf.keras.layers.Flatten(),\n",
        "    tf.keras.layers.Dense(512, activation='relu'),\n",
        "    tf.keras.layers.BatchNormalization(),\n",
        "    # tf.keras.layers.Dropout(0.2),\n",
        "    tf.keras.layers.Dense(8, activation='softmax')\n",
        "])\n",
        "\n",
        "model.summary()\n",
        "model.compile(loss = 'categorical_crossentropy', optimizer=optimizer, metrics=['accuracy'])"
      ],
      "execution_count": 38,
      "outputs": [
        {
          "output_type": "stream",
          "text": [
            "Model: \"sequential\"\n",
            "_________________________________________________________________\n",
            "Layer (type)                 Output Shape              Param #   \n",
            "=================================================================\n",
            "conv2d (Conv2D)              (None, 176, 266, 64)      1792      \n",
            "_________________________________________________________________\n",
            "max_pooling2d (MaxPooling2D) (None, 88, 133, 64)       0         \n",
            "_________________________________________________________________\n",
            "batch_normalization (BatchNo (None, 88, 133, 64)       256       \n",
            "_________________________________________________________________\n",
            "conv2d_1 (Conv2D)            (None, 86, 131, 64)       36928     \n",
            "_________________________________________________________________\n",
            "max_pooling2d_1 (MaxPooling2 (None, 43, 65, 64)        0         \n",
            "_________________________________________________________________\n",
            "batch_normalization_1 (Batch (None, 43, 65, 64)        256       \n",
            "_________________________________________________________________\n",
            "conv2d_2 (Conv2D)            (None, 41, 63, 128)       73856     \n",
            "_________________________________________________________________\n",
            "max_pooling2d_2 (MaxPooling2 (None, 20, 31, 128)       0         \n",
            "_________________________________________________________________\n",
            "batch_normalization_2 (Batch (None, 20, 31, 128)       512       \n",
            "_________________________________________________________________\n",
            "conv2d_3 (Conv2D)            (None, 18, 29, 128)       147584    \n",
            "_________________________________________________________________\n",
            "max_pooling2d_3 (MaxPooling2 (None, 9, 14, 128)        0         \n",
            "_________________________________________________________________\n",
            "batch_normalization_3 (Batch (None, 9, 14, 128)        512       \n",
            "_________________________________________________________________\n",
            "flatten (Flatten)            (None, 16128)             0         \n",
            "_________________________________________________________________\n",
            "dense (Dense)                (None, 512)               8258048   \n",
            "_________________________________________________________________\n",
            "batch_normalization_4 (Batch (None, 512)               2048      \n",
            "_________________________________________________________________\n",
            "dense_1 (Dense)              (None, 8)                 4104      \n",
            "=================================================================\n",
            "Total params: 8,525,896\n",
            "Trainable params: 8,524,104\n",
            "Non-trainable params: 1,792\n",
            "_________________________________________________________________\n"
          ],
          "name": "stdout"
        }
      ]
    },
    {
      "cell_type": "code",
      "metadata": {
        "id": "gj77a5VXrcaz",
        "colab_type": "code",
        "outputId": "d0175805-534e-4c1e-eea3-85a8a68530db",
        "colab": {
          "base_uri": "https://localhost:8080/",
          "height": 357
        }
      },
      "source": [
        "history = model.fit(train_generator, validation_data=validation_generator, \n",
        "                    epochs=10,\n",
        "                    # batch_size=128,\n",
        "                    steps_per_epoch=50,\n",
        "                    # verbose=1,\n",
        "                    # validation_steps = 10,\n",
        "                    )"
      ],
      "execution_count": 39,
      "outputs": [
        {
          "output_type": "stream",
          "text": [
            "Epoch 1/10\n",
            "50/50 [==============================] - 263s 5s/step - loss: 2.6188 - accuracy: 0.2281 - val_loss: 1.9120 - val_accuracy: 0.3992\n",
            "Epoch 2/10\n",
            "50/50 [==============================] - 263s 5s/step - loss: 1.9650 - accuracy: 0.3331 - val_loss: 2.0944 - val_accuracy: 0.1261\n",
            "Epoch 3/10\n",
            "50/50 [==============================] - 262s 5s/step - loss: 1.8375 - accuracy: 0.3406 - val_loss: 2.0901 - val_accuracy: 0.3381\n",
            "Epoch 4/10\n",
            "50/50 [==============================] - 260s 5s/step - loss: 1.7042 - accuracy: 0.3887 - val_loss: 2.0198 - val_accuracy: 0.4005\n",
            "Epoch 5/10\n",
            "50/50 [==============================] - 260s 5s/step - loss: 1.6099 - accuracy: 0.4081 - val_loss: 2.2779 - val_accuracy: 0.1743\n",
            "Epoch 6/10\n",
            "50/50 [==============================] - 258s 5s/step - loss: 1.5783 - accuracy: 0.4194 - val_loss: 1.8493 - val_accuracy: 0.3589\n",
            "Epoch 7/10\n",
            "50/50 [==============================] - 263s 5s/step - loss: 1.5194 - accuracy: 0.4431 - val_loss: 1.7826 - val_accuracy: 0.3719\n",
            "Epoch 8/10\n",
            "50/50 [==============================] - 264s 5s/step - loss: 1.4891 - accuracy: 0.4556 - val_loss: 1.7544 - val_accuracy: 0.3732\n",
            "Epoch 9/10\n",
            "50/50 [==============================] - 260s 5s/step - loss: 1.4673 - accuracy: 0.4450 - val_loss: 1.7038 - val_accuracy: 0.3927\n",
            "Epoch 10/10\n",
            "50/50 [==============================] - 263s 5s/step - loss: 1.4812 - accuracy: 0.4487 - val_loss: 1.5166 - val_accuracy: 0.4538\n"
          ],
          "name": "stdout"
        }
      ]
    },
    {
      "cell_type": "code",
      "metadata": {
        "id": "lnqXeinW10eJ",
        "colab_type": "code",
        "colab": {
          "base_uri": "https://localhost:8080/",
          "height": 298
        },
        "outputId": "eda7be82-dcd4-4895-ddd1-90c74cf9e88f"
      },
      "source": [
        "import matplotlib.pyplot as plt\n",
        "\n",
        "acc = history.history['accuracy']\n",
        "val_acc = history.history['val_accuracy']\n",
        "loss = history.history['loss']\n",
        "val_loss = history.history['val_loss']\n",
        "epochs_training = range(1, len(acc)+1)\n",
        "\n",
        "plt.plot(epochs_training, acc, 'r', label='Training accuracy')\n",
        "plt.plot(epochs_training, val_acc, 'y', label='Validation accuracy')\n",
        "plt.title('Training and validation accuracy')\n",
        "plt.legend(loc=0)\n",
        "plt.figure()\n",
        "\n",
        "plt.show()"
      ],
      "execution_count": 40,
      "outputs": [
        {
          "output_type": "display_data",
          "data": {
            "image/png": "[encoded data removed]",
            "text/plain": [
              "<Figure size 432x288 with 1 Axes>"
            ]
          },
          "metadata": {
            "tags": [],
            "needs_background": "light"
          }
        },
        {
          "output_type": "display_data",
          "data": {
            "text/plain": [
              "<Figure size 432x288 with 0 Axes>"
            ]
          },
          "metadata": {
            "tags": []
          }
        }
      ]
    },
    {
      "cell_type": "code",
      "metadata": {
        "id": "ESa5JCoU2BHC",
        "colab_type": "code",
        "colab": {
          "base_uri": "https://localhost:8080/",
          "height": 303
        },
        "outputId": "fa9250f7-38e5-46f5-ffd2-78a8e026701e"
      },
      "source": [
        "path = '/content/sample_data/ODIR-5K/testing/1037_left.jpg'\n",
        "img = image.load_img(path, target_size=target_size,)\n",
        "imgplot = plt.imshow(img)\n",
        "imgarray = image.img_to_array(img)\n",
        "imgarray = np.expand_dims(imgarray, axis=0)\n",
        "\n",
        "images = np.vstack([imgarray])\n",
        "classes = model.predict(images, batch_size=8)\n",
        "# probability_model = tf.keras.Sequential([model, tf.keras.layers.Softmax()])\n",
        "# classes = probability_model.predict(images,batch_size=10)\n",
        "print(\"file : \", path)\n",
        "print(\"predicted as : \", classes)"
      ],
      "execution_count": 43,
      "outputs": [
        {
          "output_type": "stream",
          "text": [
            "file :  /content/sample_data/ODIR-5K/testing/1037_left.jpg\n",
            "predicted as :  [[0. 0. 0. 0. 0. 0. 1. 0.]]\n"
          ],
          "name": "stdout"
        },
        {
          "output_type": "display_data",
          "data": {
            "image/png": "[encoded data removed]",
            "text/plain": [
              "<Figure size 432x288 with 1 Axes>"
            ]
          },
          "metadata": {
            "tags": [],
            "needs_background": "light"
          }
        }
      ]
    },
    {
      "cell_type": "code",
      "metadata": {
        "id": "nWjEzDyq955D",
        "colab_type": "code",
        "colab": {
          "base_uri": "https://localhost:8080/",
          "height": 34
        },
        "outputId": "084fca5f-52fa-4f50-8220-39b42b2f5cb8"
      },
      "source": [
        "test_dir = '/content/sample_data/ODIR-5K/testing/'\n",
        "\n",
        "print(len(os.listdir(test_dir)))\n",
        "\n",
        "# test_datagen = ImageDataGenerator(rescale=1./255)\n",
        "\n",
        "# test_generator = test_datagen.flow_from_directory(\n",
        "#         test_dir,\n",
        "#         target_size=target_size,\n",
        "#         color_mode=\"rgb\",\n",
        "#         shuffle = False,\n",
        "#         class_mode='categorical',\n",
        "#         batch_size=1)\n",
        "\n",
        "# filenames = test_generator.filenames\n",
        "# nb_samples = len(filenames)\n",
        "\n",
        "# predict = model.predict_generator(test_generator)\n",
        "# np.argmax(predict[0])\n",
        "# for i in range (500):\n",
        "#   print(np.argmax(predict[i]))"
      ],
      "execution_count": 44,
      "outputs": [
        {
          "output_type": "stream",
          "text": [
            "1008\n"
          ],
          "name": "stdout"
        }
      ]
    },
    {
      "cell_type": "code",
      "metadata": {
        "id": "AetcjTDfjeOf",
        "colab_type": "code",
        "colab": {}
      },
      "source": [
        "# dirList = os.listdir('/content/sample_data/ODIR-5K/testing/')\n",
        "# probability_model = tf.keras.Sequential([model, tf.keras.layers.Softmax()])\n",
        "# predictions = probability_model.predict(dirList[3])\n",
        "# dirList"
      ],
      "execution_count": 0,
      "outputs": []
    }
  ]
}